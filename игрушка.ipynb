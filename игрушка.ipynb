{
  "nbformat": 4,
  "nbformat_minor": 0,
  "metadata": {
    "colab": {
      "provenance": []
    },
    "kernelspec": {
      "name": "python3",
      "display_name": "Python 3"
    },
    "language_info": {
      "name": "python"
    }
  },
  "cells": [
    {
      "cell_type": "code",
      "execution_count": 5,
      "metadata": {
        "colab": {
          "base_uri": "https://localhost:8080/"
        },
        "id": "3_TmRFFVx2e_",
        "outputId": "e7e3f264-1564-4b85-f33a-dd4558c2614e"
      },
      "outputs": [
        {
          "output_type": "stream",
          "name": "stdout",
          "text": [
            "Угадай число от 1 до 100: 55\n",
            "Слишком мало! Давай еще)\n",
            "Угадай число от 1 до 100: 89\n",
            "Слишком много! Давай еще).\n",
            "Угадай число от 1 до 100: 70\n",
            "Слишком мало! Давай еще)\n",
            "Угадай число от 1 до 100: 75\n",
            "Поздравляю! Ты угадал число 75 за 4 попыток.\n"
          ]
        }
      ],
      "source": [
        "#делаем игрушку\n",
        "import random\n",
        "\n",
        "def game():\n",
        "    number_to_guess = random.randint(1, 100)\n",
        "    guess = None\n",
        "    tries = 0\n",
        "\n",
        "    while guess != number_to_guess:\n",
        "        guess = int(input(\"Угадай число от 1 до 100: \"))\n",
        "        tries += 1\n",
        "        if guess < number_to_guess:\n",
        "            print(\"Слишком мало! Давай еще)\")\n",
        "        elif guess > number_to_guess:\n",
        "            print(\"Слишком много! Давай еще).\")\n",
        "\n",
        "    print(f\"Поздравляю! Ты угадал число {number_to_guess} за {tries} попыток.\")\n",
        "\n",
        "if __name__ == \"__main__\":\n",
        "    game()"
      ]
    },
    {
      "cell_type": "code",
      "source": [],
      "metadata": {
        "id": "nYS3lHJJyk3O"
      },
      "execution_count": null,
      "outputs": []
    }
  ]
}
{
  "nbformat": 4,
  "nbformat_minor": 0,
  "metadata": {
    "colab": {
      "provenance": []
    },
    "kernelspec": {
      "name": "python3",
      "display_name": "Python 3"
    },
    "language_info": {
      "name": "python"
    }
  },
  "cells": [
    {
      "cell_type": "code",
      "source": [
        "!pip install pymorphy2"
      ],
      "metadata": {
        "colab": {
          "base_uri": "https://localhost:8080/"
        },
        "id": "lZkpAdzuRPjv",
        "outputId": "25429293-75b0-4e33-840b-432cab8ac551"
      },
      "execution_count": null,
      "outputs": [
        {
          "output_type": "stream",
          "name": "stdout",
          "text": [
            "Collecting pymorphy2\n",
            "  Downloading pymorphy2-0.9.1-py3-none-any.whl.metadata (3.6 kB)\n",
            "Collecting dawg-python>=0.7.1 (from pymorphy2)\n",
            "  Downloading DAWG_Python-0.7.2-py2.py3-none-any.whl.metadata (7.0 kB)\n",
            "Collecting pymorphy2-dicts-ru<3.0,>=2.4 (from pymorphy2)\n",
            "  Downloading pymorphy2_dicts_ru-2.4.417127.4579844-py2.py3-none-any.whl.metadata (2.1 kB)\n",
            "Collecting docopt>=0.6 (from pymorphy2)\n",
            "  Downloading docopt-0.6.2.tar.gz (25 kB)\n",
            "  Preparing metadata (setup.py) ... \u001b[?25l\u001b[?25hdone\n",
            "Downloading pymorphy2-0.9.1-py3-none-any.whl (55 kB)\n",
            "\u001b[2K   \u001b[90m━━━━━━━━━━━━━━━━━━━━━━━━━━━━━━━━━━━━━━━━\u001b[0m \u001b[32m55.5/55.5 kB\u001b[0m \u001b[31m2.5 MB/s\u001b[0m eta \u001b[36m0:00:00\u001b[0m\n",
            "\u001b[?25hDownloading DAWG_Python-0.7.2-py2.py3-none-any.whl (11 kB)\n",
            "Downloading pymorphy2_dicts_ru-2.4.417127.4579844-py2.py3-none-any.whl (8.2 MB)\n",
            "\u001b[2K   \u001b[90m━━━━━━━━━━━━━━━━━━━━━━━━━━━━━━━━━━━━━━━━\u001b[0m \u001b[32m8.2/8.2 MB\u001b[0m \u001b[31m38.6 MB/s\u001b[0m eta \u001b[36m0:00:00\u001b[0m\n",
            "\u001b[?25hBuilding wheels for collected packages: docopt\n",
            "  Building wheel for docopt (setup.py) ... \u001b[?25l\u001b[?25hdone\n",
            "  Created wheel for docopt: filename=docopt-0.6.2-py2.py3-none-any.whl size=13706 sha256=e597c9d0825f9de585e27489554451507e02178556e8cdba45a00c511c1bd95c\n",
            "  Stored in directory: /root/.cache/pip/wheels/fc/ab/d4/5da2067ac95b36618c629a5f93f809425700506f72c9732fac\n",
            "Successfully built docopt\n",
            "Installing collected packages: pymorphy2-dicts-ru, docopt, dawg-python, pymorphy2\n",
            "Successfully installed dawg-python-0.7.2 docopt-0.6.2 pymorphy2-0.9.1 pymorphy2-dicts-ru-2.4.417127.4579844\n"
          ]
        }
      ]
    },
    {
      "cell_type": "code",
      "execution_count": null,
      "metadata": {
        "id": "lqttjFw4RDb3"
      },
      "outputs": [],
      "source": [
        "import numpy as np\n",
        "import pandas as pd\n",
        "import pymorphy2\n",
        "import re\n",
        "import nltk\n",
        "import string\n",
        "from nltk.tokenize import word_tokenize\n",
        "from nltk.corpus import stopwords"
      ]
    },
    {
      "cell_type": "code",
      "source": [
        "\n",
        "nltk.download('punkt_tab')"
      ],
      "metadata": {
        "colab": {
          "base_uri": "https://localhost:8080/"
        },
        "id": "Langmhg6Wwid",
        "outputId": "963c36be-b47b-4d91-cc86-83929ac6937a"
      },
      "execution_count": null,
      "outputs": [
        {
          "output_type": "stream",
          "name": "stderr",
          "text": [
            "[nltk_data] Downloading package punkt_tab to /root/nltk_data...\n",
            "[nltk_data]   Unzipping tokenizers/punkt_tab.zip.\n"
          ]
        },
        {
          "output_type": "execute_result",
          "data": {
            "text/plain": [
              "True"
            ]
          },
          "metadata": {},
          "execution_count": 3
        }
      ]
    },
    {
      "cell_type": "code",
      "source": [
        "!wget https://www.dropbox.com/s/a9r0b2yj3vqvi13/banks.csv?dl=1 -O banks.csv"
      ],
      "metadata": {
        "colab": {
          "base_uri": "https://localhost:8080/"
        },
        "id": "4JULtQfKSnw9",
        "outputId": "1272ff5f-994c-446d-97df-7c57cb542911"
      },
      "execution_count": null,
      "outputs": [
        {
          "output_type": "stream",
          "name": "stdout",
          "text": [
            "--2024-12-15 18:50:01--  https://www.dropbox.com/s/a9r0b2yj3vqvi13/banks.csv?dl=1\n",
            "Resolving www.dropbox.com (www.dropbox.com)... 162.125.5.18, 2620:100:601d:18::a27d:512\n",
            "Connecting to www.dropbox.com (www.dropbox.com)|162.125.5.18|:443... connected.\n",
            "HTTP request sent, awaiting response... 302 Found\n",
            "Location: https://www.dropbox.com/scl/fi/nyh951wqn1z1widxpfb95/banks.csv?rlkey=61immj9awxn9ksaynazcavuv8&dl=1 [following]\n",
            "--2024-12-15 18:50:01--  https://www.dropbox.com/scl/fi/nyh951wqn1z1widxpfb95/banks.csv?rlkey=61immj9awxn9ksaynazcavuv8&dl=1\n",
            "Reusing existing connection to www.dropbox.com:443.\n",
            "HTTP request sent, awaiting response... 302 Found\n",
            "Location: https://uc56d83b643ca35f05dd9a72236a.dl.dropboxusercontent.com/cd/0/inline/CgUdCQ5D5VZVSk06EhsPdSo8s9JiOtO5_KxobCrfrc50H-x8iTNrIhMMOyw_lirQew_vHdLS_xqpAUwaMvGlco3HlCjOAIMTaH_gtTW_xJB0TszrBDBvBYaQ8d4jX_4mPzY/file?dl=1# [following]\n",
            "--2024-12-15 18:50:02--  https://uc56d83b643ca35f05dd9a72236a.dl.dropboxusercontent.com/cd/0/inline/CgUdCQ5D5VZVSk06EhsPdSo8s9JiOtO5_KxobCrfrc50H-x8iTNrIhMMOyw_lirQew_vHdLS_xqpAUwaMvGlco3HlCjOAIMTaH_gtTW_xJB0TszrBDBvBYaQ8d4jX_4mPzY/file?dl=1\n",
            "Resolving uc56d83b643ca35f05dd9a72236a.dl.dropboxusercontent.com (uc56d83b643ca35f05dd9a72236a.dl.dropboxusercontent.com)... 162.125.5.15, 2620:100:601d:15::a27d:50f\n",
            "Connecting to uc56d83b643ca35f05dd9a72236a.dl.dropboxusercontent.com (uc56d83b643ca35f05dd9a72236a.dl.dropboxusercontent.com)|162.125.5.15|:443... connected.\n",
            "HTTP request sent, awaiting response... 200 OK\n",
            "Length: 40746652 (39M) [application/binary]\n",
            "Saving to: ‘banks.csv’\n",
            "\n",
            "banks.csv           100%[===================>]  38.86M  65.3MB/s    in 0.6s    \n",
            "\n",
            "2024-12-15 18:50:03 (65.3 MB/s) - ‘banks.csv’ saved [40746652/40746652]\n",
            "\n"
          ]
        }
      ]
    },
    {
      "cell_type": "code",
      "source": [
        "!head banks.csv"
      ],
      "metadata": {
        "colab": {
          "base_uri": "https://localhost:8080/"
        },
        "id": "2vQDjv-dTwNF",
        "outputId": "47c937cc-5333-42e7-fffe-c361d72ec25a"
      },
      "execution_count": null,
      "outputs": [
        {
          "output_type": "stream",
          "name": "stdout",
          "text": [
            "idx\tScore\tText\n",
            "0\tPositive\tВ Альфа-Банке работает замечательная девушка - Ильясова Орна, вежливая, отзывчивая, действительно участвует в запросе клиента, я приходила к ней подряд ровно три дня, каждый день она помнила время моего прихода, помогла оформить кредит в размере 1млн рублей, когда я пришла с партнером (передавать ей полученный кредит за покупаемый мною авто), специалист Ильясова Орна помогла нам вывести всю сумму в один день (а это было непросто), так что сделка состоялась и все остались довольны! Моя знакомая в конце всего добавила: Теперь я  поняла, почему мы пришли в это отделение, к этой девушке..Побольше бы таких замечательных специалистов! Приобретать программу здоровье, и вообще все, что связано с Альфа-Банком, теперь буду только у нее!\n",
            "1\tNegative\tОформляя рассрочку в м. Видео в меге тёплый стан. Попросила менеджера, чтобы заявка была без страховки. В итоге, когда подписывала договор, в договоре оказались лишние почти 6 тысяч, когда менеджера стала спрашивать что это за 6 тысяч, она стала нервничать и говорить какую-то чушь про скидку. О том, что если я в течение трёх месяцев полностью закрою кредит, то у меня будет действовать скидка как раз в эти 6 тысяч. Я пыталась найти в договоре что-то про страховку, но в начале так ничего не нашла и посчитала, что и правда страховки нету. В итоге, когда через пару дней я более тщательно  и в спокойной обстановке полистала кредитный договор, нашла, что эти 6 тысяч и есть страховка, которую я просила не оформлять и на мои вопросы есть ли страховка, менеджер стал говорить, что страховки нету, а потом заговаривать зубы рассказывая зачем-то про свои якобы кредиты. Когда я пришла в банк, отстояв очередь почти в час, мне было сказано, что конечно я могу отказаться от страховки, но деньги мне не вернут, так как прошло более 5 дней. При том, что при оформлении кредита про 5 дней мне не было ничего сказано. А также условия участия в программе страхования на руки мне тоже не было выдано. Лишь только в пункте 14 стоит, что я ознакомлена.Замечательная работа менеджера которому надо спихнуть свою страховку и получить свой процент. Заговаривает, чтобы человек потерял бдительность, а потом делает что нужно. Конечно, перед подписанием документа нужно читать каждую запятую, но и менеджер должен быть более адекватным и на вопрос если ли здесь страховка и что эта за сумма, отвечать внятно, а не психовать и говорить я же вам объяснила про скидку.\n",
            "2\tPositive\tОчень порадовала оперативность работы в банке. Заказал через интернет карту visa classic, потребовалось подойти в банк для подписания заявления. В тот же день мне открыли текущий счет с доступом через интернет по услуге Альфа-клик, а в течении недели я должен был получить карту. Наученный Сбербанком ожидать обещанное, я удивился, когда карта и правда пришла вовремя, при этом выдали мне ее минут за 5, что опять же очень порадовало. Да и операторы Воронежского отделения на пр-те Революции оказались очень добродушными, проконсультировали по всем ситуациям, о которых я уточнял.После этого я захотел подключить услугу Альфа-мобайл, для управления счетом через телефон, но забыл свой логин. Позвонив по горячей линии, девушка мне подсказала и логин, и подключила услугу (без обращения в банк), выслала в sms ссылку на приложение, то есть сервис был на должном уровне!В настоящий момент я являюсь клиентом Московского индустриального банка, ВТБ 24 и Сбербанка, сотрудничество с последними 2мя полностью разочаровало, но это уже другая история...Единственное, что хотелось бы посоветовать, так это расширить клиентскую зону в отделении банка в г. Воронеж на пр-те Революции, а то совсем уж тесновато. \n",
            "3\tNegative\tИмела неосторожность оформить потреб. кредит в Альфа-банке - очень жалею. Во-первых, карту при оформлении кредита мне не выдали (объяснили тем, что их сейчас нет в наличии). Во-вторых, никакую информацию по телефону не предоставляют без карты - ВООБЩЕ БРЕД, отправляют в отд. банка. Скажите, а что делать тому, у кого нет поблизости отделения банка, а человеку необходимо проконсультироваться по кредиту?В общем, банку ОГРОМНЫЙ МИНУС за обслуживание клиентов во всех отношениях! Надеюсь, что расплачусь по кредиту и уж точно никогда отношений с этим банком иметь не буду!От администратора:  Когда и где оформляли кредит? По какому вопросу хотели получить консультацию?k@tuwk@:  Кредит оформлялся в Связном 16 июня. Хотелось получить информацию по поводу карты - нужна ли она мне? И меня больше интересует другой вопрос: если должны были выдать, но не выдали карты, то не может ей воспользоваться кто-то другой? И собственно когда оплачивать? Что-то по графику платежей не разберусь - в графике указана дата списания или рекомендованная дата оплаты?\n",
            "4\tNegative\tНебольшая предыстория: Нашел на сайте MDM банка интересную ко-бренд карту «Техносила – MDM банк», подал заявку на нее, и скоро позвонили с горячей линии. Предложили кредитную карту, на что я в принципе ответил, мне нужна дебетовая, но если не нужно будет справок, то можно и кредитную на всякий случай. Кредитную мне не одобрили, но сказали, что можно обратится в отделение банка для моментальной выдачи дебетовой карты (я специально уточнил у оператора про моментальную выдачу, потому что банк от меня далеко и ехать два раза туда мне не хотелось). Выбрал отделение ОО «Самарский» (к слову других у меня в городе нет), выбрал день для поездки после работы (режим работы отделения на сайте позволял мне приехать за 1.5 часа до закрытия), но решил подстраховаться позвонить, уточнить выдадут ли мне ее моментально. Но усилия мои были тщетны, по всем телефонам куда я попадал, все отсылали в отдел продаж, после переключения на который трубку никто не брал (раз 5 в течение дня). После работы (29 апреля 2016 года) поехал в отделение, и прибыл туда за 1 час 20 минут до закрытия. В отделении была очередь, передо мной было 2 человека, работало два сотрудника. Когда подошла моя очередь (это за час до конца рабочего дня) одна из сотрудниц спросила какой у меня вопрос, я рассказал про карту, она сказала, что ее рабочий день закончился и ушла, попросила обратиться ко второй. Я подождал когда подойдет моя очередь, это еще минут 20, т.к. клиент передо мной пыталась выяснить куда потеряли ее документы, а сотрудники говорили друг на друга, что они передали (один из ответов на вопрос «Почему ушедшая сотрудница сказала, что документы у Вас?) сотрудницы был: «Потому что конец рабочего дня и она хотела поскорее домой и разбираться она не захотела». После этого я подошел к сотруднице, рассказал, что хочу получить карту, на что она сказала, что для получения дебетовой карты нужна проверка 10 дней (в разрез информации с горячей линии), отксерила паспорт и ВСЕ. Никаких заявлений на выпуск, проверку и т.п. я не писал. На вопрос: «Почему вы отксерили мой паспорт, но даже не взяли с меня Разрешение на использование персональный данных?», ответ был прост: «Чтобы это сделать нужно было раньше приходить!» Я спросил номер телефона, по которому им можно позвонить, и мне дали визитку с именем «Б%%%%%рева Альбина С-на» и номером телефона, по которому я пытался весь день дозвониться и никто не брал трубки.Я был во многих банках и госучреждениях, видел разное отношение к клиентам, но такого отвратительного отношения в отделениях не встречал ни разу! 5 мая 2016года позвонила Альбина С-на и сказала, что дебетовая карта (тут она путалась несколько раз в названии карты, которую я хотел) мне не одобрена, но есть вариант получить её, если я оформлю у них страховку жизни. Честно говоря первый раз слышу, чтобы для получения дебетовой карты нужна была страховка жизни. Пришлось отказаться.P.S. Позвонил в контактный центр МДМ Банка. Там мне подтвердили, что карта оформляется бесплатно, без каких-либо страховок, в день обращения в банк (неименая). Так что считаю, что сотрудник просто-напросто меня обманывает.P.S. С контактного центра на сайте Банка на вопрос: «Как соотносится страхование моей жизни с возможностью выдачи карты?» Ответили немногословно: «Обращаем Ваше внимание, что Банк вправе отказать в выдаче дебетовой карты.». (Вообщем-то в этом я и не сомневался, но ответ на вопрос так и не получил).В итоге карты нет, потратил кучу времени, мнение о банке испорчено.\n",
            "5\tPositive\tВ конце февраля оформила кредитную карту банка Авангард в качестве страховки, на всякий непредвиденный случай, и уже тогда была удивлена скоростным и профессиональным обслуживанием в мини-офисе в Санкт-Петербурге, на Пражской ул., 48/50, ТРК Южный полюс . Вся процедура заняла 10-15 мин.По прошествии времени обнаружила нехватку депозитного счета для ощущения полноты свободы. Без всяких колебаний обратилась в тот же мини-офис, и на сей раз была просто потрясена!  Получила я не один, а шесть счетов - три депозита на разные валюты и три текущих, также на разные валюты, что, уверена, вскоре оценю как несомненные преимущества.Фантастика же заключалась в том, что я вышла из офиса счастливой обладательницей заветного депозита буквально через 10 минут благодаря оперативной работе сотрудника банка Локтионовой Анне Ивановне. Кстати, не была уверена, что 5 мая банки работают, но, в случае удачи, настроилась потратить времени раза в 2-3 больше. Счастлива и довольна. Viva Авангард!\n",
            "6\tNegative\tМесяц назад взял автокредит. До этого ходили по разным салонам Форд, присматривая машину. Исходил из конкретной суммы автомобиля и конкретного первоначального взноса. Во всех автосалонах навязывают именно кредит от Париба Восток, - мол, это выгоднее всего, самые льготные проценты. (Суммы будут сильно отличаться, - убеждают консультанты по кредитованию). При ОДИНАКОВЫХ исходных данных РАЗНЫЕ сотрудники банка, сидящие в салонах, рассчитывали кредит совершенно по разному! За 3 года насчитано было 60 тыс.руб, 90 тыс., и даже 180 тыс.! Консультант-продавец одного из салонов в ответ на мое возмущение по этому поводу сказал: Да там все такие девочки работают неграмотные, и они постоянно меняются. В результате купили машину, и при оформлении кредита нам в кредит включили страховку, даже не упомянув о ней! Да, наша вина есть: проведя в салоне после работы почти 5 часов, (очень долго всё оформляли), уже слабо что соображаешь, не стали читать весь договор от корки до корки. НО! сотрудница мало того, что даже не предупредила, не спросила, будем ли мы оплачивать эту страховку, она ее включила в кредит! Т.е. мы должны оплачивать в кредит не только машину, но и эту страховку. Позвонив позже другому кредитному специалисту этого банка, я узнал, что от страхования можно было просто отказаться, а если я все-таки хотел бы застраховать свои жизнь и здоровье, то по условиям кредитования Париба Восток я не могу оплатить страховку наличными, а должен взять ее только в кредит. Полный бред! Сейчас приходится заниматься расторжением договора со страховой компанией, тратить время и усилия. И главное: уже ПОСЛЕ покупки ради интереса я позвонил в салон и попросил мне рассчитать выплаты по кредиту у других банков (банк Санкт-Петербург, Абсолют), при тех же исходных параметрах. Они оказались на 500-600 рублей ниже, чем у Париба Восток - официального партнера Форд, о самых лучших  условиях кредитования которого вы услышите в любом автосалоне. Еще одна проблема - это оплата кредита. Специально завел карту Сбербанк он-лайн для этого. Несколько дней не мог сделать перечисление денег. Позвонил в Сбербанк, там проверили по номеру счета и сказали, что такой номер не обслуживается, т.е. перевод денег на него не допустим. Теперь, платя через разные терминалы, я еще и на процентах за перевод денег сколько потрачу. В общем, 100 раз пожалел, что связался с непонятно каким банком, поверив убеждениям непонятно каких его сотрудников. Всё надо самому тщательно проверять и взвешивать и кредит брать только у адекватных банков с давней историей.\n",
            "7\tNegative\tНе говоря про махинации с бонусами, остановлюсь на процентах по среднемесячному остатку средств на карте. Пару месяцев, усыпляя бдительность, начисляли правильно, согласно договору, по 6%. На третий месяц, вместо 6%, начислили 2%. В моем случае это потеря около 2-х тысяч в месяц, соответственно, порядка 25 000 рублей в год. Не очень большие деньги, тем более неприятно, что подобным крысятничеством занимается банк позиционирующий себя крупнейшим банком России, с высокой отдачей и персональной ответственностью за каждого клиента... По телефону проблема, естественно, не решилась. Пришлось убить время на хождение в офис, написание претензии. Учитывая полученные эмоции решил снять все, имеющиеся на карте, средства. Увы, так просто от них не уйти, теперь еще неделю, каждый день, нужно ходить по банкоматам, чтобы опустошить карту...\n",
            "8\tNegative\tДень добрый, моя мама С-на В.А.,1932г рождения, пенсионерка. Является клиентом Бинбанка. С октября 2015 года не может снять свою пенсию с карты, так как срок карты закончился и её необходимо перевыпустить. Я, С-ин Геннадий Алексеевич, её сын неоднократно с ней и без неё обращались в офис банка на ул. Никитинской (это в 2015г) после этот офис перевели в другое место, обращались в г.Воронеж, ул.Куцыгина, 32, помещение №4 там по разным предлогам карту не перевыпускали … отвечали, что то карт нет, то система не работает или ещё другую причину.Ей почти 84 года. неоднократно приходилось с ней и без неё приезжать в банк, но безрезультатно! 2 марта 2016г. мы с ней обратились в филиал по адресу г.Воронеж, ул.Генерала Лизюкова, д.23. Там так же нас отфутболили, сослались на то, что нет карт что бы перевыпустить! После того, как я попросил явиться старшего по филиалу, начали что-то предпринимать, сделали её фото и пообещали, что на следующей неделе вопрос решат. Но увы, прошла неделя, звонков не поступало, про нас и не подумали! Сегодня 22. 03. 2016г. я сам поехал в банк, но опять же вопрос не решили, сказали, что не работает система (ошибка в программном обеспечении) для меня это не удивительно! С банка звонил по горячей линии, вопрос не решен! Просил дать данные руководства банка, ответили таких данных не дают! Полнейший бардак! Не понятно куда обратиться!Без уважения к Вашему банку, С-кин Г.А. 8950***0237\n"
          ]
        }
      ]
    },
    {
      "cell_type": "code",
      "source": [
        "banks = pd.read_csv('banks.csv', sep='\\t', index_col='idx');"
      ],
      "metadata": {
        "id": "pE9SHZqAUFpL"
      },
      "execution_count": null,
      "outputs": []
    },
    {
      "cell_type": "code",
      "source": [
        "banks"
      ],
      "metadata": {
        "colab": {
          "base_uri": "https://localhost:8080/",
          "height": 455
        },
        "id": "HuhwYO-EU6BA",
        "outputId": "4c472968-81a9-4ab6-dd90-7119843f43c2"
      },
      "execution_count": null,
      "outputs": [
        {
          "output_type": "execute_result",
          "data": {
            "text/plain": [
              "          Score                                               Text\n",
              "idx                                                               \n",
              "0      Positive  В Альфа-Банке работает замечательная девушка -...\n",
              "1      Negative  Оформляя рассрочку в м. Видео в меге тёплый ст...\n",
              "2      Positive  Очень порадовала оперативность работы в банке....\n",
              "3      Negative  Имела неосторожность оформить потреб. кредит в...\n",
              "4      Negative  Небольшая предыстория: Нашел на сайте MDM банк...\n",
              "...         ...                                                ...\n",
              "13994  Positive  О высокой надёжности МКБ, порядочности и добро...\n",
              "13995  Positive  Обслуживаюсь в офисе на Чернореченской 42а, ка...\n",
              "13996  Positive  Попала сегодня в очень неприятную ситуацию. Ре...\n",
              "13997  Positive  Добрый день! Давно являюсь клиентом банка Русс...\n",
              "13998  Negative  Сначала было все банально. Взял в кредит mp3 п...\n",
              "\n",
              "[13999 rows x 2 columns]"
            ],
            "text/html": [
              "\n",
              "  <div id=\"df-793ca750-a627-49db-9baf-40e1b595c881\" class=\"colab-df-container\">\n",
              "    <div>\n",
              "<style scoped>\n",
              "    .dataframe tbody tr th:only-of-type {\n",
              "        vertical-align: middle;\n",
              "    }\n",
              "\n",
              "    .dataframe tbody tr th {\n",
              "        vertical-align: top;\n",
              "    }\n",
              "\n",
              "    .dataframe thead th {\n",
              "        text-align: right;\n",
              "    }\n",
              "</style>\n",
              "<table border=\"1\" class=\"dataframe\">\n",
              "  <thead>\n",
              "    <tr style=\"text-align: right;\">\n",
              "      <th></th>\n",
              "      <th>Score</th>\n",
              "      <th>Text</th>\n",
              "    </tr>\n",
              "    <tr>\n",
              "      <th>idx</th>\n",
              "      <th></th>\n",
              "      <th></th>\n",
              "    </tr>\n",
              "  </thead>\n",
              "  <tbody>\n",
              "    <tr>\n",
              "      <th>0</th>\n",
              "      <td>Positive</td>\n",
              "      <td>В Альфа-Банке работает замечательная девушка -...</td>\n",
              "    </tr>\n",
              "    <tr>\n",
              "      <th>1</th>\n",
              "      <td>Negative</td>\n",
              "      <td>Оформляя рассрочку в м. Видео в меге тёплый ст...</td>\n",
              "    </tr>\n",
              "    <tr>\n",
              "      <th>2</th>\n",
              "      <td>Positive</td>\n",
              "      <td>Очень порадовала оперативность работы в банке....</td>\n",
              "    </tr>\n",
              "    <tr>\n",
              "      <th>3</th>\n",
              "      <td>Negative</td>\n",
              "      <td>Имела неосторожность оформить потреб. кредит в...</td>\n",
              "    </tr>\n",
              "    <tr>\n",
              "      <th>4</th>\n",
              "      <td>Negative</td>\n",
              "      <td>Небольшая предыстория: Нашел на сайте MDM банк...</td>\n",
              "    </tr>\n",
              "    <tr>\n",
              "      <th>...</th>\n",
              "      <td>...</td>\n",
              "      <td>...</td>\n",
              "    </tr>\n",
              "    <tr>\n",
              "      <th>13994</th>\n",
              "      <td>Positive</td>\n",
              "      <td>О высокой надёжности МКБ, порядочности и добро...</td>\n",
              "    </tr>\n",
              "    <tr>\n",
              "      <th>13995</th>\n",
              "      <td>Positive</td>\n",
              "      <td>Обслуживаюсь в офисе на Чернореченской 42а, ка...</td>\n",
              "    </tr>\n",
              "    <tr>\n",
              "      <th>13996</th>\n",
              "      <td>Positive</td>\n",
              "      <td>Попала сегодня в очень неприятную ситуацию. Ре...</td>\n",
              "    </tr>\n",
              "    <tr>\n",
              "      <th>13997</th>\n",
              "      <td>Positive</td>\n",
              "      <td>Добрый день! Давно являюсь клиентом банка Русс...</td>\n",
              "    </tr>\n",
              "    <tr>\n",
              "      <th>13998</th>\n",
              "      <td>Negative</td>\n",
              "      <td>Сначала было все банально. Взял в кредит mp3 п...</td>\n",
              "    </tr>\n",
              "  </tbody>\n",
              "</table>\n",
              "<p>13999 rows × 2 columns</p>\n",
              "</div>\n",
              "    <div class=\"colab-df-buttons\">\n",
              "\n",
              "  <div class=\"colab-df-container\">\n",
              "    <button class=\"colab-df-convert\" onclick=\"convertToInteractive('df-793ca750-a627-49db-9baf-40e1b595c881')\"\n",
              "            title=\"Convert this dataframe to an interactive table.\"\n",
              "            style=\"display:none;\">\n",
              "\n",
              "  <svg xmlns=\"http://www.w3.org/2000/svg\" height=\"24px\" viewBox=\"0 -960 960 960\">\n",
              "    <path d=\"M120-120v-720h720v720H120Zm60-500h600v-160H180v160Zm220 220h160v-160H400v160Zm0 220h160v-160H400v160ZM180-400h160v-160H180v160Zm440 0h160v-160H620v160ZM180-180h160v-160H180v160Zm440 0h160v-160H620v160Z\"/>\n",
              "  </svg>\n",
              "    </button>\n",
              "\n",
              "  <style>\n",
              "    .colab-df-container {\n",
              "      display:flex;\n",
              "      gap: 12px;\n",
              "    }\n",
              "\n",
              "    .colab-df-convert {\n",
              "      background-color: #E8F0FE;\n",
              "      border: none;\n",
              "      border-radius: 50%;\n",
              "      cursor: pointer;\n",
              "      display: none;\n",
              "      fill: #1967D2;\n",
              "      height: 32px;\n",
              "      padding: 0 0 0 0;\n",
              "      width: 32px;\n",
              "    }\n",
              "\n",
              "    .colab-df-convert:hover {\n",
              "      background-color: #E2EBFA;\n",
              "      box-shadow: 0px 1px 2px rgba(60, 64, 67, 0.3), 0px 1px 3px 1px rgba(60, 64, 67, 0.15);\n",
              "      fill: #174EA6;\n",
              "    }\n",
              "\n",
              "    .colab-df-buttons div {\n",
              "      margin-bottom: 4px;\n",
              "    }\n",
              "\n",
              "    [theme=dark] .colab-df-convert {\n",
              "      background-color: #3B4455;\n",
              "      fill: #D2E3FC;\n",
              "    }\n",
              "\n",
              "    [theme=dark] .colab-df-convert:hover {\n",
              "      background-color: #434B5C;\n",
              "      box-shadow: 0px 1px 3px 1px rgba(0, 0, 0, 0.15);\n",
              "      filter: drop-shadow(0px 1px 2px rgba(0, 0, 0, 0.3));\n",
              "      fill: #FFFFFF;\n",
              "    }\n",
              "  </style>\n",
              "\n",
              "    <script>\n",
              "      const buttonEl =\n",
              "        document.querySelector('#df-793ca750-a627-49db-9baf-40e1b595c881 button.colab-df-convert');\n",
              "      buttonEl.style.display =\n",
              "        google.colab.kernel.accessAllowed ? 'block' : 'none';\n",
              "\n",
              "      async function convertToInteractive(key) {\n",
              "        const element = document.querySelector('#df-793ca750-a627-49db-9baf-40e1b595c881');\n",
              "        const dataTable =\n",
              "          await google.colab.kernel.invokeFunction('convertToInteractive',\n",
              "                                                    [key], {});\n",
              "        if (!dataTable) return;\n",
              "\n",
              "        const docLinkHtml = 'Like what you see? Visit the ' +\n",
              "          '<a target=\"_blank\" href=https://colab.research.google.com/notebooks/data_table.ipynb>data table notebook</a>'\n",
              "          + ' to learn more about interactive tables.';\n",
              "        element.innerHTML = '';\n",
              "        dataTable['output_type'] = 'display_data';\n",
              "        await google.colab.output.renderOutput(dataTable, element);\n",
              "        const docLink = document.createElement('div');\n",
              "        docLink.innerHTML = docLinkHtml;\n",
              "        element.appendChild(docLink);\n",
              "      }\n",
              "    </script>\n",
              "  </div>\n",
              "\n",
              "\n",
              "<div id=\"df-e034920a-955c-4561-94ea-f93f684c9ac7\">\n",
              "  <button class=\"colab-df-quickchart\" onclick=\"quickchart('df-e034920a-955c-4561-94ea-f93f684c9ac7')\"\n",
              "            title=\"Suggest charts\"\n",
              "            style=\"display:none;\">\n",
              "\n",
              "<svg xmlns=\"http://www.w3.org/2000/svg\" height=\"24px\"viewBox=\"0 0 24 24\"\n",
              "     width=\"24px\">\n",
              "    <g>\n",
              "        <path d=\"M19 3H5c-1.1 0-2 .9-2 2v14c0 1.1.9 2 2 2h14c1.1 0 2-.9 2-2V5c0-1.1-.9-2-2-2zM9 17H7v-7h2v7zm4 0h-2V7h2v10zm4 0h-2v-4h2v4z\"/>\n",
              "    </g>\n",
              "</svg>\n",
              "  </button>\n",
              "\n",
              "<style>\n",
              "  .colab-df-quickchart {\n",
              "      --bg-color: #E8F0FE;\n",
              "      --fill-color: #1967D2;\n",
              "      --hover-bg-color: #E2EBFA;\n",
              "      --hover-fill-color: #174EA6;\n",
              "      --disabled-fill-color: #AAA;\n",
              "      --disabled-bg-color: #DDD;\n",
              "  }\n",
              "\n",
              "  [theme=dark] .colab-df-quickchart {\n",
              "      --bg-color: #3B4455;\n",
              "      --fill-color: #D2E3FC;\n",
              "      --hover-bg-color: #434B5C;\n",
              "      --hover-fill-color: #FFFFFF;\n",
              "      --disabled-bg-color: #3B4455;\n",
              "      --disabled-fill-color: #666;\n",
              "  }\n",
              "\n",
              "  .colab-df-quickchart {\n",
              "    background-color: var(--bg-color);\n",
              "    border: none;\n",
              "    border-radius: 50%;\n",
              "    cursor: pointer;\n",
              "    display: none;\n",
              "    fill: var(--fill-color);\n",
              "    height: 32px;\n",
              "    padding: 0;\n",
              "    width: 32px;\n",
              "  }\n",
              "\n",
              "  .colab-df-quickchart:hover {\n",
              "    background-color: var(--hover-bg-color);\n",
              "    box-shadow: 0 1px 2px rgba(60, 64, 67, 0.3), 0 1px 3px 1px rgba(60, 64, 67, 0.15);\n",
              "    fill: var(--button-hover-fill-color);\n",
              "  }\n",
              "\n",
              "  .colab-df-quickchart-complete:disabled,\n",
              "  .colab-df-quickchart-complete:disabled:hover {\n",
              "    background-color: var(--disabled-bg-color);\n",
              "    fill: var(--disabled-fill-color);\n",
              "    box-shadow: none;\n",
              "  }\n",
              "\n",
              "  .colab-df-spinner {\n",
              "    border: 2px solid var(--fill-color);\n",
              "    border-color: transparent;\n",
              "    border-bottom-color: var(--fill-color);\n",
              "    animation:\n",
              "      spin 1s steps(1) infinite;\n",
              "  }\n",
              "\n",
              "  @keyframes spin {\n",
              "    0% {\n",
              "      border-color: transparent;\n",
              "      border-bottom-color: var(--fill-color);\n",
              "      border-left-color: var(--fill-color);\n",
              "    }\n",
              "    20% {\n",
              "      border-color: transparent;\n",
              "      border-left-color: var(--fill-color);\n",
              "      border-top-color: var(--fill-color);\n",
              "    }\n",
              "    30% {\n",
              "      border-color: transparent;\n",
              "      border-left-color: var(--fill-color);\n",
              "      border-top-color: var(--fill-color);\n",
              "      border-right-color: var(--fill-color);\n",
              "    }\n",
              "    40% {\n",
              "      border-color: transparent;\n",
              "      border-right-color: var(--fill-color);\n",
              "      border-top-color: var(--fill-color);\n",
              "    }\n",
              "    60% {\n",
              "      border-color: transparent;\n",
              "      border-right-color: var(--fill-color);\n",
              "    }\n",
              "    80% {\n",
              "      border-color: transparent;\n",
              "      border-right-color: var(--fill-color);\n",
              "      border-bottom-color: var(--fill-color);\n",
              "    }\n",
              "    90% {\n",
              "      border-color: transparent;\n",
              "      border-bottom-color: var(--fill-color);\n",
              "    }\n",
              "  }\n",
              "</style>\n",
              "\n",
              "  <script>\n",
              "    async function quickchart(key) {\n",
              "      const quickchartButtonEl =\n",
              "        document.querySelector('#' + key + ' button');\n",
              "      quickchartButtonEl.disabled = true;  // To prevent multiple clicks.\n",
              "      quickchartButtonEl.classList.add('colab-df-spinner');\n",
              "      try {\n",
              "        const charts = await google.colab.kernel.invokeFunction(\n",
              "            'suggestCharts', [key], {});\n",
              "      } catch (error) {\n",
              "        console.error('Error during call to suggestCharts:', error);\n",
              "      }\n",
              "      quickchartButtonEl.classList.remove('colab-df-spinner');\n",
              "      quickchartButtonEl.classList.add('colab-df-quickchart-complete');\n",
              "    }\n",
              "    (() => {\n",
              "      let quickchartButtonEl =\n",
              "        document.querySelector('#df-e034920a-955c-4561-94ea-f93f684c9ac7 button');\n",
              "      quickchartButtonEl.style.display =\n",
              "        google.colab.kernel.accessAllowed ? 'block' : 'none';\n",
              "    })();\n",
              "  </script>\n",
              "</div>\n",
              "\n",
              "  <div id=\"id_3c37acf0-7b8e-4fe8-a8bc-7ebe67520c38\">\n",
              "    <style>\n",
              "      .colab-df-generate {\n",
              "        background-color: #E8F0FE;\n",
              "        border: none;\n",
              "        border-radius: 50%;\n",
              "        cursor: pointer;\n",
              "        display: none;\n",
              "        fill: #1967D2;\n",
              "        height: 32px;\n",
              "        padding: 0 0 0 0;\n",
              "        width: 32px;\n",
              "      }\n",
              "\n",
              "      .colab-df-generate:hover {\n",
              "        background-color: #E2EBFA;\n",
              "        box-shadow: 0px 1px 2px rgba(60, 64, 67, 0.3), 0px 1px 3px 1px rgba(60, 64, 67, 0.15);\n",
              "        fill: #174EA6;\n",
              "      }\n",
              "\n",
              "      [theme=dark] .colab-df-generate {\n",
              "        background-color: #3B4455;\n",
              "        fill: #D2E3FC;\n",
              "      }\n",
              "\n",
              "      [theme=dark] .colab-df-generate:hover {\n",
              "        background-color: #434B5C;\n",
              "        box-shadow: 0px 1px 3px 1px rgba(0, 0, 0, 0.15);\n",
              "        filter: drop-shadow(0px 1px 2px rgba(0, 0, 0, 0.3));\n",
              "        fill: #FFFFFF;\n",
              "      }\n",
              "    </style>\n",
              "    <button class=\"colab-df-generate\" onclick=\"generateWithVariable('banks')\"\n",
              "            title=\"Generate code using this dataframe.\"\n",
              "            style=\"display:none;\">\n",
              "\n",
              "  <svg xmlns=\"http://www.w3.org/2000/svg\" height=\"24px\"viewBox=\"0 0 24 24\"\n",
              "       width=\"24px\">\n",
              "    <path d=\"M7,19H8.4L18.45,9,17,7.55,7,17.6ZM5,21V16.75L18.45,3.32a2,2,0,0,1,2.83,0l1.4,1.43a1.91,1.91,0,0,1,.58,1.4,1.91,1.91,0,0,1-.58,1.4L9.25,21ZM18.45,9,17,7.55Zm-12,3A5.31,5.31,0,0,0,4.9,8.1,5.31,5.31,0,0,0,1,6.5,5.31,5.31,0,0,0,4.9,4.9,5.31,5.31,0,0,0,6.5,1,5.31,5.31,0,0,0,8.1,4.9,5.31,5.31,0,0,0,12,6.5,5.46,5.46,0,0,0,6.5,12Z\"/>\n",
              "  </svg>\n",
              "    </button>\n",
              "    <script>\n",
              "      (() => {\n",
              "      const buttonEl =\n",
              "        document.querySelector('#id_3c37acf0-7b8e-4fe8-a8bc-7ebe67520c38 button.colab-df-generate');\n",
              "      buttonEl.style.display =\n",
              "        google.colab.kernel.accessAllowed ? 'block' : 'none';\n",
              "\n",
              "      buttonEl.onclick = () => {\n",
              "        google.colab.notebook.generateWithVariable('banks');\n",
              "      }\n",
              "      })();\n",
              "    </script>\n",
              "  </div>\n",
              "\n",
              "    </div>\n",
              "  </div>\n"
            ],
            "application/vnd.google.colaboratory.intrinsic+json": {
              "type": "dataframe",
              "variable_name": "banks",
              "summary": "{\n  \"name\": \"banks\",\n  \"rows\": 13999,\n  \"fields\": [\n    {\n      \"column\": \"idx\",\n      \"properties\": {\n        \"dtype\": \"number\",\n        \"std\": 4041,\n        \"min\": 0,\n        \"max\": 13998,\n        \"num_unique_values\": 13999,\n        \"samples\": [\n          2900,\n          3143,\n          8231\n        ],\n        \"semantic_type\": \"\",\n        \"description\": \"\"\n      }\n    },\n    {\n      \"column\": \"Score\",\n      \"properties\": {\n        \"dtype\": \"category\",\n        \"num_unique_values\": 2,\n        \"samples\": [\n          \"Negative\",\n          \"Positive\"\n        ],\n        \"semantic_type\": \"\",\n        \"description\": \"\"\n      }\n    },\n    {\n      \"column\": \"Text\",\n      \"properties\": {\n        \"dtype\": \"string\",\n        \"num_unique_values\": 13998,\n        \"samples\": [\n          \"\\u0420\\u0430\\u043d\\u0435\\u0435 \\u0443\\u0436\\u0435 \\u0412\\u0430\\u043c \\u043f\\u0438\\u0441\\u0430\\u043b\\u0430 \\u043e \\u0442\\u043e\\u043c, \\u0447\\u0442\\u043e \\u043c\\u043d\\u0435 \\u043d\\u0430\\u0433\\u043b\\u044b\\u043c \\u043e\\u0431\\u0440\\u0430\\u0437\\u043e\\u043c \\u0432\\u0441\\u0443\\u0447\\u0438\\u043b\\u0438 \\u0441\\u0442\\u0440\\u0430\\u0445\\u043e\\u0432\\u043a\\u0443 \\u043a\\u0440\\u0435\\u0434\\u0438\\u0442\\u0430.\\u00a0\\u0410\\u043b\\u043b\\u0438\\u043b\\u0443\\u0439\\u044f, \\u044f \\u0441\\u043c\\u043e\\u0433\\u043b\\u0430 \\u043e\\u0442 \\u043d\\u0435\\u0435 \\u043e\\u0442\\u043a\\u0430\\u0437\\u0430\\u0442\\u044c\\u0441\\u044f! \\u041c\\u043d\\u0435 \\u043d\\u0430 \\u043a\\u0440\\u0435\\u0434\\u0438\\u0442\\u043d\\u044b\\u0439 \\u0441\\u0447\\u0435\\u0442 \\u043f\\u0440\\u0438\\u0448\\u043b\\u043e 25 094,40\\u0440. \\u041f\\u043e\\u043d\\u044f\\u0442\\u043d\\u043e\\u0435 \\u0434\\u0435\\u043b\\u043e, \\u044f \\u0441\\u0440\\u0430\\u0437\\u0443 \\u0436\\u0435 \\u043e\\u0431\\u0440\\u0430\\u0442\\u0438\\u043b\\u0430\\u0441\\u044c \\u0432 \\u043e\\u0442\\u0434\\u0435\\u043b\\u0435\\u043d\\u0438\\u0435, \\u0447\\u0442\\u043e\\u0431\\u044b \\u043c\\u043d\\u0435 \\u0441\\u0434\\u0435\\u043b\\u0430\\u043b\\u0438 \\u0447\\u0430\\u0441\\u0442\\u0438\\u0447\\u043d\\u043e \\u0434\\u043e\\u0441\\u0440\\u043e\\u0447\\u043d\\u043e\\u0435 \\u043f\\u043e\\u0433\\u0430\\u0448\\u0435\\u043d\\u0438\\u0435 \\u0441 \\u0441\\u043e\\u043a\\u0440\\u0430\\u0449\\u0435\\u043d\\u0438\\u0435\\u043c \\u0441\\u0440\\u043e\\u043a\\u0430 \\u043f\\u043b\\u0430\\u0442\\u0435\\u0436\\u0430. \\u0412 \\u0414\\u041e \\u041e\\u0442\\u0440\\u0430\\u0434\\u043d\\u043e\\u0435 \\u043c\\u0435\\u043d\\u044f \\u043e\\u0431\\u0441\\u043b\\u0443\\u0436\\u0438\\u0432\\u0430\\u043b \\u0441\\u043f\\u0435\\u0446\\u0438\\u0430\\u043b\\u0438\\u0441\\u0442 \\u0420-\\u0438\\u043d\\u0430 \\u0410.\\u0421. 22.10.2015 \\u043e\\u043d\\u0430 \\u043e\\u0444\\u043e\\u0440\\u043c\\u0438\\u043b\\u0430 \\u043c\\u043d\\u0435 \\u0437\\u0430\\u044f\\u0432\\u043b\\u0435\\u043d\\u0438\\u0435 \\u043d\\u0430 \\u0447\\u0430\\u0441\\u0442\\u0438\\u0447\\u043d\\u043e \\u0434\\u043e\\u0441\\u0440\\u043e\\u0447\\u043d\\u043e\\u0435 \\u043f\\u043e\\u0433\\u0430\\u0448\\u0435\\u043d\\u0438\\u0435 \\u043d\\u0430 \\u0441\\u0443\\u043c\\u043c\\u0443 25 094,40\\u0440 \\u0438 \\u0441\\u043a\\u0430\\u0437\\u0430\\u043b\\u0430 \\u043f\\u0440\\u0438\\u0439\\u0442\\u0438 \\u0432 \\u0434\\u0435\\u043d\\u044c \\u043c\\u043e\\u0435\\u0433\\u043e \\u043f\\u043b\\u0430\\u0442\\u0435\\u0436\\u0430 \\u043f\\u043e\\u043b\\u0443\\u0447\\u0438\\u0442\\u044c \\u043d\\u043e\\u0432\\u044b\\u0439 \\u0433\\u0440\\u0430\\u0444\\u0438\\u043a \\u043f\\u043b\\u0430\\u0442\\u0435\\u0436\\u0435\\u0439. (\\u0421\\u043a\\u0430\\u043d \\u0437\\u0430\\u044f\\u0432\\u043b\\u0435\\u043d\\u0438\\u044f \\u044f \\u043c\\u043e\\u0433\\u0443 \\u043f\\u0440\\u0435\\u0434\\u043e\\u0441\\u0442\\u0430\\u0432\\u0438\\u0442\\u044c \\u0441 \\u0435\\u0435 \\u0436\\u0435 \\u043f\\u0435\\u0447\\u0430\\u0442\\u044c\\u044e.) \\u0412 \\u0438\\u0442\\u043e\\u0433\\u0435 23.11.2015, \\u043a\\u043e\\u0433\\u0434\\u0430 \\u044f \\u043f\\u0440\\u0438\\u0448\\u043b\\u0430 \\u0432 \\u043e\\u0442\\u0434\\u0435\\u043b\\u0435\\u043d\\u0438\\u0435 \\u0431\\u0430\\u043d\\u043a\\u0430, \\u0442\\u043e \\u0441\\u043f\\u0435\\u0446\\u0438\\u0430\\u043b\\u0438\\u0441\\u0442 \\u043f\\u043e \\u0438\\u043c\\u0435\\u043d\\u0438 \\u0421\\u043e\\u043b\\u043e\\u043c\\u043e\\u043d \\u0441\\u043a\\u0430\\u0437\\u0430\\u043b, \\u0447\\u0442\\u043e \\u0437\\u0430\\u044f\\u0432\\u043b\\u0435\\u043d\\u0438\\u0435 \\u043d\\u0435 \\u0431\\u044b\\u043b\\u043e \\u043e\\u0444\\u043e\\u0440\\u043c\\u043b\\u0435\\u043d\\u043e. \\u042f \\u043e\\u0444\\u043e\\u0440\\u043c\\u0438\\u043b\\u0430 \\u043f\\u0440\\u0435\\u0442\\u0435\\u043d\\u0437\\u0438\\u044e N 1511231999 \\u043e\\u0442 23.11.2015, \\u0432 \\u0438\\u0442\\u043e\\u0433\\u0435 26.11.2015 \\u043c\\u043d\\u0435 \\u043f\\u0440\\u0438\\u0448\\u0435\\u043b \\u043e\\u0442\\u043a\\u0430\\u0437. \\u042f \\u0441\\u0435\\u0439\\u0447\\u0430\\u0441 \\u043f\\u043e\\u044f\\u0441\\u043d\\u044e \\u043c\\u043e\\u0435 \\u043d\\u0435\\u0434\\u043e\\u0432\\u043e\\u043b\\u044c\\u0441\\u0442\\u0432\\u043e: \\u0441\\u043c\\u043e\\u0442\\u0440\\u0438\\u043c \\u043c\\u043e\\u0439 \\u0433\\u0440\\u0430\\u0444\\u0438\\u043a \\u043f\\u043b\\u0430\\u0442\\u0435\\u0436\\u0435\\u0439 - 17.11.15 - \\u0435\\u0436. \\u043f\\u043b. 5 910, \\u0433\\u0434\\u0435 \\u0434\\u043e\\u043b\\u0433 - 2 795.99, \\u0430 % 3 114,01. \\u041f\\u043e \\u0444\\u0430\\u043a\\u0442\\u0443 \\u0438\\u0437 \\u0441\\u0443\\u043c\\u043c\\u044b 25 094,40\\u0440 - 5 910 = 19 184,40 - \\u0434\\u0430\\u043d\\u043d\\u0430\\u044f \\u0441\\u0443\\u043c\\u043c\\u0430 \\u0434\\u043e\\u043b\\u0436\\u043d\\u0430 \\u0431\\u044b\\u043b\\u0430 \\u0443\\u043f\\u0430\\u0441\\u0442\\u044c \\u0432 \\u043f\\u043e\\u0433\\u0430\\u0448\\u0435\\u043d\\u0438\\u0435 \\u043e\\u0441\\u043d\\u043e\\u0432\\u043d\\u043e\\u0433\\u043e \\u0434\\u043e\\u043b\\u0433\\u0430 \\u0438 \\u0441\\u043e\\u043a\\u0440\\u0430\\u0442\\u0438\\u0442\\u044c \\u044d\\u0442\\u0438\\u043c \\u0441\\u0430\\u043c\\u044b\\u043c \\u043c\\u043d\\u0435 \\u0441\\u0440\\u043e\\u043a \\u0441 24 \\u043c\\u0435\\u0441. \\u0434\\u043e 17 \\u043c\\u0435\\u0441. \\u0410 \\u0427\\u0422\\u041e \\u041c\\u042b \\u0412 \\u0418\\u0422\\u041e\\u0413\\u0415 \\u041f\\u041e\\u041b\\u0423\\u0427\\u0410\\u0415\\u041c? \\u0411\\u0430\\u043d\\u043a \\u043e\\u0442\\u043a\\u0430\\u0437\\u0430\\u043b\\u0441\\u044f \\u0432 \\u0438\\u0441\\u043f\\u0440\\u0430\\u0432\\u043b\\u0435\\u043d\\u0438\\u0438 \\u0441\\u0432\\u043e\\u0438\\u0445 \\u043e\\u0448\\u0438\\u0431\\u043e\\u043a. \\u042f \\u043f\\u0440\\u043e\\u0441\\u0438\\u043b\\u0430 \\u0443\\u0441\\u0442\\u0440\\u043e\\u0438\\u0442\\u044c \\u043c\\u043d\\u0435 \\u043f\\u0435\\u0440\\u0435\\u0440\\u0430\\u0441\\u0447\\u0435\\u0442, \\u0442\\u0430\\u043a \\u043a\\u0430\\u043a \\u0435\\u0441\\u043b\\u0438 \\u0432 \\u043d\\u044b\\u043d\\u0435\\u0448\\u043d\\u0435\\u0439 \\u0441\\u0438\\u0442\\u0443\\u0430\\u0446\\u0438\\u0438 \\u044f \\u0441\\u0434\\u0435\\u043b\\u0430\\u044e \\u0447\\u0430\\u0441\\u0442\\u0438\\u0447\\u043d\\u043e \\u0434\\u043e\\u0441\\u0440\\u043e\\u0447\\u043d\\u043e\\u0435 \\u043f\\u043e\\u0433\\u0430\\u0448\\u0435\\u043d\\u0438\\u0435, \\u0442\\u043e \\u044d\\u0442\\u043e \\u0443\\u0436\\u0435 \\u0431\\u0443\\u0434\\u0435\\u0442 \\u0441 \\u0441\\u0443\\u043c\\u043c\\u044b 19 184,40 - \\u0427\\u0423\\u0412\\u0421\\u0422\\u0412\\u0423\\u0415\\u0422\\u0415 \\u0420\\u0410\\u0417\\u041d\\u0418\\u0426\\u0423? \\u0422.\\u0435. \\u043c\\u043e\\u0439 \\u0432\\u0442\\u043e\\u0440\\u043e\\u0439 \\u043f\\u043b\\u0430\\u0442\\u0435\\u0436 17.12.15 - \\u0435\\u0436. \\u043f\\u043b. - 5910, \\u0433\\u0434\\u0435 \\u0434\\u043e\\u043b\\u0433 - 2 981 \\u0438 % 2 928, 52 (\\u0438\\u043c\\u0435\\u043d\\u043d\\u043e \\u044d\\u0442\\u0438 % \\u0434\\u043e\\u043b\\u0436\\u043d\\u044b \\u0431\\u044b\\u043b\\u0438 \\u0441\\u0433\\u043e\\u0440\\u0435\\u0442\\u044c \\u043f\\u0440\\u0438 \\u043c\\u043e\\u0435\\u043c \\u0437\\u0430\\u044f\\u0432\\u043b\\u0435\\u043d\\u0438\\u0435 \\u043e\\u0442 22.10.2015, \\u0430 \\u044d\\u0442\\u043e \\u043e\\u0437\\u043d\\u0430\\u0447\\u0430\\u0435\\u0442, \\u0447\\u0442\\u043e \\u0431\\u0430\\u043d\\u043a \\u0438\\u0445 \\u0441\\u0432\\u043e\\u0435\\u0432\\u043e\\u043b\\u044c\\u043d\\u043e \\u0443\\u0434\\u0435\\u0440\\u0436\\u0430\\u043b). \\u0412\\u043e\\u0442 \\u043f\\u0440\\u0435\\u0434\\u0441\\u0442\\u0430\\u0432\\u0438\\u043c \\u0441\\u0438\\u0442\\u0443\\u0430\\u0446\\u0438\\u044e, \\u0447\\u0442\\u043e \\u044f \\u0442\\u0430\\u043a\\u0430\\u044f \\u0432 \\u0441\\u0438\\u0441\\u0442\\u0435\\u043c\\u0435 \\u043d\\u0435 \\u043e\\u0434\\u043d\\u0430 \\u0438, \\u043d\\u0430\\u043f\\u0440\\u0438\\u043c\\u0435\\u0440, \\u0434\\u043b\\u044f 100 \\u0447\\u0435\\u043b\\u043e\\u0432\\u0435\\u043a \\u043e\\u043d \\u0442\\u0430\\u043a\\u0443\\u044e \\u0436\\u0435 \\u0441\\u0445\\u0435\\u043c\\u0443 \\u043f\\u0440\\u043e\\u0432\\u0435\\u043b, \\u0432 \\u0438\\u0442\\u043e\\u0433\\u0435 \\u0437\\u0430\\u0440\\u0430\\u0431\\u043e\\u0442\\u0430\\u043b \\u043b\\u0438\\u0448\\u043d\\u0438\\u0435 292 852 \\u0437\\u0430 \\u043e\\u0434\\u0438\\u043d \\u043f\\u043b\\u0430\\u0442\\u0435\\u0436. \\u0411\\u0430\\u043d\\u043a-\\u0442\\u043e \\u0431\\u043e\\u043b\\u044c\\u0448\\u043e\\u0439, \\u043a\\u043b\\u0438\\u0435\\u043d\\u0442\\u043e\\u0432 \\u0443 \\u043d\\u0435\\u0433\\u043e \\u043c\\u043d\\u043e\\u0433\\u043e. \\u0410 \\u0447\\u0442\\u043e \\u0435\\u0441\\u043b\\u0438 \\u0441\\u0438\\u0441\\u0442\\u0435\\u043c\\u0430 \\u043d\\u0435 \\u0434\\u043b\\u044f 100 \\u0447\\u0435\\u043b\\u043e\\u0432\\u0435\\u043a \\u043e\\u0442\\u043a\\u0430\\u0437\\u0430\\u043b\\u0430, \\u0430 \\u0434\\u043b\\u044f 1000 \\u0438\\u043b\\u0438 \\u0431\\u043e\\u043b\\u0435\\u0435? \\u042f \\u0431\\u044b \\u0432\\u043e\\u0437\\u043c\\u043e\\u0436\\u043d\\u043e \\u0436\\u0438\\u0440\\u0443 \\u043d\\u0435 \\u0431\\u0435\\u0441\\u0438\\u043b\\u0430\\u0441\\u044c, \\u0435\\u0441\\u043b\\u0438 \\u0431\\u044b 4-\\u0439 \\u0440\\u0430\\u0437 \\u043d\\u0430 \\u0410\\u043b\\u044c\\u0444\\u0430 \\u0431\\u0430\\u043d\\u043a \\u043d\\u0435 \\u043f\\u0438\\u0441\\u0430\\u043b\\u0430, \\u0442\\u0430\\u043a \\u043a\\u0430\\u043a \\u043e\\u043d \\u0434\\u0438\\u043a\\u043e \\u043a\\u043e\\u0441\\u044f\\u0447\\u0438\\u0442: \\u043a\\u0440\\u0435\\u0434\\u0438\\u0442 \\u043d\\u0430 \\u043c\\u043e\\u0435 \\u0438\\u043c\\u044f \\u0431\\u0435\\u0437 \\u0434\\u043e\\u043a\\u043e\\u0432 \\u043e\\u0444\\u043e\\u0440\\u043c\\u0438\\u0442, \\u0441\\u043c\\u0441 \\u0442\\u0435\\u0442\\u0435 \\u043f\\u0440\\u0438\\u0441\\u044b\\u043b\\u0430\\u043b \\u043e\\u0431 \\u043f\\u043b\\u0430\\u0442\\u0435\\u0436\\u0430\\u0445, \\u0445\\u043e\\u0442\\u044f \\u043e\\u043d\\u0430 \\u0442\\u043e\\u043b\\u044c\\u043a\\u043e \\u043f\\u0440\\u0438\\u0435\\u0445\\u0430\\u043b\\u0430 \\u0441 \\u0423\\u043a\\u0440\\u0430\\u0438\\u043d\\u044b, \\u0441\\u0442\\u0440\\u0430\\u0445\\u043e\\u0432\\u043a\\u0443 \\u0432\\u043f\\u0430\\u0440\\u0438\\u0442, \\u043d\\u0435 \\u043f\\u0440\\u0438\\u043d\\u0438\\u043c\\u0430\\u0435\\u0442 \\u043f\\u043b\\u0430\\u0442\\u0435\\u0436\\u0438... \\u0427\\u0442\\u043e \\u0434\\u0430\\u043b\\u044c\\u0448\\u0435?\",\n          \"\\u0423\\u0436\\u0435 \\u0431\\u043e\\u043b\\u0435\\u0435 \\u0433\\u043e\\u0434\\u0430 \\u043d\\u0430\\u0437\\u0430\\u0434 \\u0434\\u0435\\u043b\\u0430\\u043b \\u0432\\u043a\\u043b\\u0430\\u0434 \\u0432 \\u0420\\u0435\\u043d\\u0435\\u0441\\u0441\\u0430\\u043d\\u0441 \\u041a\\u0440\\u0435\\u0434\\u0438\\u0442 \\u043d\\u0430 6 \\u043c\\u0435\\u0441\\u044f\\u0446\\u0435\\u0432, \\u043f\\u0440\\u0438\\u0447\\u0435\\u043c \\u0441\\u0443\\u043c\\u043c\\u0430 \\u0431\\u044b\\u043b\\u0430 \\u043e\\u0447\\u0435\\u043d\\u044c \\u043d\\u0435\\u0431\\u043e\\u043b\\u044c\\u0448\\u0430\\u044f, \\u0432\\u0441\\u0435\\u0433\\u043e 30000 \\u0440. \\u0421\\u0440\\u043e\\u043a \\u0432\\u043a\\u043b\\u0430\\u0434\\u0430 \\u043e\\u043a\\u043e\\u043d\\u0447\\u0438\\u043b\\u0441\\u044f, \\u0434\\u0435\\u043d\\u044c\\u0433\\u0438 \\u0441 \\u043f\\u0440\\u043e\\u0446\\u0435\\u043d\\u0442\\u0430\\u043c\\u0438 \\u043f\\u043e\\u043b\\u0443\\u0447\\u0438\\u043b, \\u0432\\u0441\\u0435 \\u043e\\u0441\\u0442\\u0430\\u043b\\u0438\\u0441\\u044c \\u0434\\u043e\\u0432\\u043e\\u043b\\u044c\\u043d\\u044b.\\u0418 \\u0432\\u0434\\u0440\\u0443\\u0433, \\u043f\\u0430\\u0440\\u0443 \\u043d\\u0435\\u0434\\u0435\\u043b\\u044c \\u043d\\u0430\\u0437\\u0430\\u0434, \\u043f\\u043e\\u043b\\u0443\\u0447\\u0430\\u044e \\u0437\\u0432\\u043e\\u043d\\u043e\\u043a \\u0438\\u0437 \\u0420\\u041a, \\u0432 \\u043a\\u043e\\u0442\\u043e\\u0440\\u043e\\u043c \\u043c\\u043d\\u0435 \\u043f\\u0440\\u0435\\u0434\\u043b\\u0430\\u0433\\u0430\\u044e\\u0442 \\u043a\\u0430\\u043a \\u043f\\u043e\\u0441\\u0442\\u043e\\u044f\\u043d\\u043d\\u043e\\u043c\\u0443 \\u043a\\u043b\\u0438\\u0435\\u043d\\u0442\\u0443 (!!!, \\u0443\\u0447\\u0438\\u0442\\u044b\\u0432\\u0430\\u044f \\u0432\\u044b\\u0448\\u0435\\u0443\\u043a\\u0430\\u0437\\u0430\\u043d\\u043d\\u044b\\u0435 \\u043e\\u0431\\u0441\\u0442\\u043e\\u044f\\u0442\\u0435\\u043b\\u044c\\u0441\\u0442\\u0432\\u0430) \\u0437\\u0430\\u043a\\u043b\\u044e\\u0447\\u0438\\u0442\\u044c \\u043d\\u043e\\u0432\\u044b\\u0439 \\u0434\\u043e\\u0433\\u043e\\u0432\\u043e\\u0440 \\u0432\\u043a\\u043b\\u0430\\u0434\\u0430 \\u043d\\u0430 \\u043b\\u044c\\u0433\\u043e\\u0442\\u043d\\u044b\\u0445 \\u0443\\u0441\\u043b\\u043e\\u0432\\u0438\\u044f\\u0445. \\u041f\\u0440\\u0438\\u0437\\u043d\\u0430\\u0442\\u044c\\u0441\\u044f, \\u0432\\u043a\\u043b\\u0430\\u0434 \\u041d\\u0430\\u043a\\u043e\\u043f\\u0438\\u0442\\u0435\\u043b\\u044c\\u043d\\u044b\\u0439 \\u0438 \\u0441\\u0430\\u043c \\u043f\\u043e \\u0441\\u0435\\u0431\\u0435 \\u0434\\u043e\\u0432\\u043e\\u043b\\u044c\\u043d\\u043e \\u0432\\u044b\\u0433\\u043e\\u0434\\u0435\\u043d \\u0438 \\u0443\\u0434\\u043e\\u0431\\u0435\\u043d, \\u0438 \\u044f \\u0443\\u0436\\u0435 \\u043f\\u043e\\u0434\\u0443\\u043c\\u044b\\u0432\\u0430\\u043b \\u043d\\u0435 \\u0434\\u043e\\u0432\\u0435\\u0440\\u0438\\u0442\\u044c \\u043b\\u0438 \\u0420\\u0435\\u043d\\u0435\\u0441\\u0441\\u0430\\u043d\\u0441\\u0443 \\u043c\\u043e\\u0438 \\u0434\\u0435\\u043d\\u044c\\u0433\\u0438 \\u0435\\u0449\\u0435 \\u0440\\u0430\\u0437. \\u041d\\u043e \\u043f\\u043e\\u0441\\u043b\\u0435 \\u0441\\u0442\\u043e\\u043b\\u044c \\u043b\\u0435\\u0441\\u0442\\u043d\\u043e\\u0433\\u043e \\u043f\\u0440\\u0435\\u0434\\u043b\\u043e\\u0436\\u0435\\u043d\\u0438\\u044f \\u043a\\u0430\\u043a \\u0443\\u0432\\u0435\\u043b\\u0438\\u0447\\u0435\\u043d\\u0438\\u0435 \\u043f\\u0440\\u043e\\u0446\\u0435\\u043d\\u0442\\u043d\\u043e\\u0439 \\u0441\\u0442\\u0430\\u0432\\u043a\\u0438 \\u0441\\u043f\\u0435\\u0446\\u0438\\u0430\\u043b\\u044c\\u043d\\u043e \\u0434\\u043b\\u044f \\u043c\\u0435\\u043d\\u044f \\u0435\\u0449\\u0435 \\u043d\\u0430 0,5% \\u0433\\u043e\\u0434\\u043e\\u0432\\u044b\\u0445 \\u043f\\u043b\\u044e\\u0441 \\u043f\\u043e\\u043b\\u0443\\u0447\\u0435\\u043d\\u0438\\u0435 \\u0441\\u0442\\u0440\\u0430\\u0445\\u043e\\u0432\\u043a\\u0438 \\u0436\\u0438\\u0437\\u043d\\u0438 \\u0432 \\u043f\\u043e\\u0434\\u0430\\u0440\\u043e\\u043a, \\u043e\\u0442\\u043a\\u0430\\u0437\\u0430\\u0442\\u044c\\u0441\\u044f \\u0443\\u0436\\u0435 \\u0431\\u044b\\u043b\\u043e \\u043f\\u0440\\u043e\\u0441\\u0442\\u043e \\u043d\\u0435\\u0432\\u0435\\u0436\\u043b\\u0438\\u0432\\u043e \\u0438 \\u043d\\u0435\\u0440\\u0430\\u0437\\u0443\\u043c\\u043d\\u043e. \\u041f\\u0440\\u0435\\u0434\\u0432\\u0430\\u0440\\u0438\\u0442\\u0435\\u043b\\u044c\\u043d\\u043e \\u0434\\u043e\\u0433\\u043e\\u0432\\u043e\\u0440\\u0438\\u043b\\u0438\\u0441\\u044c \\u043e\\u0431 \\u0443\\u0434\\u043e\\u0431\\u043d\\u043e\\u043c \\u043c\\u043d\\u0435 \\u0432\\u0440\\u0435\\u043c\\u0435\\u043d\\u0438 \\u0432\\u0438\\u0437\\u0438\\u0442\\u0430, \\u043d\\u0430 \\u043f\\u044f\\u0442\\u043d\\u0438\\u0446\\u0443 11 \\u043d\\u043e\\u044f\\u0431\\u0440\\u044f \\u0441 15 \\u0434\\u043e 16 \\u0447\\u0430\\u0441\\u043e\\u0432. \\u0412 \\u043f\\u044f\\u0442\\u043d\\u0438\\u0446\\u0443 \\u043c\\u043e\\u0438 \\u043e\\u0431\\u0441\\u0442\\u043e\\u044f\\u0442\\u0435\\u043b\\u044c\\u0441\\u0442\\u0432\\u0430 \\u043d\\u0435\\u0441\\u043a\\u043e\\u043b\\u044c\\u043a\\u043e \\u0438\\u0437\\u043c\\u0435\\u043d\\u0438\\u043b\\u0438\\u0441\\u044c, \\u043f\\u043e\\u0437\\u0432\\u043e\\u043d\\u0438\\u043b \\u043f\\u043e \\u0431\\u0435\\u0441\\u043f\\u043b\\u0430\\u0442\\u043d\\u043e\\u0439 \\u043b\\u0438\\u043d\\u0438\\u0438 \\u0432 \\u0420\\u041a, \\u043f\\u043e\\u043f\\u0440\\u043e\\u0441\\u0438\\u043b \\u043f\\u0435\\u0440\\u0435\\u043d\\u0435\\u0441\\u0442\\u0438 \\u0432\\u0440\\u0435\\u043c\\u044f \\u043f\\u043e\\u0441\\u0435\\u0449\\u0435\\u043d\\u0438\\u044f \\u0441 15 \\u043d\\u0430 12 \\u0447\\u0430\\u0441\\u043e\\u0432, \\u043f\\u0435\\u0440\\u0435\\u043d\\u0435\\u0441\\u043b\\u0438 \\u0431\\u0435\\u0437 \\u043f\\u0440\\u043e\\u0431\\u043b\\u0435\\u043c. \\u041d\\u043e \\u0441\\u0430\\u043c\\u043e\\u0435 \\u043f\\u0440\\u0438\\u044f\\u0442\\u043d\\u043e\\u0435 \\u0432\\u043f\\u0435\\u0447\\u0430\\u0442\\u043b\\u0435\\u043d\\u0438\\u0435, \\u043c\\u043e\\u0436\\u043d\\u043e \\u0434\\u0430\\u0436\\u0435 \\u0441\\u043a\\u0430\\u0437\\u0430\\u0442\\u044c \\u043a\\u0443\\u043b\\u044c\\u0442\\u0443\\u0440\\u043d\\u044b\\u0439 \\u0448\\u043e\\u043a (\\u043f\\u0440\\u0438\\u044f\\u0442\\u043d\\u044b\\u0439 \\u0448\\u043e\\u043a ) \\u043f\\u0440\\u043e\\u0438\\u0437\\u0432\\u0435\\u043b\\u0430 \\u043d\\u0430 \\u043c\\u0435\\u043d\\u044f \\u0440\\u0430\\u0431\\u043e\\u0442\\u0430 \\u043d\\u0430\\u0448\\u0435\\u0433\\u043e \\u0418\\u0432\\u0430\\u043d\\u043e\\u0432\\u0441\\u043a\\u043e\\u0433\\u043e \\u043e\\u0442\\u0434\\u0435\\u043b\\u0435\\u043d\\u0438\\u044f \\u0420\\u041a \\u043d\\u0430 \\u0443\\u043b.\\u041a\\u0430\\u043b\\u0438\\u043d\\u0438\\u043d\\u0430! \\u0422\\u0435\\u043c \\u0431\\u043e\\u043b\\u0435\\u0435 \\u0431\\u044b\\u043b\\u043e \\u0441 \\u0447\\u0435\\u043c \\u0441\\u0440\\u0430\\u0432\\u043d\\u0438\\u0432\\u0430\\u0442\\u044c. \\u041f\\u043e \\u0438\\u0440\\u043e\\u043d\\u0438\\u0438 \\u0441\\u0443\\u0434\\u044c\\u0431\\u044b, \\u043d\\u0435 \\u0431\\u043e\\u043b\\u0435\\u0435 \\u0447\\u0435\\u043c \\u043c\\u0435\\u0441\\u044f\\u0446 \\u043d\\u0430\\u0437\\u0430\\u0434 \\u0434\\u043e\\u0432\\u0435\\u043b\\u043e\\u0441\\u044c \\u043f\\u043e\\u0441\\u0435\\u0442\\u0438\\u0442\\u044c \\u043e\\u0442\\u0434\\u0435\\u043b\\u0435\\u043d\\u0438\\u0435 \\u0420\\u0443\\u0441\\u0441\\u043a\\u043e\\u0433\\u043e \\u0441\\u0442\\u0430\\u043d\\u0434\\u0430\\u0440\\u0442\\u0430, \\u0440\\u0430\\u0441\\u043f\\u043e\\u043b\\u043e\\u0436\\u0435\\u043d\\u043d\\u043e\\u0435 \\u0431\\u0443\\u043a\\u0432\\u0430\\u043b\\u044c\\u043d\\u043e \\u0432 \\u0441\\u043e\\u0441\\u0435\\u0434\\u043d\\u0435\\u043c \\u0437\\u0434\\u0430\\u043d\\u0438\\u0438. \\u041f\\u0440\\u043e\\u0441\\u0442\\u043e \\u043d\\u0435\\u0431\\u043e \\u0438 \\u0437\\u0435\\u043c\\u043b\\u044f!\\u041b\\u0438\\u0448\\u043d\\u0438\\u0439 \\u043f\\u043e\\u0432\\u043e\\u0434 \\u0443\\u0431\\u0435\\u0434\\u0438\\u0442\\u044c\\u0441\\u044f, \\u0447\\u0442\\u043e \\u0440\\u0430\\u0437\\u043c\\u0435\\u0440 \\u043e\\u0444\\u0438\\u0441\\u0430 \\u0438 \\u0440\\u0430\\u0441\\u043a\\u0440\\u0443\\u0447\\u0435\\u043d\\u043d\\u043e\\u0441\\u0442\\u044c \\u0431\\u0440\\u0435\\u043d\\u0434\\u0430 \\u043e\\u0431\\u0440\\u0430\\u0442\\u043d\\u043e \\u043f\\u0440\\u043e\\u043f\\u043e\\u0440\\u0446\\u0438\\u043e\\u043d\\u0430\\u043b\\u044c\\u043d\\u044b \\u043a\\u0430\\u0447\\u0435\\u0441\\u0442\\u0432\\u0443 \\u043e\\u0431\\u0441\\u043b\\u0443\\u0436\\u0438\\u0432\\u0430\\u043d\\u0438\\u044f! \\u0415\\u0441\\u043b\\u0438 \\u0432 \\u0411\\u0420\\u0421 \\u043f\\u043e \\u0430\\u043d\\u0430\\u043b\\u043e\\u0433\\u0438\\u0447\\u043d\\u043e\\u043c\\u0443 \\u0432\\u043e\\u043f\\u0440\\u043e\\u0441\\u0443 \\u043f\\u0440\\u0438\\u0448\\u043b\\u043e\\u0441\\u044c \\u043f\\u0440\\u043e\\u0442\\u043e\\u0440\\u0447\\u0430\\u0442\\u044c \\u043f\\u043e\\u043b\\u0442\\u043e\\u0440\\u0430 \\u0447\\u0430\\u0441\\u0430, \\u0432\\u0434\\u043e\\u0432\\u043e\\u043b\\u044c \\u043d\\u0430\\u0441\\u043c\\u043e\\u0442\\u0440\\u0435\\u0432\\u0448\\u0438\\u0441\\u044c \\u043d\\u0430 \\u0438\\u0445 \\u0432\\u0430\\u043b\\u044c\\u044f\\u0436\\u043d\\u044b\\u0445 \\u043c\\u0430\\u043d\\u0430\\u0433\\u0435\\u0440\\u043e\\u0432, \\u043a\\u043e\\u0442\\u043e\\u0440\\u044b\\u0435 \\u043d\\u0435\\u0441\\u043c\\u043e\\u0442\\u0440\\u044f \\u043d\\u0430 \\u043e\\u0447\\u0435\\u0440\\u0435\\u0434\\u044c \\u0438\\u0437 \\u043a\\u043b\\u0438\\u0435\\u043d\\u0442\\u043e\\u0432, \\u0432\\u0434\\u0440\\u0443\\u0433 \\u0440\\u0435\\u0448\\u0430\\u043b\\u0438 \\u0443\\u0439\\u0442\\u0438 \\u043d\\u0430 \\u043f\\u0435\\u0440\\u0435\\u043a\\u0443\\u0441/\\u043f\\u0435\\u0440\\u0435\\u043a\\u0443\\u0440, \\u043f\\u0440\\u0438\\u0447\\u0435\\u043c \\u043d\\u0435 \\u043f\\u043e\\u043e\\u0434\\u0438\\u043d\\u043e\\u0447\\u043a\\u0435, \\u0432\\u0438\\u0434\\u0438\\u043c\\u043e \\u0447\\u0442\\u043e\\u0431 \\u043d\\u0435 \\u0441\\u043a\\u0443\\u0447\\u043d\\u043e \\u0431\\u044b\\u043b\\u043e. \\u0414\\u0430 \\u0438 \\u0442\\u0435, \\u043a\\u0442\\u043e \\u0440\\u0430\\u0431\\u043e\\u0442\\u0430\\u043b\\u0438, \\u043d\\u0435 \\u0441\\u043b\\u0438\\u0448\\u043a\\u043e\\u043c \\u0441\\u043f\\u0435\\u0448\\u0438\\u043b\\u0438. \\u0412 \\u043e\\u0431\\u0449\\u0435\\u043c, \\u0431\\u044b\\u043b\\u043e \\u0441\\u0438\\u043b\\u044c\\u043d\\u043e\\u0435 \\u0436\\u0435\\u043b\\u0430\\u043d\\u0438\\u0435 \\u043f\\u043b\\u044e\\u043d\\u0443\\u0442\\u044c \\u0438 \\u0443\\u0439\\u0442\\u0438 \\u0441 \\u0438\\u0437\\u0432\\u0438\\u043d\\u0435\\u043d\\u0438\\u044f\\u043c\\u0438 \\u0437\\u0430 \\u0442\\u043e, \\u0447\\u0442\\u043e \\u043f\\u043e\\u0431\\u0435\\u0441\\u043f\\u043e\\u043a\\u043e\\u0438\\u043b \\u0441\\u0442\\u043e\\u043b\\u044c \\u0440\\u0435\\u0441\\u043f\\u0435\\u043a\\u0442\\u0430\\u0431\\u0435\\u043b\\u044c\\u043d\\u0443\\u044e \\u043f\\u0443\\u0431\\u043b\\u0438\\u043a\\u0443 \\u0441\\u0432\\u043e\\u0438\\u043c \\u043d\\u0438\\u043a\\u0447\\u0435\\u043c\\u043d\\u044b\\u043c \\u0432\\u0438\\u0437\\u0438\\u0442\\u043e\\u043c.\\u0412 \\u043e\\u0442\\u0434\\u0435\\u043b\\u0435\\u043d\\u0438\\u0438 \\u0436\\u0435 \\u0420\\u0435\\u043d\\u0435\\u0441\\u0441\\u0430\\u043d\\u0441\\u0430 (\\u0442\\u0430\\u043a \\u0438 \\u0445\\u043e\\u0447\\u0435\\u0442\\u0441\\u044f \\u0441\\u043a\\u0430\\u0437\\u0430\\u0442\\u044c \\u0432 \\u043e\\u0442\\u0434\\u0435\\u043b\\u0435\\u043d\\u044c\\u0438\\u0446\\u0435, \\u043f\\u043e \\u0441\\u0440\\u0430\\u0432\\u043d\\u0435\\u043d\\u0438\\u044e \\u0441 \\u0431\\u0430\\u0440\\u0441\\u0442\\u0432\\u0443\\u044e\\u0449\\u0438\\u043c \\u0411\\u0420\\u0421 ) \\u043f\\u0440\\u044f\\u043c\\u043e \\u0443 \\u0432\\u0445\\u043e\\u0434\\u0430 \\u0432\\u0441\\u0435\\u0445 \\u0432\\u0441\\u0442\\u0440\\u0435\\u0447\\u0430\\u043b\\u0430 \\u044e\\u043d\\u0430\\u044f \\u0438 \\u0445\\u0440\\u0443\\u043f\\u043a\\u0430\\u044f \\u0441\\u043e\\u0442\\u0440\\u0443\\u0434\\u043d\\u0438\\u0446\\u0430 (\\u043a \\u0441\\u0432\\u043e\\u0435\\u043c\\u0443 \\u0441\\u0442\\u044b\\u0434\\u0443, \\u043d\\u0435 \\u043f\\u043e\\u0438\\u043d\\u0442\\u0435\\u0440\\u0435\\u0441\\u043e\\u0432\\u0430\\u043b\\u0441\\u044f \\u0435\\u0435 \\u0438\\u043c\\u0435\\u043d\\u0435\\u043c), \\u043a\\u043e\\u0442\\u043e\\u0440\\u0430\\u044f \\u0441 \\u0432\\u0435\\u0436\\u043b\\u0438\\u0432\\u043e \\u0438 \\u044d\\u043d\\u0435\\u0440\\u0433\\u0438\\u0447\\u043d\\u043e \\u0440\\u0430\\u0437\\u0440\\u0443\\u043b\\u0438\\u0432\\u0430\\u043b\\u0430 \\u043d\\u0430 \\u043b\\u0435\\u0442\\u0443 \\u0432\\u0441\\u0435 \\u043f\\u0440\\u043e\\u0431\\u043b\\u0435\\u043c\\u044b \\u043a\\u043b\\u0438\\u0435\\u043d\\u0442\\u043e\\u0432, \\u0437\\u0430\\u043f\\u0438\\u0441\\u044b\\u0432\\u0430\\u043b\\u0430 \\u0438 \\u0441\\u043b\\u0435\\u0434\\u0438\\u043b\\u0430 \\u0437\\u0430 \\u043e\\u0447\\u0435\\u0440\\u0435\\u0434\\u044c\\u044e \\u0432 \\u0437\\u0430\\u0432\\u0438\\u0441\\u0438\\u043c\\u043e\\u0441\\u0442\\u0438 \\u043e\\u0442 \\u0446\\u0435\\u043b\\u0438 \\u0432\\u0438\\u0437\\u0438\\u0442\\u0430, \\u0441\\u0430\\u043c\\u0430 \\u0431\\u0435\\u0433\\u0430\\u043b\\u0430 \\u0432 \\u043a\\u0430\\u0441\\u0441\\u0443, \\u0447\\u0442\\u043e\\u0431\\u044b \\u0440\\u0430\\u0437\\u043c\\u0435\\u043d\\u044f\\u0442\\u044c \\u0438\\u043c \\u043a\\u0443\\u043f\\u044e\\u0440\\u044b, \\u043f\\u043e\\u043c\\u043e\\u0433\\u0430\\u043b\\u0430 \\u0440\\u0430\\u0437\\u0431\\u0438\\u0440\\u0430\\u0442\\u044c\\u0441\\u044f \\u0441 \\u043f\\u043b\\u0430\\u0442\\u0435\\u0436\\u043d\\u044b\\u043c \\u0442\\u0435\\u0440\\u043c\\u0438\\u043d\\u0430\\u043b\\u043e\\u043c \\u0438 \\u0442.\\u0434. \\u041e\\u0434\\u043d\\u0438\\u043c \\u0441\\u043b\\u043e\\u0432\\u043e\\u043c - \\u0432\\u044b\\u0441\\u0448\\u0438\\u0439 \\u043f\\u0438\\u043b\\u043e\\u0442\\u0430\\u0436! \\u041c\\u0435\\u043d\\u044f \\u043e\\u043d\\u0430, \\u043d\\u0435\\u0441\\u043c\\u043e\\u0442\\u0440\\u044f \\u043d\\u0430 \\u043e\\u043f\\u043e\\u0437\\u0434\\u0430\\u043d\\u0438\\u0435, \\u0441\\u0440\\u0430\\u0437\\u0443 \\u0436\\u0435 \\u043e\\u0442\\u043c\\u0435\\u0442\\u0438\\u043b\\u0430 \\u043a\\u0430\\u043a \\u043f\\u0440\\u0438\\u043e\\u0440\\u0438\\u0442\\u0435\\u0442\\u043d\\u043e\\u0433\\u043e \\u043a\\u043b\\u0438\\u0435\\u043d\\u0442\\u0430, \\u043e\\u0431\\u0435\\u0449\\u0430\\u043b\\u0430 \\u0441\\u0440\\u0430\\u0437\\u0443 \\u043f\\u0440\\u043e\\u0432\\u043e\\u0434\\u0438\\u0442\\u044c \\u043a \\u043f\\u0435\\u0440\\u0432\\u043e\\u043c\\u0443 \\u0436\\u0435 \\u043e\\u0441\\u0432\\u043e\\u0431\\u043e\\u0434\\u0438\\u0432\\u0448\\u0435\\u043c\\u0443\\u0441\\u044f \\u043c\\u0435\\u043d\\u0435\\u0434\\u0436\\u0435\\u0440\\u0443, \\u0447\\u0442\\u043e \\u0438 \\u0441\\u0434\\u0435\\u043b\\u0430\\u043b\\u0430 \\u0431\\u0443\\u043a\\u0432\\u0430\\u043b\\u044c\\u043d\\u043e \\u0447\\u0435\\u0440\\u0435\\u0437 5 \\u043c\\u0438\\u043d\\u0443\\u0442. \\u0412 \\u043e\\u0431\\u0449\\u0435\\u043c \\u0438 \\u0446\\u0435\\u043b\\u043e\\u043c, \\u043d\\u0430 \\u043e\\u0444\\u043e\\u0440\\u043c\\u043b\\u0435\\u043d\\u0438\\u0435 \\u0432\\u043a\\u043b\\u0430\\u0434\\u0430 \\u0443\\u0448\\u043b\\u043e \\u043d\\u0435 \\u0431\\u043e\\u043b\\u0435\\u0435 20-25 \\u043c\\u0438\\u043d\\u0443\\u0442. \\u041e\\u0442\\u0447\\u0430\\u0441\\u0442\\u0438 \\u043e\\u0442\\u0442\\u043e\\u0433\\u043e, \\u0447\\u0442\\u043e \\u0440\\u0435\\u0430\\u043b\\u044c\\u043d\\u043e \\u0441\\u043f\\u0435\\u0448\\u0438\\u043b, \\u0430 \\u043e\\u0442\\u0447\\u0430\\u0441\\u0442\\u0438 \\u043e\\u0442\\u0442\\u043e\\u0433\\u043e, \\u0447\\u0442\\u043e \\u0431\\u044b\\u043b \\u043d\\u0435 \\u0433\\u043e\\u0442\\u043e\\u0432 \\u043a \\u0442\\u0430\\u043a\\u043e\\u043c\\u0443 \\u043e\\u0431\\u0441\\u043b\\u0443\\u0436\\u0438\\u0432\\u0430\\u043d\\u0438\\u044e, \\u0443\\u0445\\u043e\\u0434\\u0438\\u043b \\u044f \\u0441\\u043b\\u0438\\u0448\\u043a\\u043e\\u043c \\u0431\\u044b\\u0441\\u0442\\u0440\\u043e \\u0438 \\u0432 \\u043d\\u0435\\u043a\\u043e\\u0442\\u043e\\u0440\\u043e\\u0439 \\u043f\\u0440\\u043e\\u0441\\u0442\\u0440\\u0430\\u0446\\u0438\\u0438, \\u043f\\u043e\\u044d\\u0442\\u043e\\u043c\\u0443 \\u043d\\u0435 \\u0443\\u0441\\u043f\\u0435\\u043b \\u0434\\u0430\\u0436\\u0435 \\u0442\\u043e\\u043b\\u043a\\u043e\\u043c \\u043f\\u043e\\u043f\\u0440\\u043e\\u0449\\u0430\\u0442\\u044c\\u0441\\u044f \\u0438 \\u043f\\u043e\\u0431\\u043b\\u0430\\u0433\\u043e\\u0434\\u0430\\u0440\\u0438\\u0442\\u044c. \\u041f\\u043e\\u044d\\u0442\\u043e\\u043c\\u0443 \\u0438\\u0441\\u043a\\u0440\\u0435\\u043d\\u043d\\u0435 \\u0441\\u0435\\u0439\\u0447\\u0430\\u0441 \\u044d\\u0442\\u043e\\u0433\\u043e \\u0441\\u0442\\u044b\\u0436\\u0443\\u0441\\u044c \\u0438 \\u0433\\u043e\\u0432\\u043e\\u0440\\u044e \\u043e\\u0433\\u0440\\u043e\\u043c\\u043d\\u043e\\u0435 \\u0441\\u043f\\u0430\\u0441\\u0438\\u0431\\u043e \\u0437\\u0430\\u043e\\u0447\\u043d\\u043e! ops:   \\u0413\\u043e\\u0441\\u043f\\u043e\\u0434\\u0430 \\u0438\\u0437 \\u0440\\u0443\\u043a\\u043e\\u0432\\u043e\\u0434\\u0441\\u0442\\u0432\\u0430 \\u0420\\u0435\\u043d\\u0435\\u0441\\u0441\\u0430\\u043d\\u0441-\\u041a\\u0440\\u0435\\u0434\\u0438\\u0442, \\u0446\\u0435\\u043d\\u0438\\u0442\\u0435 \\u0441\\u0432\\u043e\\u0438\\u0445 \\u0441\\u043e\\u0442\\u0440\\u0443\\u0434\\u043d\\u0438\\u043a\\u043e\\u0432 \\u0438\\u0437 \\u0441\\u0432\\u043e\\u0435\\u0433\\u043e \\u0438\\u0432\\u0430\\u043d\\u043e\\u0432\\u0441\\u043a\\u043e\\u0433\\u043e \\u043e\\u0442\\u0434\\u0435\\u043b\\u0435\\u043d\\u0438\\u044f! \\u0415\\u0441\\u043b\\u0438 \\u043d\\u0435\\u0442 \\u0432\\u043e\\u0437\\u043c\\u043e\\u0436\\u043d\\u043e\\u0441\\u0442\\u0438 \\u043f\\u0435\\u0440\\u0435\\u0441\\u0435\\u043b\\u0438\\u0442\\u044c \\u0438\\u0445 \\u0432 \\u043e\\u0444\\u0438\\u0441 \\u043f\\u043e\\u043f\\u0440\\u043e\\u0441\\u0442\\u043e\\u0440\\u043d\\u0435\\u0435 (\\u0430 \\u043e\\u043d\\u0438 \\u044d\\u0442\\u043e\\u0433\\u043e \\u0437\\u0430\\u0441\\u043b\\u0443\\u0436\\u0438\\u0432\\u0430\\u044e\\u0442), \\u0442\\u043e \\u0445\\u043e\\u0442\\u044f \\u0431\\u044b \\u043f\\u043e\\u0441\\u0442\\u0430\\u0432\\u044c\\u0442\\u0435 \\u0442\\u0430\\u043c \\u0435\\u0449\\u0435 \\u043e\\u0434\\u0438\\u043d \\u0442\\u0435\\u0440\\u043c\\u0438\\u043d\\u0430\\u043b \\u0434\\u043b\\u044f \\u043e\\u043f\\u043b\\u0430\\u0442\\u044b (\\u0434\\u043b\\u044f \\u0431\\u043e\\u043b\\u044c\\u0448\\u0435\\u0433\\u043e \\u043a\\u043e\\u043b\\u0438\\u0447\\u0435\\u0441\\u0442\\u0432\\u0430 \\u0442\\u0430\\u043c \\u043f\\u0440\\u043e\\u0441\\u0442\\u043e \\u043c\\u0435\\u0441\\u0442\\u0430 \\u043d\\u0435\\u0442). \\u041d\\u0430\\u0441\\u043a\\u043e\\u043b\\u044c\\u043a\\u043e \\u044f \\u0443\\u0441\\u043f\\u0435\\u043b \\u0437\\u0430\\u043c\\u0435\\u0442\\u0438\\u0442\\u044c, \\u043e\\u0441\\u043d\\u043e\\u0432\\u043d\\u044b\\u0435 \\u043f\\u0440\\u043e\\u0431\\u043a\\u0438 \\u0438\\u0437 \\u043a\\u043b\\u0438\\u0435\\u043d\\u0442\\u043e\\u0432 \\u0432\\u043e\\u0437\\u043d\\u0438\\u043a\\u0430\\u044e\\u0442 \\u0438\\u043c\\u0435\\u043d\\u043d\\u043e \\u0443 \\u043a\\u0430\\u0441\\u0441\\u044b.\\u0418 \\u0440\\u0430\\u0437\\u0432\\u0438\\u0432\\u0430\\u0439\\u0442\\u0435 \\u0438\\u043d\\u0442\\u0435\\u0440\\u043d\\u0435\\u0442-\\u0431\\u0430\\u043d\\u043a, \\u0435\\u0433\\u043e \\u043e\\u0442\\u0441\\u0443\\u0442\\u0441\\u0442\\u0432\\u0438\\u0435 \\u0441\\u0438\\u043b\\u044c\\u043d\\u043e \\u0431\\u044c\\u0435\\u0442 \\u043f\\u043e \\u0432\\u0430\\u0448\\u0435\\u043c\\u0443 \\u0438\\u043c\\u0438\\u0434\\u0436\\u0443 \\u0438 \\u0444\\u0443\\u043d\\u043a\\u0446\\u0438\\u043e\\u043d\\u0430\\u043b\\u044c\\u043d\\u043e\\u0441\\u0442\\u0438.\\u0410 \\u0441\\u043e\\u0442\\u0440\\u0443\\u0434\\u043d\\u0438\\u043a\\u0430\\u043c \\u0438\\u0432\\u0430\\u043d\\u043e\\u0432\\u0441\\u043a\\u043e\\u0433\\u043e \\u043e\\u0444\\u0438\\u0441\\u0430 \\u0435\\u0449\\u0435 \\u0440\\u0430\\u0437 \\u043c\\u043e\\u044f \\u0438\\u0441\\u043a\\u0440\\u0435\\u043d\\u043d\\u044f\\u044f \\u0431\\u043b\\u0430\\u0433\\u043e\\u0434\\u0430\\u0440\\u043d\\u043e\\u0441\\u0442\\u044c! \\u041e\\u0442\\u043b\\u0438\\u0447\\u043d\\u0430\\u044f \\u0440\\u0430\\u0431\\u043e\\u0442\\u0430!\"\n        ],\n        \"semantic_type\": \"\",\n        \"description\": \"\"\n      }\n    }\n  ]\n}"
            }
          },
          "metadata": {},
          "execution_count": 7
        }
      ]
    },
    {
      "cell_type": "code",
      "source": [
        "text = banks.iloc[2]['Text']"
      ],
      "metadata": {
        "id": "QRXeObdYU8wk"
      },
      "execution_count": null,
      "outputs": []
    },
    {
      "cell_type": "code",
      "source": [
        "text"
      ],
      "metadata": {
        "colab": {
          "base_uri": "https://localhost:8080/",
          "height": 218
        },
        "id": "TGG1B44YWPt2",
        "outputId": "4fc13101-a201-4364-c7f9-3fa10f9411d7"
      },
      "execution_count": null,
      "outputs": [
        {
          "output_type": "execute_result",
          "data": {
            "text/plain": [
              "'Очень порадовала оперативность работы в банке. Заказал через интернет карту visa classic, потребовалось подойти в банк для подписания заявления. В тот же день мне открыли текущий счет с доступом через интернет по услуге Альфа-клик, а в течении недели я должен был получить карту. Наученный Сбербанком ожидать обещанное, я удивился, когда карта и правда пришла вовремя, при этом выдали мне ее минут за 5, что опять же очень порадовало. Да и операторы Воронежского отделения на пр-те Революции оказались очень добродушными, проконсультировали по всем ситуациям, о которых я уточнял.После этого я захотел подключить услугу Альфа-мобайл, для управления счетом через телефон, но забыл свой логин. Позвонив по горячей линии, девушка мне подсказала и логин, и подключила услугу (без обращения в банк), выслала в sms ссылку на приложение, то есть сервис был на должном уровне!В настоящий момент я являюсь клиентом Московского индустриального банка, ВТБ 24 и Сбербанка, сотрудничество с последними 2мя полностью разочаровало, но это уже другая история...Единственное, что хотелось бы посоветовать, так это расширить клиентскую зону в отделении банка в г. Воронеж на пр-те Революции, а то совсем уж тесновато. '"
            ],
            "application/vnd.google.colaboratory.intrinsic+json": {
              "type": "string"
            }
          },
          "metadata": {},
          "execution_count": 11
        }
      ]
    },
    {
      "cell_type": "code",
      "source": [
        "banks['text_lower']  = banks['Text'].str.lower()\n",
        "banks['text_lower'].head()"
      ],
      "metadata": {
        "colab": {
          "base_uri": "https://localhost:8080/",
          "height": 272
        },
        "id": "rEP7TOWNVTyx",
        "outputId": "91732040-53e0-4a25-cffa-48122df294bf"
      },
      "execution_count": null,
      "outputs": [
        {
          "output_type": "execute_result",
          "data": {
            "text/plain": [
              "idx\n",
              "0    в альфа-банке работает замечательная девушка -...\n",
              "1    оформляя рассрочку в м. видео в меге тёплый ст...\n",
              "2    очень порадовала оперативность работы в банке....\n",
              "3    имела неосторожность оформить потреб. кредит в...\n",
              "4    небольшая предыстория: нашел на сайте mdm банк...\n",
              "Name: text_lower, dtype: object"
            ],
            "text/html": [
              "<div>\n",
              "<style scoped>\n",
              "    .dataframe tbody tr th:only-of-type {\n",
              "        vertical-align: middle;\n",
              "    }\n",
              "\n",
              "    .dataframe tbody tr th {\n",
              "        vertical-align: top;\n",
              "    }\n",
              "\n",
              "    .dataframe thead th {\n",
              "        text-align: right;\n",
              "    }\n",
              "</style>\n",
              "<table border=\"1\" class=\"dataframe\">\n",
              "  <thead>\n",
              "    <tr style=\"text-align: right;\">\n",
              "      <th></th>\n",
              "      <th>text_lower</th>\n",
              "    </tr>\n",
              "    <tr>\n",
              "      <th>idx</th>\n",
              "      <th></th>\n",
              "    </tr>\n",
              "  </thead>\n",
              "  <tbody>\n",
              "    <tr>\n",
              "      <th>0</th>\n",
              "      <td>в альфа-банке работает замечательная девушка -...</td>\n",
              "    </tr>\n",
              "    <tr>\n",
              "      <th>1</th>\n",
              "      <td>оформляя рассрочку в м. видео в меге тёплый ст...</td>\n",
              "    </tr>\n",
              "    <tr>\n",
              "      <th>2</th>\n",
              "      <td>очень порадовала оперативность работы в банке....</td>\n",
              "    </tr>\n",
              "    <tr>\n",
              "      <th>3</th>\n",
              "      <td>имела неосторожность оформить потреб. кредит в...</td>\n",
              "    </tr>\n",
              "    <tr>\n",
              "      <th>4</th>\n",
              "      <td>небольшая предыстория: нашел на сайте mdm банк...</td>\n",
              "    </tr>\n",
              "  </tbody>\n",
              "</table>\n",
              "</div><br><label><b>dtype:</b> object</label>"
            ]
          },
          "metadata": {},
          "execution_count": 12
        }
      ]
    },
    {
      "cell_type": "code",
      "source": [
        "banks.head()"
      ],
      "metadata": {
        "colab": {
          "base_uri": "https://localhost:8080/",
          "height": 324
        },
        "id": "7uX_yrcxXfeB",
        "outputId": "3473288e-ed31-493f-d92f-3d185465de47"
      },
      "execution_count": null,
      "outputs": [
        {
          "output_type": "execute_result",
          "data": {
            "text/plain": [
              "        Score                                               Text  \\\n",
              "idx                                                                \n",
              "0    Positive  В Альфа-Банке работает замечательная девушка -...   \n",
              "1    Negative  Оформляя рассрочку в м. Видео в меге тёплый ст...   \n",
              "2    Positive  Очень порадовала оперативность работы в банке....   \n",
              "3    Negative  Имела неосторожность оформить потреб. кредит в...   \n",
              "4    Negative  Небольшая предыстория: Нашел на сайте MDM банк...   \n",
              "\n",
              "                                            text_lower  \n",
              "idx                                                     \n",
              "0    в альфа-банке работает замечательная девушка -...  \n",
              "1    оформляя рассрочку в м. видео в меге тёплый ст...  \n",
              "2    очень порадовала оперативность работы в банке....  \n",
              "3    имела неосторожность оформить потреб. кредит в...  \n",
              "4    небольшая предыстория: нашел на сайте mdm банк...  "
            ],
            "text/html": [
              "\n",
              "  <div id=\"df-e1053ffd-1fc3-4160-b527-6ec5341ff90c\" class=\"colab-df-container\">\n",
              "    <div>\n",
              "<style scoped>\n",
              "    .dataframe tbody tr th:only-of-type {\n",
              "        vertical-align: middle;\n",
              "    }\n",
              "\n",
              "    .dataframe tbody tr th {\n",
              "        vertical-align: top;\n",
              "    }\n",
              "\n",
              "    .dataframe thead th {\n",
              "        text-align: right;\n",
              "    }\n",
              "</style>\n",
              "<table border=\"1\" class=\"dataframe\">\n",
              "  <thead>\n",
              "    <tr style=\"text-align: right;\">\n",
              "      <th></th>\n",
              "      <th>Score</th>\n",
              "      <th>Text</th>\n",
              "      <th>text_lower</th>\n",
              "    </tr>\n",
              "    <tr>\n",
              "      <th>idx</th>\n",
              "      <th></th>\n",
              "      <th></th>\n",
              "      <th></th>\n",
              "    </tr>\n",
              "  </thead>\n",
              "  <tbody>\n",
              "    <tr>\n",
              "      <th>0</th>\n",
              "      <td>Positive</td>\n",
              "      <td>В Альфа-Банке работает замечательная девушка -...</td>\n",
              "      <td>в альфа-банке работает замечательная девушка -...</td>\n",
              "    </tr>\n",
              "    <tr>\n",
              "      <th>1</th>\n",
              "      <td>Negative</td>\n",
              "      <td>Оформляя рассрочку в м. Видео в меге тёплый ст...</td>\n",
              "      <td>оформляя рассрочку в м. видео в меге тёплый ст...</td>\n",
              "    </tr>\n",
              "    <tr>\n",
              "      <th>2</th>\n",
              "      <td>Positive</td>\n",
              "      <td>Очень порадовала оперативность работы в банке....</td>\n",
              "      <td>очень порадовала оперативность работы в банке....</td>\n",
              "    </tr>\n",
              "    <tr>\n",
              "      <th>3</th>\n",
              "      <td>Negative</td>\n",
              "      <td>Имела неосторожность оформить потреб. кредит в...</td>\n",
              "      <td>имела неосторожность оформить потреб. кредит в...</td>\n",
              "    </tr>\n",
              "    <tr>\n",
              "      <th>4</th>\n",
              "      <td>Negative</td>\n",
              "      <td>Небольшая предыстория: Нашел на сайте MDM банк...</td>\n",
              "      <td>небольшая предыстория: нашел на сайте mdm банк...</td>\n",
              "    </tr>\n",
              "  </tbody>\n",
              "</table>\n",
              "</div>\n",
              "    <div class=\"colab-df-buttons\">\n",
              "\n",
              "  <div class=\"colab-df-container\">\n",
              "    <button class=\"colab-df-convert\" onclick=\"convertToInteractive('df-e1053ffd-1fc3-4160-b527-6ec5341ff90c')\"\n",
              "            title=\"Convert this dataframe to an interactive table.\"\n",
              "            style=\"display:none;\">\n",
              "\n",
              "  <svg xmlns=\"http://www.w3.org/2000/svg\" height=\"24px\" viewBox=\"0 -960 960 960\">\n",
              "    <path d=\"M120-120v-720h720v720H120Zm60-500h600v-160H180v160Zm220 220h160v-160H400v160Zm0 220h160v-160H400v160ZM180-400h160v-160H180v160Zm440 0h160v-160H620v160ZM180-180h160v-160H180v160Zm440 0h160v-160H620v160Z\"/>\n",
              "  </svg>\n",
              "    </button>\n",
              "\n",
              "  <style>\n",
              "    .colab-df-container {\n",
              "      display:flex;\n",
              "      gap: 12px;\n",
              "    }\n",
              "\n",
              "    .colab-df-convert {\n",
              "      background-color: #E8F0FE;\n",
              "      border: none;\n",
              "      border-radius: 50%;\n",
              "      cursor: pointer;\n",
              "      display: none;\n",
              "      fill: #1967D2;\n",
              "      height: 32px;\n",
              "      padding: 0 0 0 0;\n",
              "      width: 32px;\n",
              "    }\n",
              "\n",
              "    .colab-df-convert:hover {\n",
              "      background-color: #E2EBFA;\n",
              "      box-shadow: 0px 1px 2px rgba(60, 64, 67, 0.3), 0px 1px 3px 1px rgba(60, 64, 67, 0.15);\n",
              "      fill: #174EA6;\n",
              "    }\n",
              "\n",
              "    .colab-df-buttons div {\n",
              "      margin-bottom: 4px;\n",
              "    }\n",
              "\n",
              "    [theme=dark] .colab-df-convert {\n",
              "      background-color: #3B4455;\n",
              "      fill: #D2E3FC;\n",
              "    }\n",
              "\n",
              "    [theme=dark] .colab-df-convert:hover {\n",
              "      background-color: #434B5C;\n",
              "      box-shadow: 0px 1px 3px 1px rgba(0, 0, 0, 0.15);\n",
              "      filter: drop-shadow(0px 1px 2px rgba(0, 0, 0, 0.3));\n",
              "      fill: #FFFFFF;\n",
              "    }\n",
              "  </style>\n",
              "\n",
              "    <script>\n",
              "      const buttonEl =\n",
              "        document.querySelector('#df-e1053ffd-1fc3-4160-b527-6ec5341ff90c button.colab-df-convert');\n",
              "      buttonEl.style.display =\n",
              "        google.colab.kernel.accessAllowed ? 'block' : 'none';\n",
              "\n",
              "      async function convertToInteractive(key) {\n",
              "        const element = document.querySelector('#df-e1053ffd-1fc3-4160-b527-6ec5341ff90c');\n",
              "        const dataTable =\n",
              "          await google.colab.kernel.invokeFunction('convertToInteractive',\n",
              "                                                    [key], {});\n",
              "        if (!dataTable) return;\n",
              "\n",
              "        const docLinkHtml = 'Like what you see? Visit the ' +\n",
              "          '<a target=\"_blank\" href=https://colab.research.google.com/notebooks/data_table.ipynb>data table notebook</a>'\n",
              "          + ' to learn more about interactive tables.';\n",
              "        element.innerHTML = '';\n",
              "        dataTable['output_type'] = 'display_data';\n",
              "        await google.colab.output.renderOutput(dataTable, element);\n",
              "        const docLink = document.createElement('div');\n",
              "        docLink.innerHTML = docLinkHtml;\n",
              "        element.appendChild(docLink);\n",
              "      }\n",
              "    </script>\n",
              "  </div>\n",
              "\n",
              "\n",
              "<div id=\"df-ec727e74-2e44-4d65-a9c3-c2c3d705fc21\">\n",
              "  <button class=\"colab-df-quickchart\" onclick=\"quickchart('df-ec727e74-2e44-4d65-a9c3-c2c3d705fc21')\"\n",
              "            title=\"Suggest charts\"\n",
              "            style=\"display:none;\">\n",
              "\n",
              "<svg xmlns=\"http://www.w3.org/2000/svg\" height=\"24px\"viewBox=\"0 0 24 24\"\n",
              "     width=\"24px\">\n",
              "    <g>\n",
              "        <path d=\"M19 3H5c-1.1 0-2 .9-2 2v14c0 1.1.9 2 2 2h14c1.1 0 2-.9 2-2V5c0-1.1-.9-2-2-2zM9 17H7v-7h2v7zm4 0h-2V7h2v10zm4 0h-2v-4h2v4z\"/>\n",
              "    </g>\n",
              "</svg>\n",
              "  </button>\n",
              "\n",
              "<style>\n",
              "  .colab-df-quickchart {\n",
              "      --bg-color: #E8F0FE;\n",
              "      --fill-color: #1967D2;\n",
              "      --hover-bg-color: #E2EBFA;\n",
              "      --hover-fill-color: #174EA6;\n",
              "      --disabled-fill-color: #AAA;\n",
              "      --disabled-bg-color: #DDD;\n",
              "  }\n",
              "\n",
              "  [theme=dark] .colab-df-quickchart {\n",
              "      --bg-color: #3B4455;\n",
              "      --fill-color: #D2E3FC;\n",
              "      --hover-bg-color: #434B5C;\n",
              "      --hover-fill-color: #FFFFFF;\n",
              "      --disabled-bg-color: #3B4455;\n",
              "      --disabled-fill-color: #666;\n",
              "  }\n",
              "\n",
              "  .colab-df-quickchart {\n",
              "    background-color: var(--bg-color);\n",
              "    border: none;\n",
              "    border-radius: 50%;\n",
              "    cursor: pointer;\n",
              "    display: none;\n",
              "    fill: var(--fill-color);\n",
              "    height: 32px;\n",
              "    padding: 0;\n",
              "    width: 32px;\n",
              "  }\n",
              "\n",
              "  .colab-df-quickchart:hover {\n",
              "    background-color: var(--hover-bg-color);\n",
              "    box-shadow: 0 1px 2px rgba(60, 64, 67, 0.3), 0 1px 3px 1px rgba(60, 64, 67, 0.15);\n",
              "    fill: var(--button-hover-fill-color);\n",
              "  }\n",
              "\n",
              "  .colab-df-quickchart-complete:disabled,\n",
              "  .colab-df-quickchart-complete:disabled:hover {\n",
              "    background-color: var(--disabled-bg-color);\n",
              "    fill: var(--disabled-fill-color);\n",
              "    box-shadow: none;\n",
              "  }\n",
              "\n",
              "  .colab-df-spinner {\n",
              "    border: 2px solid var(--fill-color);\n",
              "    border-color: transparent;\n",
              "    border-bottom-color: var(--fill-color);\n",
              "    animation:\n",
              "      spin 1s steps(1) infinite;\n",
              "  }\n",
              "\n",
              "  @keyframes spin {\n",
              "    0% {\n",
              "      border-color: transparent;\n",
              "      border-bottom-color: var(--fill-color);\n",
              "      border-left-color: var(--fill-color);\n",
              "    }\n",
              "    20% {\n",
              "      border-color: transparent;\n",
              "      border-left-color: var(--fill-color);\n",
              "      border-top-color: var(--fill-color);\n",
              "    }\n",
              "    30% {\n",
              "      border-color: transparent;\n",
              "      border-left-color: var(--fill-color);\n",
              "      border-top-color: var(--fill-color);\n",
              "      border-right-color: var(--fill-color);\n",
              "    }\n",
              "    40% {\n",
              "      border-color: transparent;\n",
              "      border-right-color: var(--fill-color);\n",
              "      border-top-color: var(--fill-color);\n",
              "    }\n",
              "    60% {\n",
              "      border-color: transparent;\n",
              "      border-right-color: var(--fill-color);\n",
              "    }\n",
              "    80% {\n",
              "      border-color: transparent;\n",
              "      border-right-color: var(--fill-color);\n",
              "      border-bottom-color: var(--fill-color);\n",
              "    }\n",
              "    90% {\n",
              "      border-color: transparent;\n",
              "      border-bottom-color: var(--fill-color);\n",
              "    }\n",
              "  }\n",
              "</style>\n",
              "\n",
              "  <script>\n",
              "    async function quickchart(key) {\n",
              "      const quickchartButtonEl =\n",
              "        document.querySelector('#' + key + ' button');\n",
              "      quickchartButtonEl.disabled = true;  // To prevent multiple clicks.\n",
              "      quickchartButtonEl.classList.add('colab-df-spinner');\n",
              "      try {\n",
              "        const charts = await google.colab.kernel.invokeFunction(\n",
              "            'suggestCharts', [key], {});\n",
              "      } catch (error) {\n",
              "        console.error('Error during call to suggestCharts:', error);\n",
              "      }\n",
              "      quickchartButtonEl.classList.remove('colab-df-spinner');\n",
              "      quickchartButtonEl.classList.add('colab-df-quickchart-complete');\n",
              "    }\n",
              "    (() => {\n",
              "      let quickchartButtonEl =\n",
              "        document.querySelector('#df-ec727e74-2e44-4d65-a9c3-c2c3d705fc21 button');\n",
              "      quickchartButtonEl.style.display =\n",
              "        google.colab.kernel.accessAllowed ? 'block' : 'none';\n",
              "    })();\n",
              "  </script>\n",
              "</div>\n",
              "\n",
              "    </div>\n",
              "  </div>\n"
            ],
            "application/vnd.google.colaboratory.intrinsic+json": {
              "type": "dataframe",
              "variable_name": "banks",
              "summary": "{\n  \"name\": \"banks\",\n  \"rows\": 13999,\n  \"fields\": [\n    {\n      \"column\": \"idx\",\n      \"properties\": {\n        \"dtype\": \"number\",\n        \"std\": 4041,\n        \"min\": 0,\n        \"max\": 13998,\n        \"num_unique_values\": 13999,\n        \"samples\": [\n          2900,\n          3143,\n          8231\n        ],\n        \"semantic_type\": \"\",\n        \"description\": \"\"\n      }\n    },\n    {\n      \"column\": \"Score\",\n      \"properties\": {\n        \"dtype\": \"category\",\n        \"num_unique_values\": 2,\n        \"samples\": [\n          \"Negative\",\n          \"Positive\"\n        ],\n        \"semantic_type\": \"\",\n        \"description\": \"\"\n      }\n    },\n    {\n      \"column\": \"Text\",\n      \"properties\": {\n        \"dtype\": \"string\",\n        \"num_unique_values\": 13998,\n        \"samples\": [\n          \"\\u0420\\u0430\\u043d\\u0435\\u0435 \\u0443\\u0436\\u0435 \\u0412\\u0430\\u043c \\u043f\\u0438\\u0441\\u0430\\u043b\\u0430 \\u043e \\u0442\\u043e\\u043c, \\u0447\\u0442\\u043e \\u043c\\u043d\\u0435 \\u043d\\u0430\\u0433\\u043b\\u044b\\u043c \\u043e\\u0431\\u0440\\u0430\\u0437\\u043e\\u043c \\u0432\\u0441\\u0443\\u0447\\u0438\\u043b\\u0438 \\u0441\\u0442\\u0440\\u0430\\u0445\\u043e\\u0432\\u043a\\u0443 \\u043a\\u0440\\u0435\\u0434\\u0438\\u0442\\u0430.\\u00a0\\u0410\\u043b\\u043b\\u0438\\u043b\\u0443\\u0439\\u044f, \\u044f \\u0441\\u043c\\u043e\\u0433\\u043b\\u0430 \\u043e\\u0442 \\u043d\\u0435\\u0435 \\u043e\\u0442\\u043a\\u0430\\u0437\\u0430\\u0442\\u044c\\u0441\\u044f! \\u041c\\u043d\\u0435 \\u043d\\u0430 \\u043a\\u0440\\u0435\\u0434\\u0438\\u0442\\u043d\\u044b\\u0439 \\u0441\\u0447\\u0435\\u0442 \\u043f\\u0440\\u0438\\u0448\\u043b\\u043e 25 094,40\\u0440. \\u041f\\u043e\\u043d\\u044f\\u0442\\u043d\\u043e\\u0435 \\u0434\\u0435\\u043b\\u043e, \\u044f \\u0441\\u0440\\u0430\\u0437\\u0443 \\u0436\\u0435 \\u043e\\u0431\\u0440\\u0430\\u0442\\u0438\\u043b\\u0430\\u0441\\u044c \\u0432 \\u043e\\u0442\\u0434\\u0435\\u043b\\u0435\\u043d\\u0438\\u0435, \\u0447\\u0442\\u043e\\u0431\\u044b \\u043c\\u043d\\u0435 \\u0441\\u0434\\u0435\\u043b\\u0430\\u043b\\u0438 \\u0447\\u0430\\u0441\\u0442\\u0438\\u0447\\u043d\\u043e \\u0434\\u043e\\u0441\\u0440\\u043e\\u0447\\u043d\\u043e\\u0435 \\u043f\\u043e\\u0433\\u0430\\u0448\\u0435\\u043d\\u0438\\u0435 \\u0441 \\u0441\\u043e\\u043a\\u0440\\u0430\\u0449\\u0435\\u043d\\u0438\\u0435\\u043c \\u0441\\u0440\\u043e\\u043a\\u0430 \\u043f\\u043b\\u0430\\u0442\\u0435\\u0436\\u0430. \\u0412 \\u0414\\u041e \\u041e\\u0442\\u0440\\u0430\\u0434\\u043d\\u043e\\u0435 \\u043c\\u0435\\u043d\\u044f \\u043e\\u0431\\u0441\\u043b\\u0443\\u0436\\u0438\\u0432\\u0430\\u043b \\u0441\\u043f\\u0435\\u0446\\u0438\\u0430\\u043b\\u0438\\u0441\\u0442 \\u0420-\\u0438\\u043d\\u0430 \\u0410.\\u0421. 22.10.2015 \\u043e\\u043d\\u0430 \\u043e\\u0444\\u043e\\u0440\\u043c\\u0438\\u043b\\u0430 \\u043c\\u043d\\u0435 \\u0437\\u0430\\u044f\\u0432\\u043b\\u0435\\u043d\\u0438\\u0435 \\u043d\\u0430 \\u0447\\u0430\\u0441\\u0442\\u0438\\u0447\\u043d\\u043e \\u0434\\u043e\\u0441\\u0440\\u043e\\u0447\\u043d\\u043e\\u0435 \\u043f\\u043e\\u0433\\u0430\\u0448\\u0435\\u043d\\u0438\\u0435 \\u043d\\u0430 \\u0441\\u0443\\u043c\\u043c\\u0443 25 094,40\\u0440 \\u0438 \\u0441\\u043a\\u0430\\u0437\\u0430\\u043b\\u0430 \\u043f\\u0440\\u0438\\u0439\\u0442\\u0438 \\u0432 \\u0434\\u0435\\u043d\\u044c \\u043c\\u043e\\u0435\\u0433\\u043e \\u043f\\u043b\\u0430\\u0442\\u0435\\u0436\\u0430 \\u043f\\u043e\\u043b\\u0443\\u0447\\u0438\\u0442\\u044c \\u043d\\u043e\\u0432\\u044b\\u0439 \\u0433\\u0440\\u0430\\u0444\\u0438\\u043a \\u043f\\u043b\\u0430\\u0442\\u0435\\u0436\\u0435\\u0439. (\\u0421\\u043a\\u0430\\u043d \\u0437\\u0430\\u044f\\u0432\\u043b\\u0435\\u043d\\u0438\\u044f \\u044f \\u043c\\u043e\\u0433\\u0443 \\u043f\\u0440\\u0435\\u0434\\u043e\\u0441\\u0442\\u0430\\u0432\\u0438\\u0442\\u044c \\u0441 \\u0435\\u0435 \\u0436\\u0435 \\u043f\\u0435\\u0447\\u0430\\u0442\\u044c\\u044e.) \\u0412 \\u0438\\u0442\\u043e\\u0433\\u0435 23.11.2015, \\u043a\\u043e\\u0433\\u0434\\u0430 \\u044f \\u043f\\u0440\\u0438\\u0448\\u043b\\u0430 \\u0432 \\u043e\\u0442\\u0434\\u0435\\u043b\\u0435\\u043d\\u0438\\u0435 \\u0431\\u0430\\u043d\\u043a\\u0430, \\u0442\\u043e \\u0441\\u043f\\u0435\\u0446\\u0438\\u0430\\u043b\\u0438\\u0441\\u0442 \\u043f\\u043e \\u0438\\u043c\\u0435\\u043d\\u0438 \\u0421\\u043e\\u043b\\u043e\\u043c\\u043e\\u043d \\u0441\\u043a\\u0430\\u0437\\u0430\\u043b, \\u0447\\u0442\\u043e \\u0437\\u0430\\u044f\\u0432\\u043b\\u0435\\u043d\\u0438\\u0435 \\u043d\\u0435 \\u0431\\u044b\\u043b\\u043e \\u043e\\u0444\\u043e\\u0440\\u043c\\u043b\\u0435\\u043d\\u043e. \\u042f \\u043e\\u0444\\u043e\\u0440\\u043c\\u0438\\u043b\\u0430 \\u043f\\u0440\\u0435\\u0442\\u0435\\u043d\\u0437\\u0438\\u044e N 1511231999 \\u043e\\u0442 23.11.2015, \\u0432 \\u0438\\u0442\\u043e\\u0433\\u0435 26.11.2015 \\u043c\\u043d\\u0435 \\u043f\\u0440\\u0438\\u0448\\u0435\\u043b \\u043e\\u0442\\u043a\\u0430\\u0437. \\u042f \\u0441\\u0435\\u0439\\u0447\\u0430\\u0441 \\u043f\\u043e\\u044f\\u0441\\u043d\\u044e \\u043c\\u043e\\u0435 \\u043d\\u0435\\u0434\\u043e\\u0432\\u043e\\u043b\\u044c\\u0441\\u0442\\u0432\\u043e: \\u0441\\u043c\\u043e\\u0442\\u0440\\u0438\\u043c \\u043c\\u043e\\u0439 \\u0433\\u0440\\u0430\\u0444\\u0438\\u043a \\u043f\\u043b\\u0430\\u0442\\u0435\\u0436\\u0435\\u0439 - 17.11.15 - \\u0435\\u0436. \\u043f\\u043b. 5 910, \\u0433\\u0434\\u0435 \\u0434\\u043e\\u043b\\u0433 - 2 795.99, \\u0430 % 3 114,01. \\u041f\\u043e \\u0444\\u0430\\u043a\\u0442\\u0443 \\u0438\\u0437 \\u0441\\u0443\\u043c\\u043c\\u044b 25 094,40\\u0440 - 5 910 = 19 184,40 - \\u0434\\u0430\\u043d\\u043d\\u0430\\u044f \\u0441\\u0443\\u043c\\u043c\\u0430 \\u0434\\u043e\\u043b\\u0436\\u043d\\u0430 \\u0431\\u044b\\u043b\\u0430 \\u0443\\u043f\\u0430\\u0441\\u0442\\u044c \\u0432 \\u043f\\u043e\\u0433\\u0430\\u0448\\u0435\\u043d\\u0438\\u0435 \\u043e\\u0441\\u043d\\u043e\\u0432\\u043d\\u043e\\u0433\\u043e \\u0434\\u043e\\u043b\\u0433\\u0430 \\u0438 \\u0441\\u043e\\u043a\\u0440\\u0430\\u0442\\u0438\\u0442\\u044c \\u044d\\u0442\\u0438\\u043c \\u0441\\u0430\\u043c\\u044b\\u043c \\u043c\\u043d\\u0435 \\u0441\\u0440\\u043e\\u043a \\u0441 24 \\u043c\\u0435\\u0441. \\u0434\\u043e 17 \\u043c\\u0435\\u0441. \\u0410 \\u0427\\u0422\\u041e \\u041c\\u042b \\u0412 \\u0418\\u0422\\u041e\\u0413\\u0415 \\u041f\\u041e\\u041b\\u0423\\u0427\\u0410\\u0415\\u041c? \\u0411\\u0430\\u043d\\u043a \\u043e\\u0442\\u043a\\u0430\\u0437\\u0430\\u043b\\u0441\\u044f \\u0432 \\u0438\\u0441\\u043f\\u0440\\u0430\\u0432\\u043b\\u0435\\u043d\\u0438\\u0438 \\u0441\\u0432\\u043e\\u0438\\u0445 \\u043e\\u0448\\u0438\\u0431\\u043e\\u043a. \\u042f \\u043f\\u0440\\u043e\\u0441\\u0438\\u043b\\u0430 \\u0443\\u0441\\u0442\\u0440\\u043e\\u0438\\u0442\\u044c \\u043c\\u043d\\u0435 \\u043f\\u0435\\u0440\\u0435\\u0440\\u0430\\u0441\\u0447\\u0435\\u0442, \\u0442\\u0430\\u043a \\u043a\\u0430\\u043a \\u0435\\u0441\\u043b\\u0438 \\u0432 \\u043d\\u044b\\u043d\\u0435\\u0448\\u043d\\u0435\\u0439 \\u0441\\u0438\\u0442\\u0443\\u0430\\u0446\\u0438\\u0438 \\u044f \\u0441\\u0434\\u0435\\u043b\\u0430\\u044e \\u0447\\u0430\\u0441\\u0442\\u0438\\u0447\\u043d\\u043e \\u0434\\u043e\\u0441\\u0440\\u043e\\u0447\\u043d\\u043e\\u0435 \\u043f\\u043e\\u0433\\u0430\\u0448\\u0435\\u043d\\u0438\\u0435, \\u0442\\u043e \\u044d\\u0442\\u043e \\u0443\\u0436\\u0435 \\u0431\\u0443\\u0434\\u0435\\u0442 \\u0441 \\u0441\\u0443\\u043c\\u043c\\u044b 19 184,40 - \\u0427\\u0423\\u0412\\u0421\\u0422\\u0412\\u0423\\u0415\\u0422\\u0415 \\u0420\\u0410\\u0417\\u041d\\u0418\\u0426\\u0423? \\u0422.\\u0435. \\u043c\\u043e\\u0439 \\u0432\\u0442\\u043e\\u0440\\u043e\\u0439 \\u043f\\u043b\\u0430\\u0442\\u0435\\u0436 17.12.15 - \\u0435\\u0436. \\u043f\\u043b. - 5910, \\u0433\\u0434\\u0435 \\u0434\\u043e\\u043b\\u0433 - 2 981 \\u0438 % 2 928, 52 (\\u0438\\u043c\\u0435\\u043d\\u043d\\u043e \\u044d\\u0442\\u0438 % \\u0434\\u043e\\u043b\\u0436\\u043d\\u044b \\u0431\\u044b\\u043b\\u0438 \\u0441\\u0433\\u043e\\u0440\\u0435\\u0442\\u044c \\u043f\\u0440\\u0438 \\u043c\\u043e\\u0435\\u043c \\u0437\\u0430\\u044f\\u0432\\u043b\\u0435\\u043d\\u0438\\u0435 \\u043e\\u0442 22.10.2015, \\u0430 \\u044d\\u0442\\u043e \\u043e\\u0437\\u043d\\u0430\\u0447\\u0430\\u0435\\u0442, \\u0447\\u0442\\u043e \\u0431\\u0430\\u043d\\u043a \\u0438\\u0445 \\u0441\\u0432\\u043e\\u0435\\u0432\\u043e\\u043b\\u044c\\u043d\\u043e \\u0443\\u0434\\u0435\\u0440\\u0436\\u0430\\u043b). \\u0412\\u043e\\u0442 \\u043f\\u0440\\u0435\\u0434\\u0441\\u0442\\u0430\\u0432\\u0438\\u043c \\u0441\\u0438\\u0442\\u0443\\u0430\\u0446\\u0438\\u044e, \\u0447\\u0442\\u043e \\u044f \\u0442\\u0430\\u043a\\u0430\\u044f \\u0432 \\u0441\\u0438\\u0441\\u0442\\u0435\\u043c\\u0435 \\u043d\\u0435 \\u043e\\u0434\\u043d\\u0430 \\u0438, \\u043d\\u0430\\u043f\\u0440\\u0438\\u043c\\u0435\\u0440, \\u0434\\u043b\\u044f 100 \\u0447\\u0435\\u043b\\u043e\\u0432\\u0435\\u043a \\u043e\\u043d \\u0442\\u0430\\u043a\\u0443\\u044e \\u0436\\u0435 \\u0441\\u0445\\u0435\\u043c\\u0443 \\u043f\\u0440\\u043e\\u0432\\u0435\\u043b, \\u0432 \\u0438\\u0442\\u043e\\u0433\\u0435 \\u0437\\u0430\\u0440\\u0430\\u0431\\u043e\\u0442\\u0430\\u043b \\u043b\\u0438\\u0448\\u043d\\u0438\\u0435 292 852 \\u0437\\u0430 \\u043e\\u0434\\u0438\\u043d \\u043f\\u043b\\u0430\\u0442\\u0435\\u0436. \\u0411\\u0430\\u043d\\u043a-\\u0442\\u043e \\u0431\\u043e\\u043b\\u044c\\u0448\\u043e\\u0439, \\u043a\\u043b\\u0438\\u0435\\u043d\\u0442\\u043e\\u0432 \\u0443 \\u043d\\u0435\\u0433\\u043e \\u043c\\u043d\\u043e\\u0433\\u043e. \\u0410 \\u0447\\u0442\\u043e \\u0435\\u0441\\u043b\\u0438 \\u0441\\u0438\\u0441\\u0442\\u0435\\u043c\\u0430 \\u043d\\u0435 \\u0434\\u043b\\u044f 100 \\u0447\\u0435\\u043b\\u043e\\u0432\\u0435\\u043a \\u043e\\u0442\\u043a\\u0430\\u0437\\u0430\\u043b\\u0430, \\u0430 \\u0434\\u043b\\u044f 1000 \\u0438\\u043b\\u0438 \\u0431\\u043e\\u043b\\u0435\\u0435? \\u042f \\u0431\\u044b \\u0432\\u043e\\u0437\\u043c\\u043e\\u0436\\u043d\\u043e \\u0436\\u0438\\u0440\\u0443 \\u043d\\u0435 \\u0431\\u0435\\u0441\\u0438\\u043b\\u0430\\u0441\\u044c, \\u0435\\u0441\\u043b\\u0438 \\u0431\\u044b 4-\\u0439 \\u0440\\u0430\\u0437 \\u043d\\u0430 \\u0410\\u043b\\u044c\\u0444\\u0430 \\u0431\\u0430\\u043d\\u043a \\u043d\\u0435 \\u043f\\u0438\\u0441\\u0430\\u043b\\u0430, \\u0442\\u0430\\u043a \\u043a\\u0430\\u043a \\u043e\\u043d \\u0434\\u0438\\u043a\\u043e \\u043a\\u043e\\u0441\\u044f\\u0447\\u0438\\u0442: \\u043a\\u0440\\u0435\\u0434\\u0438\\u0442 \\u043d\\u0430 \\u043c\\u043e\\u0435 \\u0438\\u043c\\u044f \\u0431\\u0435\\u0437 \\u0434\\u043e\\u043a\\u043e\\u0432 \\u043e\\u0444\\u043e\\u0440\\u043c\\u0438\\u0442, \\u0441\\u043c\\u0441 \\u0442\\u0435\\u0442\\u0435 \\u043f\\u0440\\u0438\\u0441\\u044b\\u043b\\u0430\\u043b \\u043e\\u0431 \\u043f\\u043b\\u0430\\u0442\\u0435\\u0436\\u0430\\u0445, \\u0445\\u043e\\u0442\\u044f \\u043e\\u043d\\u0430 \\u0442\\u043e\\u043b\\u044c\\u043a\\u043e \\u043f\\u0440\\u0438\\u0435\\u0445\\u0430\\u043b\\u0430 \\u0441 \\u0423\\u043a\\u0440\\u0430\\u0438\\u043d\\u044b, \\u0441\\u0442\\u0440\\u0430\\u0445\\u043e\\u0432\\u043a\\u0443 \\u0432\\u043f\\u0430\\u0440\\u0438\\u0442, \\u043d\\u0435 \\u043f\\u0440\\u0438\\u043d\\u0438\\u043c\\u0430\\u0435\\u0442 \\u043f\\u043b\\u0430\\u0442\\u0435\\u0436\\u0438... \\u0427\\u0442\\u043e \\u0434\\u0430\\u043b\\u044c\\u0448\\u0435?\",\n          \"\\u0423\\u0436\\u0435 \\u0431\\u043e\\u043b\\u0435\\u0435 \\u0433\\u043e\\u0434\\u0430 \\u043d\\u0430\\u0437\\u0430\\u0434 \\u0434\\u0435\\u043b\\u0430\\u043b \\u0432\\u043a\\u043b\\u0430\\u0434 \\u0432 \\u0420\\u0435\\u043d\\u0435\\u0441\\u0441\\u0430\\u043d\\u0441 \\u041a\\u0440\\u0435\\u0434\\u0438\\u0442 \\u043d\\u0430 6 \\u043c\\u0435\\u0441\\u044f\\u0446\\u0435\\u0432, \\u043f\\u0440\\u0438\\u0447\\u0435\\u043c \\u0441\\u0443\\u043c\\u043c\\u0430 \\u0431\\u044b\\u043b\\u0430 \\u043e\\u0447\\u0435\\u043d\\u044c \\u043d\\u0435\\u0431\\u043e\\u043b\\u044c\\u0448\\u0430\\u044f, \\u0432\\u0441\\u0435\\u0433\\u043e 30000 \\u0440. \\u0421\\u0440\\u043e\\u043a \\u0432\\u043a\\u043b\\u0430\\u0434\\u0430 \\u043e\\u043a\\u043e\\u043d\\u0447\\u0438\\u043b\\u0441\\u044f, \\u0434\\u0435\\u043d\\u044c\\u0433\\u0438 \\u0441 \\u043f\\u0440\\u043e\\u0446\\u0435\\u043d\\u0442\\u0430\\u043c\\u0438 \\u043f\\u043e\\u043b\\u0443\\u0447\\u0438\\u043b, \\u0432\\u0441\\u0435 \\u043e\\u0441\\u0442\\u0430\\u043b\\u0438\\u0441\\u044c \\u0434\\u043e\\u0432\\u043e\\u043b\\u044c\\u043d\\u044b.\\u0418 \\u0432\\u0434\\u0440\\u0443\\u0433, \\u043f\\u0430\\u0440\\u0443 \\u043d\\u0435\\u0434\\u0435\\u043b\\u044c \\u043d\\u0430\\u0437\\u0430\\u0434, \\u043f\\u043e\\u043b\\u0443\\u0447\\u0430\\u044e \\u0437\\u0432\\u043e\\u043d\\u043e\\u043a \\u0438\\u0437 \\u0420\\u041a, \\u0432 \\u043a\\u043e\\u0442\\u043e\\u0440\\u043e\\u043c \\u043c\\u043d\\u0435 \\u043f\\u0440\\u0435\\u0434\\u043b\\u0430\\u0433\\u0430\\u044e\\u0442 \\u043a\\u0430\\u043a \\u043f\\u043e\\u0441\\u0442\\u043e\\u044f\\u043d\\u043d\\u043e\\u043c\\u0443 \\u043a\\u043b\\u0438\\u0435\\u043d\\u0442\\u0443 (!!!, \\u0443\\u0447\\u0438\\u0442\\u044b\\u0432\\u0430\\u044f \\u0432\\u044b\\u0448\\u0435\\u0443\\u043a\\u0430\\u0437\\u0430\\u043d\\u043d\\u044b\\u0435 \\u043e\\u0431\\u0441\\u0442\\u043e\\u044f\\u0442\\u0435\\u043b\\u044c\\u0441\\u0442\\u0432\\u0430) \\u0437\\u0430\\u043a\\u043b\\u044e\\u0447\\u0438\\u0442\\u044c \\u043d\\u043e\\u0432\\u044b\\u0439 \\u0434\\u043e\\u0433\\u043e\\u0432\\u043e\\u0440 \\u0432\\u043a\\u043b\\u0430\\u0434\\u0430 \\u043d\\u0430 \\u043b\\u044c\\u0433\\u043e\\u0442\\u043d\\u044b\\u0445 \\u0443\\u0441\\u043b\\u043e\\u0432\\u0438\\u044f\\u0445. \\u041f\\u0440\\u0438\\u0437\\u043d\\u0430\\u0442\\u044c\\u0441\\u044f, \\u0432\\u043a\\u043b\\u0430\\u0434 \\u041d\\u0430\\u043a\\u043e\\u043f\\u0438\\u0442\\u0435\\u043b\\u044c\\u043d\\u044b\\u0439 \\u0438 \\u0441\\u0430\\u043c \\u043f\\u043e \\u0441\\u0435\\u0431\\u0435 \\u0434\\u043e\\u0432\\u043e\\u043b\\u044c\\u043d\\u043e \\u0432\\u044b\\u0433\\u043e\\u0434\\u0435\\u043d \\u0438 \\u0443\\u0434\\u043e\\u0431\\u0435\\u043d, \\u0438 \\u044f \\u0443\\u0436\\u0435 \\u043f\\u043e\\u0434\\u0443\\u043c\\u044b\\u0432\\u0430\\u043b \\u043d\\u0435 \\u0434\\u043e\\u0432\\u0435\\u0440\\u0438\\u0442\\u044c \\u043b\\u0438 \\u0420\\u0435\\u043d\\u0435\\u0441\\u0441\\u0430\\u043d\\u0441\\u0443 \\u043c\\u043e\\u0438 \\u0434\\u0435\\u043d\\u044c\\u0433\\u0438 \\u0435\\u0449\\u0435 \\u0440\\u0430\\u0437. \\u041d\\u043e \\u043f\\u043e\\u0441\\u043b\\u0435 \\u0441\\u0442\\u043e\\u043b\\u044c \\u043b\\u0435\\u0441\\u0442\\u043d\\u043e\\u0433\\u043e \\u043f\\u0440\\u0435\\u0434\\u043b\\u043e\\u0436\\u0435\\u043d\\u0438\\u044f \\u043a\\u0430\\u043a \\u0443\\u0432\\u0435\\u043b\\u0438\\u0447\\u0435\\u043d\\u0438\\u0435 \\u043f\\u0440\\u043e\\u0446\\u0435\\u043d\\u0442\\u043d\\u043e\\u0439 \\u0441\\u0442\\u0430\\u0432\\u043a\\u0438 \\u0441\\u043f\\u0435\\u0446\\u0438\\u0430\\u043b\\u044c\\u043d\\u043e \\u0434\\u043b\\u044f \\u043c\\u0435\\u043d\\u044f \\u0435\\u0449\\u0435 \\u043d\\u0430 0,5% \\u0433\\u043e\\u0434\\u043e\\u0432\\u044b\\u0445 \\u043f\\u043b\\u044e\\u0441 \\u043f\\u043e\\u043b\\u0443\\u0447\\u0435\\u043d\\u0438\\u0435 \\u0441\\u0442\\u0440\\u0430\\u0445\\u043e\\u0432\\u043a\\u0438 \\u0436\\u0438\\u0437\\u043d\\u0438 \\u0432 \\u043f\\u043e\\u0434\\u0430\\u0440\\u043e\\u043a, \\u043e\\u0442\\u043a\\u0430\\u0437\\u0430\\u0442\\u044c\\u0441\\u044f \\u0443\\u0436\\u0435 \\u0431\\u044b\\u043b\\u043e \\u043f\\u0440\\u043e\\u0441\\u0442\\u043e \\u043d\\u0435\\u0432\\u0435\\u0436\\u043b\\u0438\\u0432\\u043e \\u0438 \\u043d\\u0435\\u0440\\u0430\\u0437\\u0443\\u043c\\u043d\\u043e. \\u041f\\u0440\\u0435\\u0434\\u0432\\u0430\\u0440\\u0438\\u0442\\u0435\\u043b\\u044c\\u043d\\u043e \\u0434\\u043e\\u0433\\u043e\\u0432\\u043e\\u0440\\u0438\\u043b\\u0438\\u0441\\u044c \\u043e\\u0431 \\u0443\\u0434\\u043e\\u0431\\u043d\\u043e\\u043c \\u043c\\u043d\\u0435 \\u0432\\u0440\\u0435\\u043c\\u0435\\u043d\\u0438 \\u0432\\u0438\\u0437\\u0438\\u0442\\u0430, \\u043d\\u0430 \\u043f\\u044f\\u0442\\u043d\\u0438\\u0446\\u0443 11 \\u043d\\u043e\\u044f\\u0431\\u0440\\u044f \\u0441 15 \\u0434\\u043e 16 \\u0447\\u0430\\u0441\\u043e\\u0432. \\u0412 \\u043f\\u044f\\u0442\\u043d\\u0438\\u0446\\u0443 \\u043c\\u043e\\u0438 \\u043e\\u0431\\u0441\\u0442\\u043e\\u044f\\u0442\\u0435\\u043b\\u044c\\u0441\\u0442\\u0432\\u0430 \\u043d\\u0435\\u0441\\u043a\\u043e\\u043b\\u044c\\u043a\\u043e \\u0438\\u0437\\u043c\\u0435\\u043d\\u0438\\u043b\\u0438\\u0441\\u044c, \\u043f\\u043e\\u0437\\u0432\\u043e\\u043d\\u0438\\u043b \\u043f\\u043e \\u0431\\u0435\\u0441\\u043f\\u043b\\u0430\\u0442\\u043d\\u043e\\u0439 \\u043b\\u0438\\u043d\\u0438\\u0438 \\u0432 \\u0420\\u041a, \\u043f\\u043e\\u043f\\u0440\\u043e\\u0441\\u0438\\u043b \\u043f\\u0435\\u0440\\u0435\\u043d\\u0435\\u0441\\u0442\\u0438 \\u0432\\u0440\\u0435\\u043c\\u044f \\u043f\\u043e\\u0441\\u0435\\u0449\\u0435\\u043d\\u0438\\u044f \\u0441 15 \\u043d\\u0430 12 \\u0447\\u0430\\u0441\\u043e\\u0432, \\u043f\\u0435\\u0440\\u0435\\u043d\\u0435\\u0441\\u043b\\u0438 \\u0431\\u0435\\u0437 \\u043f\\u0440\\u043e\\u0431\\u043b\\u0435\\u043c. \\u041d\\u043e \\u0441\\u0430\\u043c\\u043e\\u0435 \\u043f\\u0440\\u0438\\u044f\\u0442\\u043d\\u043e\\u0435 \\u0432\\u043f\\u0435\\u0447\\u0430\\u0442\\u043b\\u0435\\u043d\\u0438\\u0435, \\u043c\\u043e\\u0436\\u043d\\u043e \\u0434\\u0430\\u0436\\u0435 \\u0441\\u043a\\u0430\\u0437\\u0430\\u0442\\u044c \\u043a\\u0443\\u043b\\u044c\\u0442\\u0443\\u0440\\u043d\\u044b\\u0439 \\u0448\\u043e\\u043a (\\u043f\\u0440\\u0438\\u044f\\u0442\\u043d\\u044b\\u0439 \\u0448\\u043e\\u043a ) \\u043f\\u0440\\u043e\\u0438\\u0437\\u0432\\u0435\\u043b\\u0430 \\u043d\\u0430 \\u043c\\u0435\\u043d\\u044f \\u0440\\u0430\\u0431\\u043e\\u0442\\u0430 \\u043d\\u0430\\u0448\\u0435\\u0433\\u043e \\u0418\\u0432\\u0430\\u043d\\u043e\\u0432\\u0441\\u043a\\u043e\\u0433\\u043e \\u043e\\u0442\\u0434\\u0435\\u043b\\u0435\\u043d\\u0438\\u044f \\u0420\\u041a \\u043d\\u0430 \\u0443\\u043b.\\u041a\\u0430\\u043b\\u0438\\u043d\\u0438\\u043d\\u0430! \\u0422\\u0435\\u043c \\u0431\\u043e\\u043b\\u0435\\u0435 \\u0431\\u044b\\u043b\\u043e \\u0441 \\u0447\\u0435\\u043c \\u0441\\u0440\\u0430\\u0432\\u043d\\u0438\\u0432\\u0430\\u0442\\u044c. \\u041f\\u043e \\u0438\\u0440\\u043e\\u043d\\u0438\\u0438 \\u0441\\u0443\\u0434\\u044c\\u0431\\u044b, \\u043d\\u0435 \\u0431\\u043e\\u043b\\u0435\\u0435 \\u0447\\u0435\\u043c \\u043c\\u0435\\u0441\\u044f\\u0446 \\u043d\\u0430\\u0437\\u0430\\u0434 \\u0434\\u043e\\u0432\\u0435\\u043b\\u043e\\u0441\\u044c \\u043f\\u043e\\u0441\\u0435\\u0442\\u0438\\u0442\\u044c \\u043e\\u0442\\u0434\\u0435\\u043b\\u0435\\u043d\\u0438\\u0435 \\u0420\\u0443\\u0441\\u0441\\u043a\\u043e\\u0433\\u043e \\u0441\\u0442\\u0430\\u043d\\u0434\\u0430\\u0440\\u0442\\u0430, \\u0440\\u0430\\u0441\\u043f\\u043e\\u043b\\u043e\\u0436\\u0435\\u043d\\u043d\\u043e\\u0435 \\u0431\\u0443\\u043a\\u0432\\u0430\\u043b\\u044c\\u043d\\u043e \\u0432 \\u0441\\u043e\\u0441\\u0435\\u0434\\u043d\\u0435\\u043c \\u0437\\u0434\\u0430\\u043d\\u0438\\u0438. \\u041f\\u0440\\u043e\\u0441\\u0442\\u043e \\u043d\\u0435\\u0431\\u043e \\u0438 \\u0437\\u0435\\u043c\\u043b\\u044f!\\u041b\\u0438\\u0448\\u043d\\u0438\\u0439 \\u043f\\u043e\\u0432\\u043e\\u0434 \\u0443\\u0431\\u0435\\u0434\\u0438\\u0442\\u044c\\u0441\\u044f, \\u0447\\u0442\\u043e \\u0440\\u0430\\u0437\\u043c\\u0435\\u0440 \\u043e\\u0444\\u0438\\u0441\\u0430 \\u0438 \\u0440\\u0430\\u0441\\u043a\\u0440\\u0443\\u0447\\u0435\\u043d\\u043d\\u043e\\u0441\\u0442\\u044c \\u0431\\u0440\\u0435\\u043d\\u0434\\u0430 \\u043e\\u0431\\u0440\\u0430\\u0442\\u043d\\u043e \\u043f\\u0440\\u043e\\u043f\\u043e\\u0440\\u0446\\u0438\\u043e\\u043d\\u0430\\u043b\\u044c\\u043d\\u044b \\u043a\\u0430\\u0447\\u0435\\u0441\\u0442\\u0432\\u0443 \\u043e\\u0431\\u0441\\u043b\\u0443\\u0436\\u0438\\u0432\\u0430\\u043d\\u0438\\u044f! \\u0415\\u0441\\u043b\\u0438 \\u0432 \\u0411\\u0420\\u0421 \\u043f\\u043e \\u0430\\u043d\\u0430\\u043b\\u043e\\u0433\\u0438\\u0447\\u043d\\u043e\\u043c\\u0443 \\u0432\\u043e\\u043f\\u0440\\u043e\\u0441\\u0443 \\u043f\\u0440\\u0438\\u0448\\u043b\\u043e\\u0441\\u044c \\u043f\\u0440\\u043e\\u0442\\u043e\\u0440\\u0447\\u0430\\u0442\\u044c \\u043f\\u043e\\u043b\\u0442\\u043e\\u0440\\u0430 \\u0447\\u0430\\u0441\\u0430, \\u0432\\u0434\\u043e\\u0432\\u043e\\u043b\\u044c \\u043d\\u0430\\u0441\\u043c\\u043e\\u0442\\u0440\\u0435\\u0432\\u0448\\u0438\\u0441\\u044c \\u043d\\u0430 \\u0438\\u0445 \\u0432\\u0430\\u043b\\u044c\\u044f\\u0436\\u043d\\u044b\\u0445 \\u043c\\u0430\\u043d\\u0430\\u0433\\u0435\\u0440\\u043e\\u0432, \\u043a\\u043e\\u0442\\u043e\\u0440\\u044b\\u0435 \\u043d\\u0435\\u0441\\u043c\\u043e\\u0442\\u0440\\u044f \\u043d\\u0430 \\u043e\\u0447\\u0435\\u0440\\u0435\\u0434\\u044c \\u0438\\u0437 \\u043a\\u043b\\u0438\\u0435\\u043d\\u0442\\u043e\\u0432, \\u0432\\u0434\\u0440\\u0443\\u0433 \\u0440\\u0435\\u0448\\u0430\\u043b\\u0438 \\u0443\\u0439\\u0442\\u0438 \\u043d\\u0430 \\u043f\\u0435\\u0440\\u0435\\u043a\\u0443\\u0441/\\u043f\\u0435\\u0440\\u0435\\u043a\\u0443\\u0440, \\u043f\\u0440\\u0438\\u0447\\u0435\\u043c \\u043d\\u0435 \\u043f\\u043e\\u043e\\u0434\\u0438\\u043d\\u043e\\u0447\\u043a\\u0435, \\u0432\\u0438\\u0434\\u0438\\u043c\\u043e \\u0447\\u0442\\u043e\\u0431 \\u043d\\u0435 \\u0441\\u043a\\u0443\\u0447\\u043d\\u043e \\u0431\\u044b\\u043b\\u043e. \\u0414\\u0430 \\u0438 \\u0442\\u0435, \\u043a\\u0442\\u043e \\u0440\\u0430\\u0431\\u043e\\u0442\\u0430\\u043b\\u0438, \\u043d\\u0435 \\u0441\\u043b\\u0438\\u0448\\u043a\\u043e\\u043c \\u0441\\u043f\\u0435\\u0448\\u0438\\u043b\\u0438. \\u0412 \\u043e\\u0431\\u0449\\u0435\\u043c, \\u0431\\u044b\\u043b\\u043e \\u0441\\u0438\\u043b\\u044c\\u043d\\u043e\\u0435 \\u0436\\u0435\\u043b\\u0430\\u043d\\u0438\\u0435 \\u043f\\u043b\\u044e\\u043d\\u0443\\u0442\\u044c \\u0438 \\u0443\\u0439\\u0442\\u0438 \\u0441 \\u0438\\u0437\\u0432\\u0438\\u043d\\u0435\\u043d\\u0438\\u044f\\u043c\\u0438 \\u0437\\u0430 \\u0442\\u043e, \\u0447\\u0442\\u043e \\u043f\\u043e\\u0431\\u0435\\u0441\\u043f\\u043e\\u043a\\u043e\\u0438\\u043b \\u0441\\u0442\\u043e\\u043b\\u044c \\u0440\\u0435\\u0441\\u043f\\u0435\\u043a\\u0442\\u0430\\u0431\\u0435\\u043b\\u044c\\u043d\\u0443\\u044e \\u043f\\u0443\\u0431\\u043b\\u0438\\u043a\\u0443 \\u0441\\u0432\\u043e\\u0438\\u043c \\u043d\\u0438\\u043a\\u0447\\u0435\\u043c\\u043d\\u044b\\u043c \\u0432\\u0438\\u0437\\u0438\\u0442\\u043e\\u043c.\\u0412 \\u043e\\u0442\\u0434\\u0435\\u043b\\u0435\\u043d\\u0438\\u0438 \\u0436\\u0435 \\u0420\\u0435\\u043d\\u0435\\u0441\\u0441\\u0430\\u043d\\u0441\\u0430 (\\u0442\\u0430\\u043a \\u0438 \\u0445\\u043e\\u0447\\u0435\\u0442\\u0441\\u044f \\u0441\\u043a\\u0430\\u0437\\u0430\\u0442\\u044c \\u0432 \\u043e\\u0442\\u0434\\u0435\\u043b\\u0435\\u043d\\u044c\\u0438\\u0446\\u0435, \\u043f\\u043e \\u0441\\u0440\\u0430\\u0432\\u043d\\u0435\\u043d\\u0438\\u044e \\u0441 \\u0431\\u0430\\u0440\\u0441\\u0442\\u0432\\u0443\\u044e\\u0449\\u0438\\u043c \\u0411\\u0420\\u0421 ) \\u043f\\u0440\\u044f\\u043c\\u043e \\u0443 \\u0432\\u0445\\u043e\\u0434\\u0430 \\u0432\\u0441\\u0435\\u0445 \\u0432\\u0441\\u0442\\u0440\\u0435\\u0447\\u0430\\u043b\\u0430 \\u044e\\u043d\\u0430\\u044f \\u0438 \\u0445\\u0440\\u0443\\u043f\\u043a\\u0430\\u044f \\u0441\\u043e\\u0442\\u0440\\u0443\\u0434\\u043d\\u0438\\u0446\\u0430 (\\u043a \\u0441\\u0432\\u043e\\u0435\\u043c\\u0443 \\u0441\\u0442\\u044b\\u0434\\u0443, \\u043d\\u0435 \\u043f\\u043e\\u0438\\u043d\\u0442\\u0435\\u0440\\u0435\\u0441\\u043e\\u0432\\u0430\\u043b\\u0441\\u044f \\u0435\\u0435 \\u0438\\u043c\\u0435\\u043d\\u0435\\u043c), \\u043a\\u043e\\u0442\\u043e\\u0440\\u0430\\u044f \\u0441 \\u0432\\u0435\\u0436\\u043b\\u0438\\u0432\\u043e \\u0438 \\u044d\\u043d\\u0435\\u0440\\u0433\\u0438\\u0447\\u043d\\u043e \\u0440\\u0430\\u0437\\u0440\\u0443\\u043b\\u0438\\u0432\\u0430\\u043b\\u0430 \\u043d\\u0430 \\u043b\\u0435\\u0442\\u0443 \\u0432\\u0441\\u0435 \\u043f\\u0440\\u043e\\u0431\\u043b\\u0435\\u043c\\u044b \\u043a\\u043b\\u0438\\u0435\\u043d\\u0442\\u043e\\u0432, \\u0437\\u0430\\u043f\\u0438\\u0441\\u044b\\u0432\\u0430\\u043b\\u0430 \\u0438 \\u0441\\u043b\\u0435\\u0434\\u0438\\u043b\\u0430 \\u0437\\u0430 \\u043e\\u0447\\u0435\\u0440\\u0435\\u0434\\u044c\\u044e \\u0432 \\u0437\\u0430\\u0432\\u0438\\u0441\\u0438\\u043c\\u043e\\u0441\\u0442\\u0438 \\u043e\\u0442 \\u0446\\u0435\\u043b\\u0438 \\u0432\\u0438\\u0437\\u0438\\u0442\\u0430, \\u0441\\u0430\\u043c\\u0430 \\u0431\\u0435\\u0433\\u0430\\u043b\\u0430 \\u0432 \\u043a\\u0430\\u0441\\u0441\\u0443, \\u0447\\u0442\\u043e\\u0431\\u044b \\u0440\\u0430\\u0437\\u043c\\u0435\\u043d\\u044f\\u0442\\u044c \\u0438\\u043c \\u043a\\u0443\\u043f\\u044e\\u0440\\u044b, \\u043f\\u043e\\u043c\\u043e\\u0433\\u0430\\u043b\\u0430 \\u0440\\u0430\\u0437\\u0431\\u0438\\u0440\\u0430\\u0442\\u044c\\u0441\\u044f \\u0441 \\u043f\\u043b\\u0430\\u0442\\u0435\\u0436\\u043d\\u044b\\u043c \\u0442\\u0435\\u0440\\u043c\\u0438\\u043d\\u0430\\u043b\\u043e\\u043c \\u0438 \\u0442.\\u0434. \\u041e\\u0434\\u043d\\u0438\\u043c \\u0441\\u043b\\u043e\\u0432\\u043e\\u043c - \\u0432\\u044b\\u0441\\u0448\\u0438\\u0439 \\u043f\\u0438\\u043b\\u043e\\u0442\\u0430\\u0436! \\u041c\\u0435\\u043d\\u044f \\u043e\\u043d\\u0430, \\u043d\\u0435\\u0441\\u043c\\u043e\\u0442\\u0440\\u044f \\u043d\\u0430 \\u043e\\u043f\\u043e\\u0437\\u0434\\u0430\\u043d\\u0438\\u0435, \\u0441\\u0440\\u0430\\u0437\\u0443 \\u0436\\u0435 \\u043e\\u0442\\u043c\\u0435\\u0442\\u0438\\u043b\\u0430 \\u043a\\u0430\\u043a \\u043f\\u0440\\u0438\\u043e\\u0440\\u0438\\u0442\\u0435\\u0442\\u043d\\u043e\\u0433\\u043e \\u043a\\u043b\\u0438\\u0435\\u043d\\u0442\\u0430, \\u043e\\u0431\\u0435\\u0449\\u0430\\u043b\\u0430 \\u0441\\u0440\\u0430\\u0437\\u0443 \\u043f\\u0440\\u043e\\u0432\\u043e\\u0434\\u0438\\u0442\\u044c \\u043a \\u043f\\u0435\\u0440\\u0432\\u043e\\u043c\\u0443 \\u0436\\u0435 \\u043e\\u0441\\u0432\\u043e\\u0431\\u043e\\u0434\\u0438\\u0432\\u0448\\u0435\\u043c\\u0443\\u0441\\u044f \\u043c\\u0435\\u043d\\u0435\\u0434\\u0436\\u0435\\u0440\\u0443, \\u0447\\u0442\\u043e \\u0438 \\u0441\\u0434\\u0435\\u043b\\u0430\\u043b\\u0430 \\u0431\\u0443\\u043a\\u0432\\u0430\\u043b\\u044c\\u043d\\u043e \\u0447\\u0435\\u0440\\u0435\\u0437 5 \\u043c\\u0438\\u043d\\u0443\\u0442. \\u0412 \\u043e\\u0431\\u0449\\u0435\\u043c \\u0438 \\u0446\\u0435\\u043b\\u043e\\u043c, \\u043d\\u0430 \\u043e\\u0444\\u043e\\u0440\\u043c\\u043b\\u0435\\u043d\\u0438\\u0435 \\u0432\\u043a\\u043b\\u0430\\u0434\\u0430 \\u0443\\u0448\\u043b\\u043e \\u043d\\u0435 \\u0431\\u043e\\u043b\\u0435\\u0435 20-25 \\u043c\\u0438\\u043d\\u0443\\u0442. \\u041e\\u0442\\u0447\\u0430\\u0441\\u0442\\u0438 \\u043e\\u0442\\u0442\\u043e\\u0433\\u043e, \\u0447\\u0442\\u043e \\u0440\\u0435\\u0430\\u043b\\u044c\\u043d\\u043e \\u0441\\u043f\\u0435\\u0448\\u0438\\u043b, \\u0430 \\u043e\\u0442\\u0447\\u0430\\u0441\\u0442\\u0438 \\u043e\\u0442\\u0442\\u043e\\u0433\\u043e, \\u0447\\u0442\\u043e \\u0431\\u044b\\u043b \\u043d\\u0435 \\u0433\\u043e\\u0442\\u043e\\u0432 \\u043a \\u0442\\u0430\\u043a\\u043e\\u043c\\u0443 \\u043e\\u0431\\u0441\\u043b\\u0443\\u0436\\u0438\\u0432\\u0430\\u043d\\u0438\\u044e, \\u0443\\u0445\\u043e\\u0434\\u0438\\u043b \\u044f \\u0441\\u043b\\u0438\\u0448\\u043a\\u043e\\u043c \\u0431\\u044b\\u0441\\u0442\\u0440\\u043e \\u0438 \\u0432 \\u043d\\u0435\\u043a\\u043e\\u0442\\u043e\\u0440\\u043e\\u0439 \\u043f\\u0440\\u043e\\u0441\\u0442\\u0440\\u0430\\u0446\\u0438\\u0438, \\u043f\\u043e\\u044d\\u0442\\u043e\\u043c\\u0443 \\u043d\\u0435 \\u0443\\u0441\\u043f\\u0435\\u043b \\u0434\\u0430\\u0436\\u0435 \\u0442\\u043e\\u043b\\u043a\\u043e\\u043c \\u043f\\u043e\\u043f\\u0440\\u043e\\u0449\\u0430\\u0442\\u044c\\u0441\\u044f \\u0438 \\u043f\\u043e\\u0431\\u043b\\u0430\\u0433\\u043e\\u0434\\u0430\\u0440\\u0438\\u0442\\u044c. \\u041f\\u043e\\u044d\\u0442\\u043e\\u043c\\u0443 \\u0438\\u0441\\u043a\\u0440\\u0435\\u043d\\u043d\\u0435 \\u0441\\u0435\\u0439\\u0447\\u0430\\u0441 \\u044d\\u0442\\u043e\\u0433\\u043e \\u0441\\u0442\\u044b\\u0436\\u0443\\u0441\\u044c \\u0438 \\u0433\\u043e\\u0432\\u043e\\u0440\\u044e \\u043e\\u0433\\u0440\\u043e\\u043c\\u043d\\u043e\\u0435 \\u0441\\u043f\\u0430\\u0441\\u0438\\u0431\\u043e \\u0437\\u0430\\u043e\\u0447\\u043d\\u043e! ops:   \\u0413\\u043e\\u0441\\u043f\\u043e\\u0434\\u0430 \\u0438\\u0437 \\u0440\\u0443\\u043a\\u043e\\u0432\\u043e\\u0434\\u0441\\u0442\\u0432\\u0430 \\u0420\\u0435\\u043d\\u0435\\u0441\\u0441\\u0430\\u043d\\u0441-\\u041a\\u0440\\u0435\\u0434\\u0438\\u0442, \\u0446\\u0435\\u043d\\u0438\\u0442\\u0435 \\u0441\\u0432\\u043e\\u0438\\u0445 \\u0441\\u043e\\u0442\\u0440\\u0443\\u0434\\u043d\\u0438\\u043a\\u043e\\u0432 \\u0438\\u0437 \\u0441\\u0432\\u043e\\u0435\\u0433\\u043e \\u0438\\u0432\\u0430\\u043d\\u043e\\u0432\\u0441\\u043a\\u043e\\u0433\\u043e \\u043e\\u0442\\u0434\\u0435\\u043b\\u0435\\u043d\\u0438\\u044f! \\u0415\\u0441\\u043b\\u0438 \\u043d\\u0435\\u0442 \\u0432\\u043e\\u0437\\u043c\\u043e\\u0436\\u043d\\u043e\\u0441\\u0442\\u0438 \\u043f\\u0435\\u0440\\u0435\\u0441\\u0435\\u043b\\u0438\\u0442\\u044c \\u0438\\u0445 \\u0432 \\u043e\\u0444\\u0438\\u0441 \\u043f\\u043e\\u043f\\u0440\\u043e\\u0441\\u0442\\u043e\\u0440\\u043d\\u0435\\u0435 (\\u0430 \\u043e\\u043d\\u0438 \\u044d\\u0442\\u043e\\u0433\\u043e \\u0437\\u0430\\u0441\\u043b\\u0443\\u0436\\u0438\\u0432\\u0430\\u044e\\u0442), \\u0442\\u043e \\u0445\\u043e\\u0442\\u044f \\u0431\\u044b \\u043f\\u043e\\u0441\\u0442\\u0430\\u0432\\u044c\\u0442\\u0435 \\u0442\\u0430\\u043c \\u0435\\u0449\\u0435 \\u043e\\u0434\\u0438\\u043d \\u0442\\u0435\\u0440\\u043c\\u0438\\u043d\\u0430\\u043b \\u0434\\u043b\\u044f \\u043e\\u043f\\u043b\\u0430\\u0442\\u044b (\\u0434\\u043b\\u044f \\u0431\\u043e\\u043b\\u044c\\u0448\\u0435\\u0433\\u043e \\u043a\\u043e\\u043b\\u0438\\u0447\\u0435\\u0441\\u0442\\u0432\\u0430 \\u0442\\u0430\\u043c \\u043f\\u0440\\u043e\\u0441\\u0442\\u043e \\u043c\\u0435\\u0441\\u0442\\u0430 \\u043d\\u0435\\u0442). \\u041d\\u0430\\u0441\\u043a\\u043e\\u043b\\u044c\\u043a\\u043e \\u044f \\u0443\\u0441\\u043f\\u0435\\u043b \\u0437\\u0430\\u043c\\u0435\\u0442\\u0438\\u0442\\u044c, \\u043e\\u0441\\u043d\\u043e\\u0432\\u043d\\u044b\\u0435 \\u043f\\u0440\\u043e\\u0431\\u043a\\u0438 \\u0438\\u0437 \\u043a\\u043b\\u0438\\u0435\\u043d\\u0442\\u043e\\u0432 \\u0432\\u043e\\u0437\\u043d\\u0438\\u043a\\u0430\\u044e\\u0442 \\u0438\\u043c\\u0435\\u043d\\u043d\\u043e \\u0443 \\u043a\\u0430\\u0441\\u0441\\u044b.\\u0418 \\u0440\\u0430\\u0437\\u0432\\u0438\\u0432\\u0430\\u0439\\u0442\\u0435 \\u0438\\u043d\\u0442\\u0435\\u0440\\u043d\\u0435\\u0442-\\u0431\\u0430\\u043d\\u043a, \\u0435\\u0433\\u043e \\u043e\\u0442\\u0441\\u0443\\u0442\\u0441\\u0442\\u0432\\u0438\\u0435 \\u0441\\u0438\\u043b\\u044c\\u043d\\u043e \\u0431\\u044c\\u0435\\u0442 \\u043f\\u043e \\u0432\\u0430\\u0448\\u0435\\u043c\\u0443 \\u0438\\u043c\\u0438\\u0434\\u0436\\u0443 \\u0438 \\u0444\\u0443\\u043d\\u043a\\u0446\\u0438\\u043e\\u043d\\u0430\\u043b\\u044c\\u043d\\u043e\\u0441\\u0442\\u0438.\\u0410 \\u0441\\u043e\\u0442\\u0440\\u0443\\u0434\\u043d\\u0438\\u043a\\u0430\\u043c \\u0438\\u0432\\u0430\\u043d\\u043e\\u0432\\u0441\\u043a\\u043e\\u0433\\u043e \\u043e\\u0444\\u0438\\u0441\\u0430 \\u0435\\u0449\\u0435 \\u0440\\u0430\\u0437 \\u043c\\u043e\\u044f \\u0438\\u0441\\u043a\\u0440\\u0435\\u043d\\u043d\\u044f\\u044f \\u0431\\u043b\\u0430\\u0433\\u043e\\u0434\\u0430\\u0440\\u043d\\u043e\\u0441\\u0442\\u044c! \\u041e\\u0442\\u043b\\u0438\\u0447\\u043d\\u0430\\u044f \\u0440\\u0430\\u0431\\u043e\\u0442\\u0430!\"\n        ],\n        \"semantic_type\": \"\",\n        \"description\": \"\"\n      }\n    },\n    {\n      \"column\": \"text_lower\",\n      \"properties\": {\n        \"dtype\": \"string\",\n        \"num_unique_values\": 13998,\n        \"samples\": [\n          \"\\u0440\\u0430\\u043d\\u0435\\u0435 \\u0443\\u0436\\u0435 \\u0432\\u0430\\u043c \\u043f\\u0438\\u0441\\u0430\\u043b\\u0430 \\u043e \\u0442\\u043e\\u043c, \\u0447\\u0442\\u043e \\u043c\\u043d\\u0435 \\u043d\\u0430\\u0433\\u043b\\u044b\\u043c \\u043e\\u0431\\u0440\\u0430\\u0437\\u043e\\u043c \\u0432\\u0441\\u0443\\u0447\\u0438\\u043b\\u0438 \\u0441\\u0442\\u0440\\u0430\\u0445\\u043e\\u0432\\u043a\\u0443 \\u043a\\u0440\\u0435\\u0434\\u0438\\u0442\\u0430.\\u00a0\\u0430\\u043b\\u043b\\u0438\\u043b\\u0443\\u0439\\u044f, \\u044f \\u0441\\u043c\\u043e\\u0433\\u043b\\u0430 \\u043e\\u0442 \\u043d\\u0435\\u0435 \\u043e\\u0442\\u043a\\u0430\\u0437\\u0430\\u0442\\u044c\\u0441\\u044f! \\u043c\\u043d\\u0435 \\u043d\\u0430 \\u043a\\u0440\\u0435\\u0434\\u0438\\u0442\\u043d\\u044b\\u0439 \\u0441\\u0447\\u0435\\u0442 \\u043f\\u0440\\u0438\\u0448\\u043b\\u043e 25 094,40\\u0440. \\u043f\\u043e\\u043d\\u044f\\u0442\\u043d\\u043e\\u0435 \\u0434\\u0435\\u043b\\u043e, \\u044f \\u0441\\u0440\\u0430\\u0437\\u0443 \\u0436\\u0435 \\u043e\\u0431\\u0440\\u0430\\u0442\\u0438\\u043b\\u0430\\u0441\\u044c \\u0432 \\u043e\\u0442\\u0434\\u0435\\u043b\\u0435\\u043d\\u0438\\u0435, \\u0447\\u0442\\u043e\\u0431\\u044b \\u043c\\u043d\\u0435 \\u0441\\u0434\\u0435\\u043b\\u0430\\u043b\\u0438 \\u0447\\u0430\\u0441\\u0442\\u0438\\u0447\\u043d\\u043e \\u0434\\u043e\\u0441\\u0440\\u043e\\u0447\\u043d\\u043e\\u0435 \\u043f\\u043e\\u0433\\u0430\\u0448\\u0435\\u043d\\u0438\\u0435 \\u0441 \\u0441\\u043e\\u043a\\u0440\\u0430\\u0449\\u0435\\u043d\\u0438\\u0435\\u043c \\u0441\\u0440\\u043e\\u043a\\u0430 \\u043f\\u043b\\u0430\\u0442\\u0435\\u0436\\u0430. \\u0432 \\u0434\\u043e \\u043e\\u0442\\u0440\\u0430\\u0434\\u043d\\u043e\\u0435 \\u043c\\u0435\\u043d\\u044f \\u043e\\u0431\\u0441\\u043b\\u0443\\u0436\\u0438\\u0432\\u0430\\u043b \\u0441\\u043f\\u0435\\u0446\\u0438\\u0430\\u043b\\u0438\\u0441\\u0442 \\u0440-\\u0438\\u043d\\u0430 \\u0430.\\u0441. 22.10.2015 \\u043e\\u043d\\u0430 \\u043e\\u0444\\u043e\\u0440\\u043c\\u0438\\u043b\\u0430 \\u043c\\u043d\\u0435 \\u0437\\u0430\\u044f\\u0432\\u043b\\u0435\\u043d\\u0438\\u0435 \\u043d\\u0430 \\u0447\\u0430\\u0441\\u0442\\u0438\\u0447\\u043d\\u043e \\u0434\\u043e\\u0441\\u0440\\u043e\\u0447\\u043d\\u043e\\u0435 \\u043f\\u043e\\u0433\\u0430\\u0448\\u0435\\u043d\\u0438\\u0435 \\u043d\\u0430 \\u0441\\u0443\\u043c\\u043c\\u0443 25 094,40\\u0440 \\u0438 \\u0441\\u043a\\u0430\\u0437\\u0430\\u043b\\u0430 \\u043f\\u0440\\u0438\\u0439\\u0442\\u0438 \\u0432 \\u0434\\u0435\\u043d\\u044c \\u043c\\u043e\\u0435\\u0433\\u043e \\u043f\\u043b\\u0430\\u0442\\u0435\\u0436\\u0430 \\u043f\\u043e\\u043b\\u0443\\u0447\\u0438\\u0442\\u044c \\u043d\\u043e\\u0432\\u044b\\u0439 \\u0433\\u0440\\u0430\\u0444\\u0438\\u043a \\u043f\\u043b\\u0430\\u0442\\u0435\\u0436\\u0435\\u0439. (\\u0441\\u043a\\u0430\\u043d \\u0437\\u0430\\u044f\\u0432\\u043b\\u0435\\u043d\\u0438\\u044f \\u044f \\u043c\\u043e\\u0433\\u0443 \\u043f\\u0440\\u0435\\u0434\\u043e\\u0441\\u0442\\u0430\\u0432\\u0438\\u0442\\u044c \\u0441 \\u0435\\u0435 \\u0436\\u0435 \\u043f\\u0435\\u0447\\u0430\\u0442\\u044c\\u044e.) \\u0432 \\u0438\\u0442\\u043e\\u0433\\u0435 23.11.2015, \\u043a\\u043e\\u0433\\u0434\\u0430 \\u044f \\u043f\\u0440\\u0438\\u0448\\u043b\\u0430 \\u0432 \\u043e\\u0442\\u0434\\u0435\\u043b\\u0435\\u043d\\u0438\\u0435 \\u0431\\u0430\\u043d\\u043a\\u0430, \\u0442\\u043e \\u0441\\u043f\\u0435\\u0446\\u0438\\u0430\\u043b\\u0438\\u0441\\u0442 \\u043f\\u043e \\u0438\\u043c\\u0435\\u043d\\u0438 \\u0441\\u043e\\u043b\\u043e\\u043c\\u043e\\u043d \\u0441\\u043a\\u0430\\u0437\\u0430\\u043b, \\u0447\\u0442\\u043e \\u0437\\u0430\\u044f\\u0432\\u043b\\u0435\\u043d\\u0438\\u0435 \\u043d\\u0435 \\u0431\\u044b\\u043b\\u043e \\u043e\\u0444\\u043e\\u0440\\u043c\\u043b\\u0435\\u043d\\u043e. \\u044f \\u043e\\u0444\\u043e\\u0440\\u043c\\u0438\\u043b\\u0430 \\u043f\\u0440\\u0435\\u0442\\u0435\\u043d\\u0437\\u0438\\u044e n 1511231999 \\u043e\\u0442 23.11.2015, \\u0432 \\u0438\\u0442\\u043e\\u0433\\u0435 26.11.2015 \\u043c\\u043d\\u0435 \\u043f\\u0440\\u0438\\u0448\\u0435\\u043b \\u043e\\u0442\\u043a\\u0430\\u0437. \\u044f \\u0441\\u0435\\u0439\\u0447\\u0430\\u0441 \\u043f\\u043e\\u044f\\u0441\\u043d\\u044e \\u043c\\u043e\\u0435 \\u043d\\u0435\\u0434\\u043e\\u0432\\u043e\\u043b\\u044c\\u0441\\u0442\\u0432\\u043e: \\u0441\\u043c\\u043e\\u0442\\u0440\\u0438\\u043c \\u043c\\u043e\\u0439 \\u0433\\u0440\\u0430\\u0444\\u0438\\u043a \\u043f\\u043b\\u0430\\u0442\\u0435\\u0436\\u0435\\u0439 - 17.11.15 - \\u0435\\u0436. \\u043f\\u043b. 5 910, \\u0433\\u0434\\u0435 \\u0434\\u043e\\u043b\\u0433 - 2 795.99, \\u0430 % 3 114,01. \\u043f\\u043e \\u0444\\u0430\\u043a\\u0442\\u0443 \\u0438\\u0437 \\u0441\\u0443\\u043c\\u043c\\u044b 25 094,40\\u0440 - 5 910 = 19 184,40 - \\u0434\\u0430\\u043d\\u043d\\u0430\\u044f \\u0441\\u0443\\u043c\\u043c\\u0430 \\u0434\\u043e\\u043b\\u0436\\u043d\\u0430 \\u0431\\u044b\\u043b\\u0430 \\u0443\\u043f\\u0430\\u0441\\u0442\\u044c \\u0432 \\u043f\\u043e\\u0433\\u0430\\u0448\\u0435\\u043d\\u0438\\u0435 \\u043e\\u0441\\u043d\\u043e\\u0432\\u043d\\u043e\\u0433\\u043e \\u0434\\u043e\\u043b\\u0433\\u0430 \\u0438 \\u0441\\u043e\\u043a\\u0440\\u0430\\u0442\\u0438\\u0442\\u044c \\u044d\\u0442\\u0438\\u043c \\u0441\\u0430\\u043c\\u044b\\u043c \\u043c\\u043d\\u0435 \\u0441\\u0440\\u043e\\u043a \\u0441 24 \\u043c\\u0435\\u0441. \\u0434\\u043e 17 \\u043c\\u0435\\u0441. \\u0430 \\u0447\\u0442\\u043e \\u043c\\u044b \\u0432 \\u0438\\u0442\\u043e\\u0433\\u0435 \\u043f\\u043e\\u043b\\u0443\\u0447\\u0430\\u0435\\u043c? \\u0431\\u0430\\u043d\\u043a \\u043e\\u0442\\u043a\\u0430\\u0437\\u0430\\u043b\\u0441\\u044f \\u0432 \\u0438\\u0441\\u043f\\u0440\\u0430\\u0432\\u043b\\u0435\\u043d\\u0438\\u0438 \\u0441\\u0432\\u043e\\u0438\\u0445 \\u043e\\u0448\\u0438\\u0431\\u043e\\u043a. \\u044f \\u043f\\u0440\\u043e\\u0441\\u0438\\u043b\\u0430 \\u0443\\u0441\\u0442\\u0440\\u043e\\u0438\\u0442\\u044c \\u043c\\u043d\\u0435 \\u043f\\u0435\\u0440\\u0435\\u0440\\u0430\\u0441\\u0447\\u0435\\u0442, \\u0442\\u0430\\u043a \\u043a\\u0430\\u043a \\u0435\\u0441\\u043b\\u0438 \\u0432 \\u043d\\u044b\\u043d\\u0435\\u0448\\u043d\\u0435\\u0439 \\u0441\\u0438\\u0442\\u0443\\u0430\\u0446\\u0438\\u0438 \\u044f \\u0441\\u0434\\u0435\\u043b\\u0430\\u044e \\u0447\\u0430\\u0441\\u0442\\u0438\\u0447\\u043d\\u043e \\u0434\\u043e\\u0441\\u0440\\u043e\\u0447\\u043d\\u043e\\u0435 \\u043f\\u043e\\u0433\\u0430\\u0448\\u0435\\u043d\\u0438\\u0435, \\u0442\\u043e \\u044d\\u0442\\u043e \\u0443\\u0436\\u0435 \\u0431\\u0443\\u0434\\u0435\\u0442 \\u0441 \\u0441\\u0443\\u043c\\u043c\\u044b 19 184,40 - \\u0447\\u0443\\u0432\\u0441\\u0442\\u0432\\u0443\\u0435\\u0442\\u0435 \\u0440\\u0430\\u0437\\u043d\\u0438\\u0446\\u0443? \\u0442.\\u0435. \\u043c\\u043e\\u0439 \\u0432\\u0442\\u043e\\u0440\\u043e\\u0439 \\u043f\\u043b\\u0430\\u0442\\u0435\\u0436 17.12.15 - \\u0435\\u0436. \\u043f\\u043b. - 5910, \\u0433\\u0434\\u0435 \\u0434\\u043e\\u043b\\u0433 - 2 981 \\u0438 % 2 928, 52 (\\u0438\\u043c\\u0435\\u043d\\u043d\\u043e \\u044d\\u0442\\u0438 % \\u0434\\u043e\\u043b\\u0436\\u043d\\u044b \\u0431\\u044b\\u043b\\u0438 \\u0441\\u0433\\u043e\\u0440\\u0435\\u0442\\u044c \\u043f\\u0440\\u0438 \\u043c\\u043e\\u0435\\u043c \\u0437\\u0430\\u044f\\u0432\\u043b\\u0435\\u043d\\u0438\\u0435 \\u043e\\u0442 22.10.2015, \\u0430 \\u044d\\u0442\\u043e \\u043e\\u0437\\u043d\\u0430\\u0447\\u0430\\u0435\\u0442, \\u0447\\u0442\\u043e \\u0431\\u0430\\u043d\\u043a \\u0438\\u0445 \\u0441\\u0432\\u043e\\u0435\\u0432\\u043e\\u043b\\u044c\\u043d\\u043e \\u0443\\u0434\\u0435\\u0440\\u0436\\u0430\\u043b). \\u0432\\u043e\\u0442 \\u043f\\u0440\\u0435\\u0434\\u0441\\u0442\\u0430\\u0432\\u0438\\u043c \\u0441\\u0438\\u0442\\u0443\\u0430\\u0446\\u0438\\u044e, \\u0447\\u0442\\u043e \\u044f \\u0442\\u0430\\u043a\\u0430\\u044f \\u0432 \\u0441\\u0438\\u0441\\u0442\\u0435\\u043c\\u0435 \\u043d\\u0435 \\u043e\\u0434\\u043d\\u0430 \\u0438, \\u043d\\u0430\\u043f\\u0440\\u0438\\u043c\\u0435\\u0440, \\u0434\\u043b\\u044f 100 \\u0447\\u0435\\u043b\\u043e\\u0432\\u0435\\u043a \\u043e\\u043d \\u0442\\u0430\\u043a\\u0443\\u044e \\u0436\\u0435 \\u0441\\u0445\\u0435\\u043c\\u0443 \\u043f\\u0440\\u043e\\u0432\\u0435\\u043b, \\u0432 \\u0438\\u0442\\u043e\\u0433\\u0435 \\u0437\\u0430\\u0440\\u0430\\u0431\\u043e\\u0442\\u0430\\u043b \\u043b\\u0438\\u0448\\u043d\\u0438\\u0435 292 852 \\u0437\\u0430 \\u043e\\u0434\\u0438\\u043d \\u043f\\u043b\\u0430\\u0442\\u0435\\u0436. \\u0431\\u0430\\u043d\\u043a-\\u0442\\u043e \\u0431\\u043e\\u043b\\u044c\\u0448\\u043e\\u0439, \\u043a\\u043b\\u0438\\u0435\\u043d\\u0442\\u043e\\u0432 \\u0443 \\u043d\\u0435\\u0433\\u043e \\u043c\\u043d\\u043e\\u0433\\u043e. \\u0430 \\u0447\\u0442\\u043e \\u0435\\u0441\\u043b\\u0438 \\u0441\\u0438\\u0441\\u0442\\u0435\\u043c\\u0430 \\u043d\\u0435 \\u0434\\u043b\\u044f 100 \\u0447\\u0435\\u043b\\u043e\\u0432\\u0435\\u043a \\u043e\\u0442\\u043a\\u0430\\u0437\\u0430\\u043b\\u0430, \\u0430 \\u0434\\u043b\\u044f 1000 \\u0438\\u043b\\u0438 \\u0431\\u043e\\u043b\\u0435\\u0435? \\u044f \\u0431\\u044b \\u0432\\u043e\\u0437\\u043c\\u043e\\u0436\\u043d\\u043e \\u0436\\u0438\\u0440\\u0443 \\u043d\\u0435 \\u0431\\u0435\\u0441\\u0438\\u043b\\u0430\\u0441\\u044c, \\u0435\\u0441\\u043b\\u0438 \\u0431\\u044b 4-\\u0439 \\u0440\\u0430\\u0437 \\u043d\\u0430 \\u0430\\u043b\\u044c\\u0444\\u0430 \\u0431\\u0430\\u043d\\u043a \\u043d\\u0435 \\u043f\\u0438\\u0441\\u0430\\u043b\\u0430, \\u0442\\u0430\\u043a \\u043a\\u0430\\u043a \\u043e\\u043d \\u0434\\u0438\\u043a\\u043e \\u043a\\u043e\\u0441\\u044f\\u0447\\u0438\\u0442: \\u043a\\u0440\\u0435\\u0434\\u0438\\u0442 \\u043d\\u0430 \\u043c\\u043e\\u0435 \\u0438\\u043c\\u044f \\u0431\\u0435\\u0437 \\u0434\\u043e\\u043a\\u043e\\u0432 \\u043e\\u0444\\u043e\\u0440\\u043c\\u0438\\u0442, \\u0441\\u043c\\u0441 \\u0442\\u0435\\u0442\\u0435 \\u043f\\u0440\\u0438\\u0441\\u044b\\u043b\\u0430\\u043b \\u043e\\u0431 \\u043f\\u043b\\u0430\\u0442\\u0435\\u0436\\u0430\\u0445, \\u0445\\u043e\\u0442\\u044f \\u043e\\u043d\\u0430 \\u0442\\u043e\\u043b\\u044c\\u043a\\u043e \\u043f\\u0440\\u0438\\u0435\\u0445\\u0430\\u043b\\u0430 \\u0441 \\u0443\\u043a\\u0440\\u0430\\u0438\\u043d\\u044b, \\u0441\\u0442\\u0440\\u0430\\u0445\\u043e\\u0432\\u043a\\u0443 \\u0432\\u043f\\u0430\\u0440\\u0438\\u0442, \\u043d\\u0435 \\u043f\\u0440\\u0438\\u043d\\u0438\\u043c\\u0430\\u0435\\u0442 \\u043f\\u043b\\u0430\\u0442\\u0435\\u0436\\u0438... \\u0447\\u0442\\u043e \\u0434\\u0430\\u043b\\u044c\\u0448\\u0435?\",\n          \"\\u0443\\u0436\\u0435 \\u0431\\u043e\\u043b\\u0435\\u0435 \\u0433\\u043e\\u0434\\u0430 \\u043d\\u0430\\u0437\\u0430\\u0434 \\u0434\\u0435\\u043b\\u0430\\u043b \\u0432\\u043a\\u043b\\u0430\\u0434 \\u0432 \\u0440\\u0435\\u043d\\u0435\\u0441\\u0441\\u0430\\u043d\\u0441 \\u043a\\u0440\\u0435\\u0434\\u0438\\u0442 \\u043d\\u0430 6 \\u043c\\u0435\\u0441\\u044f\\u0446\\u0435\\u0432, \\u043f\\u0440\\u0438\\u0447\\u0435\\u043c \\u0441\\u0443\\u043c\\u043c\\u0430 \\u0431\\u044b\\u043b\\u0430 \\u043e\\u0447\\u0435\\u043d\\u044c \\u043d\\u0435\\u0431\\u043e\\u043b\\u044c\\u0448\\u0430\\u044f, \\u0432\\u0441\\u0435\\u0433\\u043e 30000 \\u0440. \\u0441\\u0440\\u043e\\u043a \\u0432\\u043a\\u043b\\u0430\\u0434\\u0430 \\u043e\\u043a\\u043e\\u043d\\u0447\\u0438\\u043b\\u0441\\u044f, \\u0434\\u0435\\u043d\\u044c\\u0433\\u0438 \\u0441 \\u043f\\u0440\\u043e\\u0446\\u0435\\u043d\\u0442\\u0430\\u043c\\u0438 \\u043f\\u043e\\u043b\\u0443\\u0447\\u0438\\u043b, \\u0432\\u0441\\u0435 \\u043e\\u0441\\u0442\\u0430\\u043b\\u0438\\u0441\\u044c \\u0434\\u043e\\u0432\\u043e\\u043b\\u044c\\u043d\\u044b.\\u0438 \\u0432\\u0434\\u0440\\u0443\\u0433, \\u043f\\u0430\\u0440\\u0443 \\u043d\\u0435\\u0434\\u0435\\u043b\\u044c \\u043d\\u0430\\u0437\\u0430\\u0434, \\u043f\\u043e\\u043b\\u0443\\u0447\\u0430\\u044e \\u0437\\u0432\\u043e\\u043d\\u043e\\u043a \\u0438\\u0437 \\u0440\\u043a, \\u0432 \\u043a\\u043e\\u0442\\u043e\\u0440\\u043e\\u043c \\u043c\\u043d\\u0435 \\u043f\\u0440\\u0435\\u0434\\u043b\\u0430\\u0433\\u0430\\u044e\\u0442 \\u043a\\u0430\\u043a \\u043f\\u043e\\u0441\\u0442\\u043e\\u044f\\u043d\\u043d\\u043e\\u043c\\u0443 \\u043a\\u043b\\u0438\\u0435\\u043d\\u0442\\u0443 (!!!, \\u0443\\u0447\\u0438\\u0442\\u044b\\u0432\\u0430\\u044f \\u0432\\u044b\\u0448\\u0435\\u0443\\u043a\\u0430\\u0437\\u0430\\u043d\\u043d\\u044b\\u0435 \\u043e\\u0431\\u0441\\u0442\\u043e\\u044f\\u0442\\u0435\\u043b\\u044c\\u0441\\u0442\\u0432\\u0430) \\u0437\\u0430\\u043a\\u043b\\u044e\\u0447\\u0438\\u0442\\u044c \\u043d\\u043e\\u0432\\u044b\\u0439 \\u0434\\u043e\\u0433\\u043e\\u0432\\u043e\\u0440 \\u0432\\u043a\\u043b\\u0430\\u0434\\u0430 \\u043d\\u0430 \\u043b\\u044c\\u0433\\u043e\\u0442\\u043d\\u044b\\u0445 \\u0443\\u0441\\u043b\\u043e\\u0432\\u0438\\u044f\\u0445. \\u043f\\u0440\\u0438\\u0437\\u043d\\u0430\\u0442\\u044c\\u0441\\u044f, \\u0432\\u043a\\u043b\\u0430\\u0434 \\u043d\\u0430\\u043a\\u043e\\u043f\\u0438\\u0442\\u0435\\u043b\\u044c\\u043d\\u044b\\u0439 \\u0438 \\u0441\\u0430\\u043c \\u043f\\u043e \\u0441\\u0435\\u0431\\u0435 \\u0434\\u043e\\u0432\\u043e\\u043b\\u044c\\u043d\\u043e \\u0432\\u044b\\u0433\\u043e\\u0434\\u0435\\u043d \\u0438 \\u0443\\u0434\\u043e\\u0431\\u0435\\u043d, \\u0438 \\u044f \\u0443\\u0436\\u0435 \\u043f\\u043e\\u0434\\u0443\\u043c\\u044b\\u0432\\u0430\\u043b \\u043d\\u0435 \\u0434\\u043e\\u0432\\u0435\\u0440\\u0438\\u0442\\u044c \\u043b\\u0438 \\u0440\\u0435\\u043d\\u0435\\u0441\\u0441\\u0430\\u043d\\u0441\\u0443 \\u043c\\u043e\\u0438 \\u0434\\u0435\\u043d\\u044c\\u0433\\u0438 \\u0435\\u0449\\u0435 \\u0440\\u0430\\u0437. \\u043d\\u043e \\u043f\\u043e\\u0441\\u043b\\u0435 \\u0441\\u0442\\u043e\\u043b\\u044c \\u043b\\u0435\\u0441\\u0442\\u043d\\u043e\\u0433\\u043e \\u043f\\u0440\\u0435\\u0434\\u043b\\u043e\\u0436\\u0435\\u043d\\u0438\\u044f \\u043a\\u0430\\u043a \\u0443\\u0432\\u0435\\u043b\\u0438\\u0447\\u0435\\u043d\\u0438\\u0435 \\u043f\\u0440\\u043e\\u0446\\u0435\\u043d\\u0442\\u043d\\u043e\\u0439 \\u0441\\u0442\\u0430\\u0432\\u043a\\u0438 \\u0441\\u043f\\u0435\\u0446\\u0438\\u0430\\u043b\\u044c\\u043d\\u043e \\u0434\\u043b\\u044f \\u043c\\u0435\\u043d\\u044f \\u0435\\u0449\\u0435 \\u043d\\u0430 0,5% \\u0433\\u043e\\u0434\\u043e\\u0432\\u044b\\u0445 \\u043f\\u043b\\u044e\\u0441 \\u043f\\u043e\\u043b\\u0443\\u0447\\u0435\\u043d\\u0438\\u0435 \\u0441\\u0442\\u0440\\u0430\\u0445\\u043e\\u0432\\u043a\\u0438 \\u0436\\u0438\\u0437\\u043d\\u0438 \\u0432 \\u043f\\u043e\\u0434\\u0430\\u0440\\u043e\\u043a, \\u043e\\u0442\\u043a\\u0430\\u0437\\u0430\\u0442\\u044c\\u0441\\u044f \\u0443\\u0436\\u0435 \\u0431\\u044b\\u043b\\u043e \\u043f\\u0440\\u043e\\u0441\\u0442\\u043e \\u043d\\u0435\\u0432\\u0435\\u0436\\u043b\\u0438\\u0432\\u043e \\u0438 \\u043d\\u0435\\u0440\\u0430\\u0437\\u0443\\u043c\\u043d\\u043e. \\u043f\\u0440\\u0435\\u0434\\u0432\\u0430\\u0440\\u0438\\u0442\\u0435\\u043b\\u044c\\u043d\\u043e \\u0434\\u043e\\u0433\\u043e\\u0432\\u043e\\u0440\\u0438\\u043b\\u0438\\u0441\\u044c \\u043e\\u0431 \\u0443\\u0434\\u043e\\u0431\\u043d\\u043e\\u043c \\u043c\\u043d\\u0435 \\u0432\\u0440\\u0435\\u043c\\u0435\\u043d\\u0438 \\u0432\\u0438\\u0437\\u0438\\u0442\\u0430, \\u043d\\u0430 \\u043f\\u044f\\u0442\\u043d\\u0438\\u0446\\u0443 11 \\u043d\\u043e\\u044f\\u0431\\u0440\\u044f \\u0441 15 \\u0434\\u043e 16 \\u0447\\u0430\\u0441\\u043e\\u0432. \\u0432 \\u043f\\u044f\\u0442\\u043d\\u0438\\u0446\\u0443 \\u043c\\u043e\\u0438 \\u043e\\u0431\\u0441\\u0442\\u043e\\u044f\\u0442\\u0435\\u043b\\u044c\\u0441\\u0442\\u0432\\u0430 \\u043d\\u0435\\u0441\\u043a\\u043e\\u043b\\u044c\\u043a\\u043e \\u0438\\u0437\\u043c\\u0435\\u043d\\u0438\\u043b\\u0438\\u0441\\u044c, \\u043f\\u043e\\u0437\\u0432\\u043e\\u043d\\u0438\\u043b \\u043f\\u043e \\u0431\\u0435\\u0441\\u043f\\u043b\\u0430\\u0442\\u043d\\u043e\\u0439 \\u043b\\u0438\\u043d\\u0438\\u0438 \\u0432 \\u0440\\u043a, \\u043f\\u043e\\u043f\\u0440\\u043e\\u0441\\u0438\\u043b \\u043f\\u0435\\u0440\\u0435\\u043d\\u0435\\u0441\\u0442\\u0438 \\u0432\\u0440\\u0435\\u043c\\u044f \\u043f\\u043e\\u0441\\u0435\\u0449\\u0435\\u043d\\u0438\\u044f \\u0441 15 \\u043d\\u0430 12 \\u0447\\u0430\\u0441\\u043e\\u0432, \\u043f\\u0435\\u0440\\u0435\\u043d\\u0435\\u0441\\u043b\\u0438 \\u0431\\u0435\\u0437 \\u043f\\u0440\\u043e\\u0431\\u043b\\u0435\\u043c. \\u043d\\u043e \\u0441\\u0430\\u043c\\u043e\\u0435 \\u043f\\u0440\\u0438\\u044f\\u0442\\u043d\\u043e\\u0435 \\u0432\\u043f\\u0435\\u0447\\u0430\\u0442\\u043b\\u0435\\u043d\\u0438\\u0435, \\u043c\\u043e\\u0436\\u043d\\u043e \\u0434\\u0430\\u0436\\u0435 \\u0441\\u043a\\u0430\\u0437\\u0430\\u0442\\u044c \\u043a\\u0443\\u043b\\u044c\\u0442\\u0443\\u0440\\u043d\\u044b\\u0439 \\u0448\\u043e\\u043a (\\u043f\\u0440\\u0438\\u044f\\u0442\\u043d\\u044b\\u0439 \\u0448\\u043e\\u043a ) \\u043f\\u0440\\u043e\\u0438\\u0437\\u0432\\u0435\\u043b\\u0430 \\u043d\\u0430 \\u043c\\u0435\\u043d\\u044f \\u0440\\u0430\\u0431\\u043e\\u0442\\u0430 \\u043d\\u0430\\u0448\\u0435\\u0433\\u043e \\u0438\\u0432\\u0430\\u043d\\u043e\\u0432\\u0441\\u043a\\u043e\\u0433\\u043e \\u043e\\u0442\\u0434\\u0435\\u043b\\u0435\\u043d\\u0438\\u044f \\u0440\\u043a \\u043d\\u0430 \\u0443\\u043b.\\u043a\\u0430\\u043b\\u0438\\u043d\\u0438\\u043d\\u0430! \\u0442\\u0435\\u043c \\u0431\\u043e\\u043b\\u0435\\u0435 \\u0431\\u044b\\u043b\\u043e \\u0441 \\u0447\\u0435\\u043c \\u0441\\u0440\\u0430\\u0432\\u043d\\u0438\\u0432\\u0430\\u0442\\u044c. \\u043f\\u043e \\u0438\\u0440\\u043e\\u043d\\u0438\\u0438 \\u0441\\u0443\\u0434\\u044c\\u0431\\u044b, \\u043d\\u0435 \\u0431\\u043e\\u043b\\u0435\\u0435 \\u0447\\u0435\\u043c \\u043c\\u0435\\u0441\\u044f\\u0446 \\u043d\\u0430\\u0437\\u0430\\u0434 \\u0434\\u043e\\u0432\\u0435\\u043b\\u043e\\u0441\\u044c \\u043f\\u043e\\u0441\\u0435\\u0442\\u0438\\u0442\\u044c \\u043e\\u0442\\u0434\\u0435\\u043b\\u0435\\u043d\\u0438\\u0435 \\u0440\\u0443\\u0441\\u0441\\u043a\\u043e\\u0433\\u043e \\u0441\\u0442\\u0430\\u043d\\u0434\\u0430\\u0440\\u0442\\u0430, \\u0440\\u0430\\u0441\\u043f\\u043e\\u043b\\u043e\\u0436\\u0435\\u043d\\u043d\\u043e\\u0435 \\u0431\\u0443\\u043a\\u0432\\u0430\\u043b\\u044c\\u043d\\u043e \\u0432 \\u0441\\u043e\\u0441\\u0435\\u0434\\u043d\\u0435\\u043c \\u0437\\u0434\\u0430\\u043d\\u0438\\u0438. \\u043f\\u0440\\u043e\\u0441\\u0442\\u043e \\u043d\\u0435\\u0431\\u043e \\u0438 \\u0437\\u0435\\u043c\\u043b\\u044f!\\u043b\\u0438\\u0448\\u043d\\u0438\\u0439 \\u043f\\u043e\\u0432\\u043e\\u0434 \\u0443\\u0431\\u0435\\u0434\\u0438\\u0442\\u044c\\u0441\\u044f, \\u0447\\u0442\\u043e \\u0440\\u0430\\u0437\\u043c\\u0435\\u0440 \\u043e\\u0444\\u0438\\u0441\\u0430 \\u0438 \\u0440\\u0430\\u0441\\u043a\\u0440\\u0443\\u0447\\u0435\\u043d\\u043d\\u043e\\u0441\\u0442\\u044c \\u0431\\u0440\\u0435\\u043d\\u0434\\u0430 \\u043e\\u0431\\u0440\\u0430\\u0442\\u043d\\u043e \\u043f\\u0440\\u043e\\u043f\\u043e\\u0440\\u0446\\u0438\\u043e\\u043d\\u0430\\u043b\\u044c\\u043d\\u044b \\u043a\\u0430\\u0447\\u0435\\u0441\\u0442\\u0432\\u0443 \\u043e\\u0431\\u0441\\u043b\\u0443\\u0436\\u0438\\u0432\\u0430\\u043d\\u0438\\u044f! \\u0435\\u0441\\u043b\\u0438 \\u0432 \\u0431\\u0440\\u0441 \\u043f\\u043e \\u0430\\u043d\\u0430\\u043b\\u043e\\u0433\\u0438\\u0447\\u043d\\u043e\\u043c\\u0443 \\u0432\\u043e\\u043f\\u0440\\u043e\\u0441\\u0443 \\u043f\\u0440\\u0438\\u0448\\u043b\\u043e\\u0441\\u044c \\u043f\\u0440\\u043e\\u0442\\u043e\\u0440\\u0447\\u0430\\u0442\\u044c \\u043f\\u043e\\u043b\\u0442\\u043e\\u0440\\u0430 \\u0447\\u0430\\u0441\\u0430, \\u0432\\u0434\\u043e\\u0432\\u043e\\u043b\\u044c \\u043d\\u0430\\u0441\\u043c\\u043e\\u0442\\u0440\\u0435\\u0432\\u0448\\u0438\\u0441\\u044c \\u043d\\u0430 \\u0438\\u0445 \\u0432\\u0430\\u043b\\u044c\\u044f\\u0436\\u043d\\u044b\\u0445 \\u043c\\u0430\\u043d\\u0430\\u0433\\u0435\\u0440\\u043e\\u0432, \\u043a\\u043e\\u0442\\u043e\\u0440\\u044b\\u0435 \\u043d\\u0435\\u0441\\u043c\\u043e\\u0442\\u0440\\u044f \\u043d\\u0430 \\u043e\\u0447\\u0435\\u0440\\u0435\\u0434\\u044c \\u0438\\u0437 \\u043a\\u043b\\u0438\\u0435\\u043d\\u0442\\u043e\\u0432, \\u0432\\u0434\\u0440\\u0443\\u0433 \\u0440\\u0435\\u0448\\u0430\\u043b\\u0438 \\u0443\\u0439\\u0442\\u0438 \\u043d\\u0430 \\u043f\\u0435\\u0440\\u0435\\u043a\\u0443\\u0441/\\u043f\\u0435\\u0440\\u0435\\u043a\\u0443\\u0440, \\u043f\\u0440\\u0438\\u0447\\u0435\\u043c \\u043d\\u0435 \\u043f\\u043e\\u043e\\u0434\\u0438\\u043d\\u043e\\u0447\\u043a\\u0435, \\u0432\\u0438\\u0434\\u0438\\u043c\\u043e \\u0447\\u0442\\u043e\\u0431 \\u043d\\u0435 \\u0441\\u043a\\u0443\\u0447\\u043d\\u043e \\u0431\\u044b\\u043b\\u043e. \\u0434\\u0430 \\u0438 \\u0442\\u0435, \\u043a\\u0442\\u043e \\u0440\\u0430\\u0431\\u043e\\u0442\\u0430\\u043b\\u0438, \\u043d\\u0435 \\u0441\\u043b\\u0438\\u0448\\u043a\\u043e\\u043c \\u0441\\u043f\\u0435\\u0448\\u0438\\u043b\\u0438. \\u0432 \\u043e\\u0431\\u0449\\u0435\\u043c, \\u0431\\u044b\\u043b\\u043e \\u0441\\u0438\\u043b\\u044c\\u043d\\u043e\\u0435 \\u0436\\u0435\\u043b\\u0430\\u043d\\u0438\\u0435 \\u043f\\u043b\\u044e\\u043d\\u0443\\u0442\\u044c \\u0438 \\u0443\\u0439\\u0442\\u0438 \\u0441 \\u0438\\u0437\\u0432\\u0438\\u043d\\u0435\\u043d\\u0438\\u044f\\u043c\\u0438 \\u0437\\u0430 \\u0442\\u043e, \\u0447\\u0442\\u043e \\u043f\\u043e\\u0431\\u0435\\u0441\\u043f\\u043e\\u043a\\u043e\\u0438\\u043b \\u0441\\u0442\\u043e\\u043b\\u044c \\u0440\\u0435\\u0441\\u043f\\u0435\\u043a\\u0442\\u0430\\u0431\\u0435\\u043b\\u044c\\u043d\\u0443\\u044e \\u043f\\u0443\\u0431\\u043b\\u0438\\u043a\\u0443 \\u0441\\u0432\\u043e\\u0438\\u043c \\u043d\\u0438\\u043a\\u0447\\u0435\\u043c\\u043d\\u044b\\u043c \\u0432\\u0438\\u0437\\u0438\\u0442\\u043e\\u043c.\\u0432 \\u043e\\u0442\\u0434\\u0435\\u043b\\u0435\\u043d\\u0438\\u0438 \\u0436\\u0435 \\u0440\\u0435\\u043d\\u0435\\u0441\\u0441\\u0430\\u043d\\u0441\\u0430 (\\u0442\\u0430\\u043a \\u0438 \\u0445\\u043e\\u0447\\u0435\\u0442\\u0441\\u044f \\u0441\\u043a\\u0430\\u0437\\u0430\\u0442\\u044c \\u0432 \\u043e\\u0442\\u0434\\u0435\\u043b\\u0435\\u043d\\u044c\\u0438\\u0446\\u0435, \\u043f\\u043e \\u0441\\u0440\\u0430\\u0432\\u043d\\u0435\\u043d\\u0438\\u044e \\u0441 \\u0431\\u0430\\u0440\\u0441\\u0442\\u0432\\u0443\\u044e\\u0449\\u0438\\u043c \\u0431\\u0440\\u0441 ) \\u043f\\u0440\\u044f\\u043c\\u043e \\u0443 \\u0432\\u0445\\u043e\\u0434\\u0430 \\u0432\\u0441\\u0435\\u0445 \\u0432\\u0441\\u0442\\u0440\\u0435\\u0447\\u0430\\u043b\\u0430 \\u044e\\u043d\\u0430\\u044f \\u0438 \\u0445\\u0440\\u0443\\u043f\\u043a\\u0430\\u044f \\u0441\\u043e\\u0442\\u0440\\u0443\\u0434\\u043d\\u0438\\u0446\\u0430 (\\u043a \\u0441\\u0432\\u043e\\u0435\\u043c\\u0443 \\u0441\\u0442\\u044b\\u0434\\u0443, \\u043d\\u0435 \\u043f\\u043e\\u0438\\u043d\\u0442\\u0435\\u0440\\u0435\\u0441\\u043e\\u0432\\u0430\\u043b\\u0441\\u044f \\u0435\\u0435 \\u0438\\u043c\\u0435\\u043d\\u0435\\u043c), \\u043a\\u043e\\u0442\\u043e\\u0440\\u0430\\u044f \\u0441 \\u0432\\u0435\\u0436\\u043b\\u0438\\u0432\\u043e \\u0438 \\u044d\\u043d\\u0435\\u0440\\u0433\\u0438\\u0447\\u043d\\u043e \\u0440\\u0430\\u0437\\u0440\\u0443\\u043b\\u0438\\u0432\\u0430\\u043b\\u0430 \\u043d\\u0430 \\u043b\\u0435\\u0442\\u0443 \\u0432\\u0441\\u0435 \\u043f\\u0440\\u043e\\u0431\\u043b\\u0435\\u043c\\u044b \\u043a\\u043b\\u0438\\u0435\\u043d\\u0442\\u043e\\u0432, \\u0437\\u0430\\u043f\\u0438\\u0441\\u044b\\u0432\\u0430\\u043b\\u0430 \\u0438 \\u0441\\u043b\\u0435\\u0434\\u0438\\u043b\\u0430 \\u0437\\u0430 \\u043e\\u0447\\u0435\\u0440\\u0435\\u0434\\u044c\\u044e \\u0432 \\u0437\\u0430\\u0432\\u0438\\u0441\\u0438\\u043c\\u043e\\u0441\\u0442\\u0438 \\u043e\\u0442 \\u0446\\u0435\\u043b\\u0438 \\u0432\\u0438\\u0437\\u0438\\u0442\\u0430, \\u0441\\u0430\\u043c\\u0430 \\u0431\\u0435\\u0433\\u0430\\u043b\\u0430 \\u0432 \\u043a\\u0430\\u0441\\u0441\\u0443, \\u0447\\u0442\\u043e\\u0431\\u044b \\u0440\\u0430\\u0437\\u043c\\u0435\\u043d\\u044f\\u0442\\u044c \\u0438\\u043c \\u043a\\u0443\\u043f\\u044e\\u0440\\u044b, \\u043f\\u043e\\u043c\\u043e\\u0433\\u0430\\u043b\\u0430 \\u0440\\u0430\\u0437\\u0431\\u0438\\u0440\\u0430\\u0442\\u044c\\u0441\\u044f \\u0441 \\u043f\\u043b\\u0430\\u0442\\u0435\\u0436\\u043d\\u044b\\u043c \\u0442\\u0435\\u0440\\u043c\\u0438\\u043d\\u0430\\u043b\\u043e\\u043c \\u0438 \\u0442.\\u0434. \\u043e\\u0434\\u043d\\u0438\\u043c \\u0441\\u043b\\u043e\\u0432\\u043e\\u043c - \\u0432\\u044b\\u0441\\u0448\\u0438\\u0439 \\u043f\\u0438\\u043b\\u043e\\u0442\\u0430\\u0436! \\u043c\\u0435\\u043d\\u044f \\u043e\\u043d\\u0430, \\u043d\\u0435\\u0441\\u043c\\u043e\\u0442\\u0440\\u044f \\u043d\\u0430 \\u043e\\u043f\\u043e\\u0437\\u0434\\u0430\\u043d\\u0438\\u0435, \\u0441\\u0440\\u0430\\u0437\\u0443 \\u0436\\u0435 \\u043e\\u0442\\u043c\\u0435\\u0442\\u0438\\u043b\\u0430 \\u043a\\u0430\\u043a \\u043f\\u0440\\u0438\\u043e\\u0440\\u0438\\u0442\\u0435\\u0442\\u043d\\u043e\\u0433\\u043e \\u043a\\u043b\\u0438\\u0435\\u043d\\u0442\\u0430, \\u043e\\u0431\\u0435\\u0449\\u0430\\u043b\\u0430 \\u0441\\u0440\\u0430\\u0437\\u0443 \\u043f\\u0440\\u043e\\u0432\\u043e\\u0434\\u0438\\u0442\\u044c \\u043a \\u043f\\u0435\\u0440\\u0432\\u043e\\u043c\\u0443 \\u0436\\u0435 \\u043e\\u0441\\u0432\\u043e\\u0431\\u043e\\u0434\\u0438\\u0432\\u0448\\u0435\\u043c\\u0443\\u0441\\u044f \\u043c\\u0435\\u043d\\u0435\\u0434\\u0436\\u0435\\u0440\\u0443, \\u0447\\u0442\\u043e \\u0438 \\u0441\\u0434\\u0435\\u043b\\u0430\\u043b\\u0430 \\u0431\\u0443\\u043a\\u0432\\u0430\\u043b\\u044c\\u043d\\u043e \\u0447\\u0435\\u0440\\u0435\\u0437 5 \\u043c\\u0438\\u043d\\u0443\\u0442. \\u0432 \\u043e\\u0431\\u0449\\u0435\\u043c \\u0438 \\u0446\\u0435\\u043b\\u043e\\u043c, \\u043d\\u0430 \\u043e\\u0444\\u043e\\u0440\\u043c\\u043b\\u0435\\u043d\\u0438\\u0435 \\u0432\\u043a\\u043b\\u0430\\u0434\\u0430 \\u0443\\u0448\\u043b\\u043e \\u043d\\u0435 \\u0431\\u043e\\u043b\\u0435\\u0435 20-25 \\u043c\\u0438\\u043d\\u0443\\u0442. \\u043e\\u0442\\u0447\\u0430\\u0441\\u0442\\u0438 \\u043e\\u0442\\u0442\\u043e\\u0433\\u043e, \\u0447\\u0442\\u043e \\u0440\\u0435\\u0430\\u043b\\u044c\\u043d\\u043e \\u0441\\u043f\\u0435\\u0448\\u0438\\u043b, \\u0430 \\u043e\\u0442\\u0447\\u0430\\u0441\\u0442\\u0438 \\u043e\\u0442\\u0442\\u043e\\u0433\\u043e, \\u0447\\u0442\\u043e \\u0431\\u044b\\u043b \\u043d\\u0435 \\u0433\\u043e\\u0442\\u043e\\u0432 \\u043a \\u0442\\u0430\\u043a\\u043e\\u043c\\u0443 \\u043e\\u0431\\u0441\\u043b\\u0443\\u0436\\u0438\\u0432\\u0430\\u043d\\u0438\\u044e, \\u0443\\u0445\\u043e\\u0434\\u0438\\u043b \\u044f \\u0441\\u043b\\u0438\\u0448\\u043a\\u043e\\u043c \\u0431\\u044b\\u0441\\u0442\\u0440\\u043e \\u0438 \\u0432 \\u043d\\u0435\\u043a\\u043e\\u0442\\u043e\\u0440\\u043e\\u0439 \\u043f\\u0440\\u043e\\u0441\\u0442\\u0440\\u0430\\u0446\\u0438\\u0438, \\u043f\\u043e\\u044d\\u0442\\u043e\\u043c\\u0443 \\u043d\\u0435 \\u0443\\u0441\\u043f\\u0435\\u043b \\u0434\\u0430\\u0436\\u0435 \\u0442\\u043e\\u043b\\u043a\\u043e\\u043c \\u043f\\u043e\\u043f\\u0440\\u043e\\u0449\\u0430\\u0442\\u044c\\u0441\\u044f \\u0438 \\u043f\\u043e\\u0431\\u043b\\u0430\\u0433\\u043e\\u0434\\u0430\\u0440\\u0438\\u0442\\u044c. \\u043f\\u043e\\u044d\\u0442\\u043e\\u043c\\u0443 \\u0438\\u0441\\u043a\\u0440\\u0435\\u043d\\u043d\\u0435 \\u0441\\u0435\\u0439\\u0447\\u0430\\u0441 \\u044d\\u0442\\u043e\\u0433\\u043e \\u0441\\u0442\\u044b\\u0436\\u0443\\u0441\\u044c \\u0438 \\u0433\\u043e\\u0432\\u043e\\u0440\\u044e \\u043e\\u0433\\u0440\\u043e\\u043c\\u043d\\u043e\\u0435 \\u0441\\u043f\\u0430\\u0441\\u0438\\u0431\\u043e \\u0437\\u0430\\u043e\\u0447\\u043d\\u043e! ops:   \\u0433\\u043e\\u0441\\u043f\\u043e\\u0434\\u0430 \\u0438\\u0437 \\u0440\\u0443\\u043a\\u043e\\u0432\\u043e\\u0434\\u0441\\u0442\\u0432\\u0430 \\u0440\\u0435\\u043d\\u0435\\u0441\\u0441\\u0430\\u043d\\u0441-\\u043a\\u0440\\u0435\\u0434\\u0438\\u0442, \\u0446\\u0435\\u043d\\u0438\\u0442\\u0435 \\u0441\\u0432\\u043e\\u0438\\u0445 \\u0441\\u043e\\u0442\\u0440\\u0443\\u0434\\u043d\\u0438\\u043a\\u043e\\u0432 \\u0438\\u0437 \\u0441\\u0432\\u043e\\u0435\\u0433\\u043e \\u0438\\u0432\\u0430\\u043d\\u043e\\u0432\\u0441\\u043a\\u043e\\u0433\\u043e \\u043e\\u0442\\u0434\\u0435\\u043b\\u0435\\u043d\\u0438\\u044f! \\u0435\\u0441\\u043b\\u0438 \\u043d\\u0435\\u0442 \\u0432\\u043e\\u0437\\u043c\\u043e\\u0436\\u043d\\u043e\\u0441\\u0442\\u0438 \\u043f\\u0435\\u0440\\u0435\\u0441\\u0435\\u043b\\u0438\\u0442\\u044c \\u0438\\u0445 \\u0432 \\u043e\\u0444\\u0438\\u0441 \\u043f\\u043e\\u043f\\u0440\\u043e\\u0441\\u0442\\u043e\\u0440\\u043d\\u0435\\u0435 (\\u0430 \\u043e\\u043d\\u0438 \\u044d\\u0442\\u043e\\u0433\\u043e \\u0437\\u0430\\u0441\\u043b\\u0443\\u0436\\u0438\\u0432\\u0430\\u044e\\u0442), \\u0442\\u043e \\u0445\\u043e\\u0442\\u044f \\u0431\\u044b \\u043f\\u043e\\u0441\\u0442\\u0430\\u0432\\u044c\\u0442\\u0435 \\u0442\\u0430\\u043c \\u0435\\u0449\\u0435 \\u043e\\u0434\\u0438\\u043d \\u0442\\u0435\\u0440\\u043c\\u0438\\u043d\\u0430\\u043b \\u0434\\u043b\\u044f \\u043e\\u043f\\u043b\\u0430\\u0442\\u044b (\\u0434\\u043b\\u044f \\u0431\\u043e\\u043b\\u044c\\u0448\\u0435\\u0433\\u043e \\u043a\\u043e\\u043b\\u0438\\u0447\\u0435\\u0441\\u0442\\u0432\\u0430 \\u0442\\u0430\\u043c \\u043f\\u0440\\u043e\\u0441\\u0442\\u043e \\u043c\\u0435\\u0441\\u0442\\u0430 \\u043d\\u0435\\u0442). \\u043d\\u0430\\u0441\\u043a\\u043e\\u043b\\u044c\\u043a\\u043e \\u044f \\u0443\\u0441\\u043f\\u0435\\u043b \\u0437\\u0430\\u043c\\u0435\\u0442\\u0438\\u0442\\u044c, \\u043e\\u0441\\u043d\\u043e\\u0432\\u043d\\u044b\\u0435 \\u043f\\u0440\\u043e\\u0431\\u043a\\u0438 \\u0438\\u0437 \\u043a\\u043b\\u0438\\u0435\\u043d\\u0442\\u043e\\u0432 \\u0432\\u043e\\u0437\\u043d\\u0438\\u043a\\u0430\\u044e\\u0442 \\u0438\\u043c\\u0435\\u043d\\u043d\\u043e \\u0443 \\u043a\\u0430\\u0441\\u0441\\u044b.\\u0438 \\u0440\\u0430\\u0437\\u0432\\u0438\\u0432\\u0430\\u0439\\u0442\\u0435 \\u0438\\u043d\\u0442\\u0435\\u0440\\u043d\\u0435\\u0442-\\u0431\\u0430\\u043d\\u043a, \\u0435\\u0433\\u043e \\u043e\\u0442\\u0441\\u0443\\u0442\\u0441\\u0442\\u0432\\u0438\\u0435 \\u0441\\u0438\\u043b\\u044c\\u043d\\u043e \\u0431\\u044c\\u0435\\u0442 \\u043f\\u043e \\u0432\\u0430\\u0448\\u0435\\u043c\\u0443 \\u0438\\u043c\\u0438\\u0434\\u0436\\u0443 \\u0438 \\u0444\\u0443\\u043d\\u043a\\u0446\\u0438\\u043e\\u043d\\u0430\\u043b\\u044c\\u043d\\u043e\\u0441\\u0442\\u0438.\\u0430 \\u0441\\u043e\\u0442\\u0440\\u0443\\u0434\\u043d\\u0438\\u043a\\u0430\\u043c \\u0438\\u0432\\u0430\\u043d\\u043e\\u0432\\u0441\\u043a\\u043e\\u0433\\u043e \\u043e\\u0444\\u0438\\u0441\\u0430 \\u0435\\u0449\\u0435 \\u0440\\u0430\\u0437 \\u043c\\u043e\\u044f \\u0438\\u0441\\u043a\\u0440\\u0435\\u043d\\u043d\\u044f\\u044f \\u0431\\u043b\\u0430\\u0433\\u043e\\u0434\\u0430\\u0440\\u043d\\u043e\\u0441\\u0442\\u044c! \\u043e\\u0442\\u043b\\u0438\\u0447\\u043d\\u0430\\u044f \\u0440\\u0430\\u0431\\u043e\\u0442\\u0430!\"\n        ],\n        \"semantic_type\": \"\",\n        \"description\": \"\"\n      }\n    }\n  ]\n}"
            }
          },
          "metadata": {},
          "execution_count": 13
        }
      ]
    },
    {
      "cell_type": "code",
      "source": [
        "punctuation_marks = ['!', ',', '(', ')', ':', '-', '?', '.', '..', '...']"
      ],
      "metadata": {
        "id": "-21abE45aCnb"
      },
      "execution_count": null,
      "outputs": []
    },
    {
      "cell_type": "code",
      "source": [
        "banks['text_punct'] = banks['Text'].str.replace('[^\\w\\s]', ' ', regex=True)\n",
        "banks['text_lower'].head()"
      ],
      "metadata": {
        "colab": {
          "base_uri": "https://localhost:8080/",
          "height": 272
        },
        "id": "w6IZgNNkZjOP",
        "outputId": "a32b3a3a-81d8-4829-d19b-835fbdbb37a9"
      },
      "execution_count": null,
      "outputs": [
        {
          "output_type": "execute_result",
          "data": {
            "text/plain": [
              "idx\n",
              "0    в альфа-банке работает замечательная девушка -...\n",
              "1    оформляя рассрочку в м. видео в меге тёплый ст...\n",
              "2    очень порадовала оперативность работы в банке....\n",
              "3    имела неосторожность оформить потреб. кредит в...\n",
              "4    небольшая предыстория: нашел на сайте mdm банк...\n",
              "Name: text_lower, dtype: object"
            ],
            "text/html": [
              "<div>\n",
              "<style scoped>\n",
              "    .dataframe tbody tr th:only-of-type {\n",
              "        vertical-align: middle;\n",
              "    }\n",
              "\n",
              "    .dataframe tbody tr th {\n",
              "        vertical-align: top;\n",
              "    }\n",
              "\n",
              "    .dataframe thead th {\n",
              "        text-align: right;\n",
              "    }\n",
              "</style>\n",
              "<table border=\"1\" class=\"dataframe\">\n",
              "  <thead>\n",
              "    <tr style=\"text-align: right;\">\n",
              "      <th></th>\n",
              "      <th>text_lower</th>\n",
              "    </tr>\n",
              "    <tr>\n",
              "      <th>idx</th>\n",
              "      <th></th>\n",
              "    </tr>\n",
              "  </thead>\n",
              "  <tbody>\n",
              "    <tr>\n",
              "      <th>0</th>\n",
              "      <td>в альфа-банке работает замечательная девушка -...</td>\n",
              "    </tr>\n",
              "    <tr>\n",
              "      <th>1</th>\n",
              "      <td>оформляя рассрочку в м. видео в меге тёплый ст...</td>\n",
              "    </tr>\n",
              "    <tr>\n",
              "      <th>2</th>\n",
              "      <td>очень порадовала оперативность работы в банке....</td>\n",
              "    </tr>\n",
              "    <tr>\n",
              "      <th>3</th>\n",
              "      <td>имела неосторожность оформить потреб. кредит в...</td>\n",
              "    </tr>\n",
              "    <tr>\n",
              "      <th>4</th>\n",
              "      <td>небольшая предыстория: нашел на сайте mdm банк...</td>\n",
              "    </tr>\n",
              "  </tbody>\n",
              "</table>\n",
              "</div><br><label><b>dtype:</b> object</label>"
            ]
          },
          "metadata": {},
          "execution_count": 15
        }
      ]
    },
    {
      "cell_type": "code",
      "source": [
        "nltk.download('stopwords')"
      ],
      "metadata": {
        "colab": {
          "base_uri": "https://localhost:8080/"
        },
        "id": "O2pg0IC-ck8I",
        "outputId": "5259fdf3-28b4-4638-a744-4b83da71792a"
      },
      "execution_count": null,
      "outputs": [
        {
          "output_type": "stream",
          "name": "stderr",
          "text": [
            "[nltk_data] Downloading package stopwords to /root/nltk_data...\n",
            "[nltk_data]   Unzipping corpora/stopwords.zip.\n"
          ]
        },
        {
          "output_type": "execute_result",
          "data": {
            "text/plain": [
              "True"
            ]
          },
          "metadata": {},
          "execution_count": 16
        }
      ]
    },
    {
      "cell_type": "code",
      "source": [
        "from nltk.corpus import stopwords\n",
        "print(stopwords.words('russian'))"
      ],
      "metadata": {
        "colab": {
          "base_uri": "https://localhost:8080/"
        },
        "id": "P0mVTNbdc85f",
        "outputId": "b9b7d6b9-0914-464d-e44f-17a9738f7fcc"
      },
      "execution_count": null,
      "outputs": [
        {
          "output_type": "stream",
          "name": "stdout",
          "text": [
            "['и', 'в', 'во', 'не', 'что', 'он', 'на', 'я', 'с', 'со', 'как', 'а', 'то', 'все', 'она', 'так', 'его', 'но', 'да', 'ты', 'к', 'у', 'же', 'вы', 'за', 'бы', 'по', 'только', 'ее', 'мне', 'было', 'вот', 'от', 'меня', 'еще', 'нет', 'о', 'из', 'ему', 'теперь', 'когда', 'даже', 'ну', 'вдруг', 'ли', 'если', 'уже', 'или', 'ни', 'быть', 'был', 'него', 'до', 'вас', 'нибудь', 'опять', 'уж', 'вам', 'ведь', 'там', 'потом', 'себя', 'ничего', 'ей', 'может', 'они', 'тут', 'где', 'есть', 'надо', 'ней', 'для', 'мы', 'тебя', 'их', 'чем', 'была', 'сам', 'чтоб', 'без', 'будто', 'чего', 'раз', 'тоже', 'себе', 'под', 'будет', 'ж', 'тогда', 'кто', 'этот', 'того', 'потому', 'этого', 'какой', 'совсем', 'ним', 'здесь', 'этом', 'один', 'почти', 'мой', 'тем', 'чтобы', 'нее', 'сейчас', 'были', 'куда', 'зачем', 'всех', 'никогда', 'можно', 'при', 'наконец', 'два', 'об', 'другой', 'хоть', 'после', 'над', 'больше', 'тот', 'через', 'эти', 'нас', 'про', 'всего', 'них', 'какая', 'много', 'разве', 'три', 'эту', 'моя', 'впрочем', 'хорошо', 'свою', 'этой', 'перед', 'иногда', 'лучше', 'чуть', 'том', 'нельзя', 'такой', 'им', 'более', 'всегда', 'конечно', 'всю', 'между']\n"
          ]
        }
      ]
    },
    {
      "cell_type": "code",
      "source": [
        "\n",
        "from nltk.corpus import stopwords\n",
        "STOPWORDS = set(stopwords.words('russian'))\n",
        "\n",
        "def stopwords(text):\n",
        "  return \" \".join([word for word in str(text).split() if word not in STOPWORDS])\n",
        "banks['text_stopwords'] = banks['text_punct'].apply(stopwords)\n",
        "banks['text_stopwords'].head()"
      ],
      "metadata": {
        "colab": {
          "base_uri": "https://localhost:8080/",
          "height": 272
        },
        "id": "e-Z8mhbrbg3v",
        "outputId": "6fdf63e7-d008-4104-8066-0c9d09d56e1d"
      },
      "execution_count": null,
      "outputs": [
        {
          "output_type": "execute_result",
          "data": {
            "text/plain": [
              "idx\n",
              "0    В Альфа Банке работает замечательная девушка И...\n",
              "1    Оформляя рассрочку м Видео меге тёплый стан По...\n",
              "2    Очень порадовала оперативность работы банке За...\n",
              "3    Имела неосторожность оформить потреб кредит Ал...\n",
              "4    Небольшая предыстория Нашел сайте MDM банка ин...\n",
              "Name: text_stopwords, dtype: object"
            ],
            "text/html": [
              "<div>\n",
              "<style scoped>\n",
              "    .dataframe tbody tr th:only-of-type {\n",
              "        vertical-align: middle;\n",
              "    }\n",
              "\n",
              "    .dataframe tbody tr th {\n",
              "        vertical-align: top;\n",
              "    }\n",
              "\n",
              "    .dataframe thead th {\n",
              "        text-align: right;\n",
              "    }\n",
              "</style>\n",
              "<table border=\"1\" class=\"dataframe\">\n",
              "  <thead>\n",
              "    <tr style=\"text-align: right;\">\n",
              "      <th></th>\n",
              "      <th>text_stopwords</th>\n",
              "    </tr>\n",
              "    <tr>\n",
              "      <th>idx</th>\n",
              "      <th></th>\n",
              "    </tr>\n",
              "  </thead>\n",
              "  <tbody>\n",
              "    <tr>\n",
              "      <th>0</th>\n",
              "      <td>В Альфа Банке работает замечательная девушка И...</td>\n",
              "    </tr>\n",
              "    <tr>\n",
              "      <th>1</th>\n",
              "      <td>Оформляя рассрочку м Видео меге тёплый стан По...</td>\n",
              "    </tr>\n",
              "    <tr>\n",
              "      <th>2</th>\n",
              "      <td>Очень порадовала оперативность работы банке За...</td>\n",
              "    </tr>\n",
              "    <tr>\n",
              "      <th>3</th>\n",
              "      <td>Имела неосторожность оформить потреб кредит Ал...</td>\n",
              "    </tr>\n",
              "    <tr>\n",
              "      <th>4</th>\n",
              "      <td>Небольшая предыстория Нашел сайте MDM банка ин...</td>\n",
              "    </tr>\n",
              "  </tbody>\n",
              "</table>\n",
              "</div><br><label><b>dtype:</b> object</label>"
            ]
          },
          "metadata": {},
          "execution_count": 18
        }
      ]
    },
    {
      "cell_type": "code",
      "source": [
        "from collections import Counter\n",
        "cnt = Counter()\n",
        "for text in banks[\"text_stopwords\"].values:\n",
        "    for word in text.split():\n",
        "        cnt[word] += 1\n",
        "\n",
        "cnt.most_common(10)"
      ],
      "metadata": {
        "colab": {
          "base_uri": "https://localhost:8080/"
        },
        "id": "PmHedtcIdlTT",
        "outputId": "14621d48-7e3e-44d9-84ec-0ba3d479a701"
      },
      "execution_count": null,
      "outputs": [
        {
          "output_type": "execute_result",
          "data": {
            "text/plain": [
              "[('банка', 23826),\n",
              " ('банк', 16425),\n",
              " ('В', 15152),\n",
              " ('это', 14872),\n",
              " ('Я', 11868),\n",
              " ('карту', 9881),\n",
              " ('деньги', 9596),\n",
              " ('карты', 8955),\n",
              " ('очень', 7546),\n",
              " ('Альфа', 7441)]"
            ]
          },
          "metadata": {},
          "execution_count": 19
        }
      ]
    },
    {
      "cell_type": "code",
      "source": [
        "freq = set([w for (w, wc) in cnt.most_common(10)])\n",
        "# функция удаления слов\n",
        "def freqwords(text):\n",
        "    return \" \".join([word for word in str(text).split() if word not\n",
        "in freq])\n",
        "# применение функции\n",
        "banks[\"text_common\"] = banks[\"text_stopwords\"].apply(freqwords)\n",
        "banks[\"text_common\"].head()"
      ],
      "metadata": {
        "colab": {
          "base_uri": "https://localhost:8080/",
          "height": 272
        },
        "id": "FGuTmYjvdvKO",
        "outputId": "1549c7e9-5ef6-44c3-f671-b5ca970d2ab5"
      },
      "execution_count": null,
      "outputs": [
        {
          "output_type": "execute_result",
          "data": {
            "text/plain": [
              "idx\n",
              "0    Банке работает замечательная девушка Ильясова ...\n",
              "1    Оформляя рассрочку м Видео меге тёплый стан По...\n",
              "2    Очень порадовала оперативность работы банке За...\n",
              "3    Имела неосторожность оформить потреб кредит ба...\n",
              "4    Небольшая предыстория Нашел сайте MDM интересн...\n",
              "Name: text_common, dtype: object"
            ],
            "text/html": [
              "<div>\n",
              "<style scoped>\n",
              "    .dataframe tbody tr th:only-of-type {\n",
              "        vertical-align: middle;\n",
              "    }\n",
              "\n",
              "    .dataframe tbody tr th {\n",
              "        vertical-align: top;\n",
              "    }\n",
              "\n",
              "    .dataframe thead th {\n",
              "        text-align: right;\n",
              "    }\n",
              "</style>\n",
              "<table border=\"1\" class=\"dataframe\">\n",
              "  <thead>\n",
              "    <tr style=\"text-align: right;\">\n",
              "      <th></th>\n",
              "      <th>text_common</th>\n",
              "    </tr>\n",
              "    <tr>\n",
              "      <th>idx</th>\n",
              "      <th></th>\n",
              "    </tr>\n",
              "  </thead>\n",
              "  <tbody>\n",
              "    <tr>\n",
              "      <th>0</th>\n",
              "      <td>Банке работает замечательная девушка Ильясова ...</td>\n",
              "    </tr>\n",
              "    <tr>\n",
              "      <th>1</th>\n",
              "      <td>Оформляя рассрочку м Видео меге тёплый стан По...</td>\n",
              "    </tr>\n",
              "    <tr>\n",
              "      <th>2</th>\n",
              "      <td>Очень порадовала оперативность работы банке За...</td>\n",
              "    </tr>\n",
              "    <tr>\n",
              "      <th>3</th>\n",
              "      <td>Имела неосторожность оформить потреб кредит ба...</td>\n",
              "    </tr>\n",
              "    <tr>\n",
              "      <th>4</th>\n",
              "      <td>Небольшая предыстория Нашел сайте MDM интересн...</td>\n",
              "    </tr>\n",
              "  </tbody>\n",
              "</table>\n",
              "</div><br><label><b>dtype:</b> object</label>"
            ]
          },
          "metadata": {},
          "execution_count": 20
        }
      ]
    },
    {
      "cell_type": "code",
      "source": [
        "freq = pd.Series(' '.join(banks['text_common']).split()).value_counts()[-10:] # 10 rare words\n",
        "freq = list(freq.index)\n",
        "banks['text_rare'] = banks['text_common'].apply(lambda x: \" \".join(x for x in x.split() if x not in freq))\n",
        "banks['text_rare'].head()"
      ],
      "metadata": {
        "colab": {
          "base_uri": "https://localhost:8080/",
          "height": 272
        },
        "id": "dUDfZgDXet5y",
        "outputId": "80c367c6-6b84-4f0a-ad31-b62ecac9e510"
      },
      "execution_count": null,
      "outputs": [
        {
          "output_type": "execute_result",
          "data": {
            "text/plain": [
              "idx\n",
              "0    Банке работает замечательная девушка Ильясова ...\n",
              "1    Оформляя рассрочку м Видео меге тёплый стан По...\n",
              "2    Очень порадовала оперативность работы банке За...\n",
              "3    Имела неосторожность оформить потреб кредит ба...\n",
              "4    Небольшая предыстория Нашел сайте MDM интересн...\n",
              "Name: text_rare, dtype: object"
            ],
            "text/html": [
              "<div>\n",
              "<style scoped>\n",
              "    .dataframe tbody tr th:only-of-type {\n",
              "        vertical-align: middle;\n",
              "    }\n",
              "\n",
              "    .dataframe tbody tr th {\n",
              "        vertical-align: top;\n",
              "    }\n",
              "\n",
              "    .dataframe thead th {\n",
              "        text-align: right;\n",
              "    }\n",
              "</style>\n",
              "<table border=\"1\" class=\"dataframe\">\n",
              "  <thead>\n",
              "    <tr style=\"text-align: right;\">\n",
              "      <th></th>\n",
              "      <th>text_rare</th>\n",
              "    </tr>\n",
              "    <tr>\n",
              "      <th>idx</th>\n",
              "      <th></th>\n",
              "    </tr>\n",
              "  </thead>\n",
              "  <tbody>\n",
              "    <tr>\n",
              "      <th>0</th>\n",
              "      <td>Банке работает замечательная девушка Ильясова ...</td>\n",
              "    </tr>\n",
              "    <tr>\n",
              "      <th>1</th>\n",
              "      <td>Оформляя рассрочку м Видео меге тёплый стан По...</td>\n",
              "    </tr>\n",
              "    <tr>\n",
              "      <th>2</th>\n",
              "      <td>Очень порадовала оперативность работы банке За...</td>\n",
              "    </tr>\n",
              "    <tr>\n",
              "      <th>3</th>\n",
              "      <td>Имела неосторожность оформить потреб кредит ба...</td>\n",
              "    </tr>\n",
              "    <tr>\n",
              "      <th>4</th>\n",
              "      <td>Небольшая предыстория Нашел сайте MDM интересн...</td>\n",
              "    </tr>\n",
              "  </tbody>\n",
              "</table>\n",
              "</div><br><label><b>dtype:</b> object</label>"
            ]
          },
          "metadata": {},
          "execution_count": 21
        }
      ]
    },
    {
      "cell_type": "code",
      "source": [
        "# Удаление эмодзи\n",
        "def emoji(string):\n",
        "    emoji_pattern = re.compile(\"[\"\n",
        "                           u\"\\U0001F600-\\U0001F64F\"  # emoticons\n",
        "                           u\"\\U0001F300-\\U0001F5FF\"  # symbols & pictographs\n",
        "                           u\"\\U0001F680-\\U0001F6FF\"  # transport & map symbols\n",
        "                           u\"\\U0001F1E0-\\U0001F1FF\"  # flags (iOS)\n",
        "                           u\"\\U00002702-\\U000027B0\"\n",
        "                           u\"\\U000024C2-\\U0001F251\"\n",
        "                           \"]+\", flags=re.UNICODE)\n",
        "    return emoji_pattern.sub(r'', string)\n",
        "#passing the emoji function to 'text_rare'\n",
        "banks['text_rare'] = banks['text_rare'].apply(emoji)"
      ],
      "metadata": {
        "id": "mQUkSdWKe5fr"
      },
      "execution_count": null,
      "outputs": []
    },
    {
      "cell_type": "code",
      "source": [
        "#Удаление цифр\n",
        "banks['text_nonum'] = banks['text_common'].str.replace('\\d+', '')\n",
        "banks['text_nonum'].head()"
      ],
      "metadata": {
        "colab": {
          "base_uri": "https://localhost:8080/",
          "height": 272
        },
        "id": "tGijJcImfBn7",
        "outputId": "8fe363ac-56fd-40e7-d2d4-ac74bf98d0d5"
      },
      "execution_count": null,
      "outputs": [
        {
          "output_type": "execute_result",
          "data": {
            "text/plain": [
              "idx\n",
              "0    Банке работает замечательная девушка Ильясова ...\n",
              "1    Оформляя рассрочку м Видео меге тёплый стан По...\n",
              "2    Очень порадовала оперативность работы банке За...\n",
              "3    Имела неосторожность оформить потреб кредит ба...\n",
              "4    Небольшая предыстория Нашел сайте MDM интересн...\n",
              "Name: text_nonum, dtype: object"
            ],
            "text/html": [
              "<div>\n",
              "<style scoped>\n",
              "    .dataframe tbody tr th:only-of-type {\n",
              "        vertical-align: middle;\n",
              "    }\n",
              "\n",
              "    .dataframe tbody tr th {\n",
              "        vertical-align: top;\n",
              "    }\n",
              "\n",
              "    .dataframe thead th {\n",
              "        text-align: right;\n",
              "    }\n",
              "</style>\n",
              "<table border=\"1\" class=\"dataframe\">\n",
              "  <thead>\n",
              "    <tr style=\"text-align: right;\">\n",
              "      <th></th>\n",
              "      <th>text_nonum</th>\n",
              "    </tr>\n",
              "    <tr>\n",
              "      <th>idx</th>\n",
              "      <th></th>\n",
              "    </tr>\n",
              "  </thead>\n",
              "  <tbody>\n",
              "    <tr>\n",
              "      <th>0</th>\n",
              "      <td>Банке работает замечательная девушка Ильясова ...</td>\n",
              "    </tr>\n",
              "    <tr>\n",
              "      <th>1</th>\n",
              "      <td>Оформляя рассрочку м Видео меге тёплый стан По...</td>\n",
              "    </tr>\n",
              "    <tr>\n",
              "      <th>2</th>\n",
              "      <td>Очень порадовала оперативность работы банке За...</td>\n",
              "    </tr>\n",
              "    <tr>\n",
              "      <th>3</th>\n",
              "      <td>Имела неосторожность оформить потреб кредит ба...</td>\n",
              "    </tr>\n",
              "    <tr>\n",
              "      <th>4</th>\n",
              "      <td>Небольшая предыстория Нашел сайте MDM интересн...</td>\n",
              "    </tr>\n",
              "  </tbody>\n",
              "</table>\n",
              "</div><br><label><b>dtype:</b> object</label>"
            ]
          },
          "metadata": {},
          "execution_count": 23
        }
      ]
    },
    {
      "cell_type": "code",
      "source": [
        "#Удаление URL\n",
        "# Function for url's\n",
        "def remove_urls(text):\n",
        "    url_pattern = re.compile(r'https?://\\S+|www\\.\\S+')\n",
        "    return url_pattern.sub(r'', text)\n",
        "# Examples\n",
        "text = \"This is my website, https://www.link.com\"\n",
        "remove_urls(text)\n",
        "#Passing the function to 'text_rare'\n",
        "banks['text_rare'] = banks['text_rare'].apply(remove_urls)"
      ],
      "metadata": {
        "id": "e3OfWeUOfHc5"
      },
      "execution_count": null,
      "outputs": []
    },
    {
      "cell_type": "code",
      "source": [
        "#Удаление HTML-тегов\n",
        "from bs4 import BeautifulSoup\n",
        "#Function for removing html\n",
        "def html(text):\n",
        "    return BeautifulSoup(text, \"lxml\").text\n",
        "# Examples\n",
        "text = \"\"\"<div>\n",
        "<h1> Это </h1>\n",
        "<p> странца</p>\n",
        "<a href=\"https://www.link.com/\"> пример</a>\n",
        "</div>\n",
        "\"\"\"\n",
        "print(html(text))\n",
        "# Passing the function to 'text_rare'\n",
        "banks['text_rare'] = banks['text_rare'].apply(html)"
      ],
      "metadata": {
        "colab": {
          "base_uri": "https://localhost:8080/"
        },
        "id": "oWL4pUm-fPvI",
        "outputId": "b0cc8759-b771-4d04-f95d-e4e06acc1bfd"
      },
      "execution_count": null,
      "outputs": [
        {
          "output_type": "stream",
          "name": "stdout",
          "text": [
            "\n",
            " Это \n",
            " странца\n",
            " пример\n",
            "\n",
            "\n"
          ]
        }
      ]
    },
    {
      "cell_type": "code",
      "source": [
        "def preprocess(text, stop_words, punctuation_marks, morph):\n",
        "    tokens = word_tokenize(text.lower())\n",
        "    preprocessed_text = []\n",
        "    for token in tokens:\n",
        "        if token not in punctuation_marks:\n",
        "            lemma = morph.parse(token)[0].normal_form\n",
        "            if lemma not in stop_words:\n",
        "                preprocessed_text.append(lemma)\n",
        "    return preprocessed_text"
      ],
      "metadata": {
        "id": "xlfl_T17iv9d"
      },
      "execution_count": null,
      "outputs": []
    },
    {
      "cell_type": "code",
      "source": [
        "from nltk.corpus import stopwords\n",
        "import pymorphy2\n",
        "\n",
        "\n",
        "stop_words = stopwords.words(\"russian\")\n",
        "punctuation_marks = ['!', ',', '(', ')', ':', '-', '?', '.', '..', '...']\n",
        "morph = pymorphy2.MorphAnalyzer()\n",
        "\n",
        "# Применение функции preprocess\n",
        "banks[0:5].apply(lambda row: preprocess(row['Text'], punctuation_marks, stop_words, morph), axis=1)"
      ],
      "metadata": {
        "colab": {
          "base_uri": "https://localhost:8080/",
          "height": 272
        },
        "id": "YI4YPl7ri0Hl",
        "outputId": "e636708c-57dd-4222-b957-12396adb3d27"
      },
      "execution_count": null,
      "outputs": [
        {
          "output_type": "execute_result",
          "data": {
            "text/plain": [
              "idx\n",
              "0    [альфа-банк, работать, замечательный, девушка,...\n",
              "1    [оформлять, рассрочка, м., видео, мег, тёплый,...\n",
              "2    [очень, порадовать, оперативность, работа, бан...\n",
              "3    [иметь, неосторожность, оформить, потреба, кре...\n",
              "4    [небольшой, предыстория, найти, сайт, mdm, бан...\n",
              "dtype: object"
            ],
            "text/html": [
              "<div>\n",
              "<style scoped>\n",
              "    .dataframe tbody tr th:only-of-type {\n",
              "        vertical-align: middle;\n",
              "    }\n",
              "\n",
              "    .dataframe tbody tr th {\n",
              "        vertical-align: top;\n",
              "    }\n",
              "\n",
              "    .dataframe thead th {\n",
              "        text-align: right;\n",
              "    }\n",
              "</style>\n",
              "<table border=\"1\" class=\"dataframe\">\n",
              "  <thead>\n",
              "    <tr style=\"text-align: right;\">\n",
              "      <th></th>\n",
              "      <th>0</th>\n",
              "    </tr>\n",
              "    <tr>\n",
              "      <th>idx</th>\n",
              "      <th></th>\n",
              "    </tr>\n",
              "  </thead>\n",
              "  <tbody>\n",
              "    <tr>\n",
              "      <th>0</th>\n",
              "      <td>[альфа-банк, работать, замечательный, девушка,...</td>\n",
              "    </tr>\n",
              "    <tr>\n",
              "      <th>1</th>\n",
              "      <td>[оформлять, рассрочка, м., видео, мег, тёплый,...</td>\n",
              "    </tr>\n",
              "    <tr>\n",
              "      <th>2</th>\n",
              "      <td>[очень, порадовать, оперативность, работа, бан...</td>\n",
              "    </tr>\n",
              "    <tr>\n",
              "      <th>3</th>\n",
              "      <td>[иметь, неосторожность, оформить, потреба, кре...</td>\n",
              "    </tr>\n",
              "    <tr>\n",
              "      <th>4</th>\n",
              "      <td>[небольшой, предыстория, найти, сайт, mdm, бан...</td>\n",
              "    </tr>\n",
              "  </tbody>\n",
              "</table>\n",
              "</div><br><label><b>dtype:</b> object</label>"
            ]
          },
          "metadata": {},
          "execution_count": 27
        }
      ]
    },
    {
      "cell_type": "code",
      "source": [
        "banks['Preprocessed_texts'] = banks.apply(lambda row: preprocess(row['Text'], punctuation_marks, stop_words, morph), axis=1)"
      ],
      "metadata": {
        "id": "4S4VGPSVjLW9",
        "collapsed": true
      },
      "execution_count": null,
      "outputs": []
    },
    {
      "cell_type": "code",
      "source": [
        "banks"
      ],
      "metadata": {
        "id": "zzjxbxPdkOJm"
      },
      "execution_count": null,
      "outputs": []
    },
    {
      "cell_type": "code",
      "source": [
        "import numpy as np\n",
        "import pandas as pd\n",
        "import pymorphy2\n",
        "import re\n",
        "import nltk\n",
        "import string\n",
        "from nltk.tokenize import word_tokenize\n",
        "from nltk.corpus import stopwords\n",
        "from nltk.corpus import stopwords\n",
        "from nltk.tokenize import word_tokenize\n",
        "from nltk.stem import WordNetLemmatizer\n",
        "\n",
        "nltk.download('punkt')\n",
        "nltk.download('stopwords')\n",
        "nltk.download('wordnet')\n",
        "\n",
        "\n",
        "stop_words = set(stopwords.words('russian'))\n",
        "\n",
        "def remove_stopwords(text):\n",
        "    \"\"\"Removes stopwords from a string.\n",
        "\n",
        "    Args:\n",
        "        text: The string to remove stopwords from.\n",
        "\n",
        "    Returns:\n",
        "        The string with stopwords removed.\n",
        "    \"\"\"\n",
        "    words = text.split()\n",
        "    filtered_words = [word for word in words if word.lower() not in stop_words]\n",
        "    return \" \".join(filtered_words)\n",
        "\n",
        "def tokenize_lemmas(text):\n",
        "    \"\"\"Tokenizes and lemmatizes a string.\n",
        "\n",
        "    Args:\n",
        "        text: The string to tokenize and lemmatize.\n",
        "\n",
        "    Returns:\n",
        "        A list of lemmatized tokens.\n",
        "    \"\"\"\n",
        "    tokens = word_tokenize(text)\n",
        "    lemmatizer = WordNetLemmatizer()\n",
        "    lemmas = [lemmatizer.lemmatize(token) for token in tokens]\n",
        "    return lemmas\n",
        "\n",
        "banks['text_ready']  = banks['Text'].str.lower()\n",
        "banks['text_ready'] = banks['text_ready'].str.replace('\\d+', '')\n",
        "banks['text_ready'] = banks['text_ready'].str.replace('[^\\w\\s]','')\n",
        "banks['text_ready'] = banks['text_ready'].apply(remove_urls)\n",
        "banks['text_ready'] = banks['text_ready'].apply(html)\n",
        "banks[\"text_ready\"] = banks[\"text_ready\"].apply(remove_stopwords)\n",
        "banks['text_ready'] = banks['text_ready'].apply(emoji)\n",
        "banks['text_ready'] = banks['text_ready'].apply(remove_urls)\n",
        "banks['text_ready'] = banks['text_ready'].apply(html)\n",
        "banks[\"text_ready\"] = banks[\"text_ready\"].map(lambda x: \" \".join(tokenize_lemmas(x)))\n",
        "banks[['text_ready']].head()"
      ],
      "metadata": {
        "colab": {
          "base_uri": "https://localhost:8080/",
          "height": 383
        },
        "id": "NIuKNNtSL1fd",
        "outputId": "db6d9185-596e-44c8-f387-344113dca30c"
      },
      "execution_count": null,
      "outputs": [
        {
          "output_type": "stream",
          "name": "stderr",
          "text": [
            "[nltk_data] Downloading package punkt to /root/nltk_data...\n",
            "[nltk_data]   Package punkt is already up-to-date!\n",
            "[nltk_data] Downloading package stopwords to /root/nltk_data...\n",
            "[nltk_data]   Package stopwords is already up-to-date!\n",
            "[nltk_data] Downloading package wordnet to /root/nltk_data...\n",
            "[nltk_data]   Package wordnet is already up-to-date!\n",
            "<ipython-input-25-76f376c9c83d>:5: MarkupResemblesLocatorWarning: The input looks more like a filename than markup. You may want to open this file and pass the filehandle into Beautiful Soup.\n",
            "  return BeautifulSoup(text, \"lxml\").text\n"
          ]
        },
        {
          "output_type": "execute_result",
          "data": {
            "text/plain": [
              "                                            text_ready\n",
              "idx                                                   \n",
              "0    альфа-банке работает замечательная девушка - и...\n",
              "1    оформляя рассрочку м. видео меге тёплый стан ....\n",
              "2    очень порадовала оперативность работы банке . ...\n",
              "3    имела неосторожность оформить потреб . кредит ...\n",
              "4    небольшая предыстория : нашел сайте mdm банка ..."
            ],
            "text/html": [
              "\n",
              "  <div id=\"df-8ca710ff-28dd-4eaa-a425-aa2742613e87\" class=\"colab-df-container\">\n",
              "    <div>\n",
              "<style scoped>\n",
              "    .dataframe tbody tr th:only-of-type {\n",
              "        vertical-align: middle;\n",
              "    }\n",
              "\n",
              "    .dataframe tbody tr th {\n",
              "        vertical-align: top;\n",
              "    }\n",
              "\n",
              "    .dataframe thead th {\n",
              "        text-align: right;\n",
              "    }\n",
              "</style>\n",
              "<table border=\"1\" class=\"dataframe\">\n",
              "  <thead>\n",
              "    <tr style=\"text-align: right;\">\n",
              "      <th></th>\n",
              "      <th>text_ready</th>\n",
              "    </tr>\n",
              "    <tr>\n",
              "      <th>idx</th>\n",
              "      <th></th>\n",
              "    </tr>\n",
              "  </thead>\n",
              "  <tbody>\n",
              "    <tr>\n",
              "      <th>0</th>\n",
              "      <td>альфа-банке работает замечательная девушка - и...</td>\n",
              "    </tr>\n",
              "    <tr>\n",
              "      <th>1</th>\n",
              "      <td>оформляя рассрочку м. видео меге тёплый стан ....</td>\n",
              "    </tr>\n",
              "    <tr>\n",
              "      <th>2</th>\n",
              "      <td>очень порадовала оперативность работы банке . ...</td>\n",
              "    </tr>\n",
              "    <tr>\n",
              "      <th>3</th>\n",
              "      <td>имела неосторожность оформить потреб . кредит ...</td>\n",
              "    </tr>\n",
              "    <tr>\n",
              "      <th>4</th>\n",
              "      <td>небольшая предыстория : нашел сайте mdm банка ...</td>\n",
              "    </tr>\n",
              "  </tbody>\n",
              "</table>\n",
              "</div>\n",
              "    <div class=\"colab-df-buttons\">\n",
              "\n",
              "  <div class=\"colab-df-container\">\n",
              "    <button class=\"colab-df-convert\" onclick=\"convertToInteractive('df-8ca710ff-28dd-4eaa-a425-aa2742613e87')\"\n",
              "            title=\"Convert this dataframe to an interactive table.\"\n",
              "            style=\"display:none;\">\n",
              "\n",
              "  <svg xmlns=\"http://www.w3.org/2000/svg\" height=\"24px\" viewBox=\"0 -960 960 960\">\n",
              "    <path d=\"M120-120v-720h720v720H120Zm60-500h600v-160H180v160Zm220 220h160v-160H400v160Zm0 220h160v-160H400v160ZM180-400h160v-160H180v160Zm440 0h160v-160H620v160ZM180-180h160v-160H180v160Zm440 0h160v-160H620v160Z\"/>\n",
              "  </svg>\n",
              "    </button>\n",
              "\n",
              "  <style>\n",
              "    .colab-df-container {\n",
              "      display:flex;\n",
              "      gap: 12px;\n",
              "    }\n",
              "\n",
              "    .colab-df-convert {\n",
              "      background-color: #E8F0FE;\n",
              "      border: none;\n",
              "      border-radius: 50%;\n",
              "      cursor: pointer;\n",
              "      display: none;\n",
              "      fill: #1967D2;\n",
              "      height: 32px;\n",
              "      padding: 0 0 0 0;\n",
              "      width: 32px;\n",
              "    }\n",
              "\n",
              "    .colab-df-convert:hover {\n",
              "      background-color: #E2EBFA;\n",
              "      box-shadow: 0px 1px 2px rgba(60, 64, 67, 0.3), 0px 1px 3px 1px rgba(60, 64, 67, 0.15);\n",
              "      fill: #174EA6;\n",
              "    }\n",
              "\n",
              "    .colab-df-buttons div {\n",
              "      margin-bottom: 4px;\n",
              "    }\n",
              "\n",
              "    [theme=dark] .colab-df-convert {\n",
              "      background-color: #3B4455;\n",
              "      fill: #D2E3FC;\n",
              "    }\n",
              "\n",
              "    [theme=dark] .colab-df-convert:hover {\n",
              "      background-color: #434B5C;\n",
              "      box-shadow: 0px 1px 3px 1px rgba(0, 0, 0, 0.15);\n",
              "      filter: drop-shadow(0px 1px 2px rgba(0, 0, 0, 0.3));\n",
              "      fill: #FFFFFF;\n",
              "    }\n",
              "  </style>\n",
              "\n",
              "    <script>\n",
              "      const buttonEl =\n",
              "        document.querySelector('#df-8ca710ff-28dd-4eaa-a425-aa2742613e87 button.colab-df-convert');\n",
              "      buttonEl.style.display =\n",
              "        google.colab.kernel.accessAllowed ? 'block' : 'none';\n",
              "\n",
              "      async function convertToInteractive(key) {\n",
              "        const element = document.querySelector('#df-8ca710ff-28dd-4eaa-a425-aa2742613e87');\n",
              "        const dataTable =\n",
              "          await google.colab.kernel.invokeFunction('convertToInteractive',\n",
              "                                                    [key], {});\n",
              "        if (!dataTable) return;\n",
              "\n",
              "        const docLinkHtml = 'Like what you see? Visit the ' +\n",
              "          '<a target=\"_blank\" href=https://colab.research.google.com/notebooks/data_table.ipynb>data table notebook</a>'\n",
              "          + ' to learn more about interactive tables.';\n",
              "        element.innerHTML = '';\n",
              "        dataTable['output_type'] = 'display_data';\n",
              "        await google.colab.output.renderOutput(dataTable, element);\n",
              "        const docLink = document.createElement('div');\n",
              "        docLink.innerHTML = docLinkHtml;\n",
              "        element.appendChild(docLink);\n",
              "      }\n",
              "    </script>\n",
              "  </div>\n",
              "\n",
              "\n",
              "<div id=\"df-386eafa7-6a0a-4a5b-8bd4-f7833c8d0eca\">\n",
              "  <button class=\"colab-df-quickchart\" onclick=\"quickchart('df-386eafa7-6a0a-4a5b-8bd4-f7833c8d0eca')\"\n",
              "            title=\"Suggest charts\"\n",
              "            style=\"display:none;\">\n",
              "\n",
              "<svg xmlns=\"http://www.w3.org/2000/svg\" height=\"24px\"viewBox=\"0 0 24 24\"\n",
              "     width=\"24px\">\n",
              "    <g>\n",
              "        <path d=\"M19 3H5c-1.1 0-2 .9-2 2v14c0 1.1.9 2 2 2h14c1.1 0 2-.9 2-2V5c0-1.1-.9-2-2-2zM9 17H7v-7h2v7zm4 0h-2V7h2v10zm4 0h-2v-4h2v4z\"/>\n",
              "    </g>\n",
              "</svg>\n",
              "  </button>\n",
              "\n",
              "<style>\n",
              "  .colab-df-quickchart {\n",
              "      --bg-color: #E8F0FE;\n",
              "      --fill-color: #1967D2;\n",
              "      --hover-bg-color: #E2EBFA;\n",
              "      --hover-fill-color: #174EA6;\n",
              "      --disabled-fill-color: #AAA;\n",
              "      --disabled-bg-color: #DDD;\n",
              "  }\n",
              "\n",
              "  [theme=dark] .colab-df-quickchart {\n",
              "      --bg-color: #3B4455;\n",
              "      --fill-color: #D2E3FC;\n",
              "      --hover-bg-color: #434B5C;\n",
              "      --hover-fill-color: #FFFFFF;\n",
              "      --disabled-bg-color: #3B4455;\n",
              "      --disabled-fill-color: #666;\n",
              "  }\n",
              "\n",
              "  .colab-df-quickchart {\n",
              "    background-color: var(--bg-color);\n",
              "    border: none;\n",
              "    border-radius: 50%;\n",
              "    cursor: pointer;\n",
              "    display: none;\n",
              "    fill: var(--fill-color);\n",
              "    height: 32px;\n",
              "    padding: 0;\n",
              "    width: 32px;\n",
              "  }\n",
              "\n",
              "  .colab-df-quickchart:hover {\n",
              "    background-color: var(--hover-bg-color);\n",
              "    box-shadow: 0 1px 2px rgba(60, 64, 67, 0.3), 0 1px 3px 1px rgba(60, 64, 67, 0.15);\n",
              "    fill: var(--button-hover-fill-color);\n",
              "  }\n",
              "\n",
              "  .colab-df-quickchart-complete:disabled,\n",
              "  .colab-df-quickchart-complete:disabled:hover {\n",
              "    background-color: var(--disabled-bg-color);\n",
              "    fill: var(--disabled-fill-color);\n",
              "    box-shadow: none;\n",
              "  }\n",
              "\n",
              "  .colab-df-spinner {\n",
              "    border: 2px solid var(--fill-color);\n",
              "    border-color: transparent;\n",
              "    border-bottom-color: var(--fill-color);\n",
              "    animation:\n",
              "      spin 1s steps(1) infinite;\n",
              "  }\n",
              "\n",
              "  @keyframes spin {\n",
              "    0% {\n",
              "      border-color: transparent;\n",
              "      border-bottom-color: var(--fill-color);\n",
              "      border-left-color: var(--fill-color);\n",
              "    }\n",
              "    20% {\n",
              "      border-color: transparent;\n",
              "      border-left-color: var(--fill-color);\n",
              "      border-top-color: var(--fill-color);\n",
              "    }\n",
              "    30% {\n",
              "      border-color: transparent;\n",
              "      border-left-color: var(--fill-color);\n",
              "      border-top-color: var(--fill-color);\n",
              "      border-right-color: var(--fill-color);\n",
              "    }\n",
              "    40% {\n",
              "      border-color: transparent;\n",
              "      border-right-color: var(--fill-color);\n",
              "      border-top-color: var(--fill-color);\n",
              "    }\n",
              "    60% {\n",
              "      border-color: transparent;\n",
              "      border-right-color: var(--fill-color);\n",
              "    }\n",
              "    80% {\n",
              "      border-color: transparent;\n",
              "      border-right-color: var(--fill-color);\n",
              "      border-bottom-color: var(--fill-color);\n",
              "    }\n",
              "    90% {\n",
              "      border-color: transparent;\n",
              "      border-bottom-color: var(--fill-color);\n",
              "    }\n",
              "  }\n",
              "</style>\n",
              "\n",
              "  <script>\n",
              "    async function quickchart(key) {\n",
              "      const quickchartButtonEl =\n",
              "        document.querySelector('#' + key + ' button');\n",
              "      quickchartButtonEl.disabled = true;  // To prevent multiple clicks.\n",
              "      quickchartButtonEl.classList.add('colab-df-spinner');\n",
              "      try {\n",
              "        const charts = await google.colab.kernel.invokeFunction(\n",
              "            'suggestCharts', [key], {});\n",
              "      } catch (error) {\n",
              "        console.error('Error during call to suggestCharts:', error);\n",
              "      }\n",
              "      quickchartButtonEl.classList.remove('colab-df-spinner');\n",
              "      quickchartButtonEl.classList.add('colab-df-quickchart-complete');\n",
              "    }\n",
              "    (() => {\n",
              "      let quickchartButtonEl =\n",
              "        document.querySelector('#df-386eafa7-6a0a-4a5b-8bd4-f7833c8d0eca button');\n",
              "      quickchartButtonEl.style.display =\n",
              "        google.colab.kernel.accessAllowed ? 'block' : 'none';\n",
              "    })();\n",
              "  </script>\n",
              "</div>\n",
              "\n",
              "    </div>\n",
              "  </div>\n"
            ],
            "application/vnd.google.colaboratory.intrinsic+json": {
              "type": "dataframe",
              "summary": "{\n  \"name\": \"banks[['text_ready']]\",\n  \"rows\": 5,\n  \"fields\": [\n    {\n      \"column\": \"idx\",\n      \"properties\": {\n        \"dtype\": \"number\",\n        \"std\": 1,\n        \"min\": 0,\n        \"max\": 4,\n        \"num_unique_values\": 5,\n        \"samples\": [\n          1,\n          4,\n          2\n        ],\n        \"semantic_type\": \"\",\n        \"description\": \"\"\n      }\n    },\n    {\n      \"column\": \"text_ready\",\n      \"properties\": {\n        \"dtype\": \"string\",\n        \"num_unique_values\": 5,\n        \"samples\": [\n          \"\\u043e\\u0444\\u043e\\u0440\\u043c\\u043b\\u044f\\u044f \\u0440\\u0430\\u0441\\u0441\\u0440\\u043e\\u0447\\u043a\\u0443 \\u043c. \\u0432\\u0438\\u0434\\u0435\\u043e \\u043c\\u0435\\u0433\\u0435 \\u0442\\u0451\\u043f\\u043b\\u044b\\u0439 \\u0441\\u0442\\u0430\\u043d . \\u043f\\u043e\\u043f\\u0440\\u043e\\u0441\\u0438\\u043b\\u0430 \\u043c\\u0435\\u043d\\u0435\\u0434\\u0436\\u0435\\u0440\\u0430 , \\u0437\\u0430\\u044f\\u0432\\u043a\\u0430 \\u0441\\u0442\\u0440\\u0430\\u0445\\u043e\\u0432\\u043a\\u0438 . \\u0438\\u0442\\u043e\\u0433\\u0435 , \\u043f\\u043e\\u0434\\u043f\\u0438\\u0441\\u044b\\u0432\\u0430\\u043b\\u0430 \\u0434\\u043e\\u0433\\u043e\\u0432\\u043e\\u0440 , \\u0434\\u043e\\u0433\\u043e\\u0432\\u043e\\u0440\\u0435 \\u043e\\u043a\\u0430\\u0437\\u0430\\u043b\\u0438\\u0441\\u044c \\u043b\\u0438\\u0448\\u043d\\u0438\\u0435 6 \\u0442\\u044b\\u0441\\u044f\\u0447 , \\u043c\\u0435\\u043d\\u0435\\u0434\\u0436\\u0435\\u0440\\u0430 \\u0441\\u0442\\u0430\\u043b\\u0430 \\u0441\\u043f\\u0440\\u0430\\u0448\\u0438\\u0432\\u0430\\u0442\\u044c \\u044d\\u0442\\u043e 6 \\u0442\\u044b\\u0441\\u044f\\u0447 , \\u0441\\u0442\\u0430\\u043b\\u0430 \\u043d\\u0435\\u0440\\u0432\\u043d\\u0438\\u0447\\u0430\\u0442\\u044c \\u0433\\u043e\\u0432\\u043e\\u0440\\u0438\\u0442\\u044c \\u043a\\u0430\\u043a\\u0443\\u044e-\\u0442\\u043e \\u0447\\u0443\\u0448\\u044c \\u0441\\u043a\\u0438\\u0434\\u043a\\u0443 . \\u0442\\u043e\\u043c , \\u0442\\u0435\\u0447\\u0435\\u043d\\u0438\\u0435 \\u0442\\u0440\\u0451\\u0445 \\u043c\\u0435\\u0441\\u044f\\u0446\\u0435\\u0432 \\u043f\\u043e\\u043b\\u043d\\u043e\\u0441\\u0442\\u044c\\u044e \\u0437\\u0430\\u043a\\u0440\\u043e\\u044e \\u043a\\u0440\\u0435\\u0434\\u0438\\u0442 , \\u0434\\u0435\\u0439\\u0441\\u0442\\u0432\\u043e\\u0432\\u0430\\u0442\\u044c \\u0441\\u043a\\u0438\\u0434\\u043a\\u0430 6 \\u0442\\u044b\\u0441\\u044f\\u0447 . \\u043f\\u044b\\u0442\\u0430\\u043b\\u0430\\u0441\\u044c \\u043d\\u0430\\u0439\\u0442\\u0438 \\u0434\\u043e\\u0433\\u043e\\u0432\\u043e\\u0440\\u0435 \\u0447\\u0442\\u043e-\\u0442\\u043e \\u0441\\u0442\\u0440\\u0430\\u0445\\u043e\\u0432\\u043a\\u0443 , \\u043d\\u0430\\u0447\\u0430\\u043b\\u0435 \\u043d\\u0430\\u0448\\u043b\\u0430 \\u043f\\u043e\\u0441\\u0447\\u0438\\u0442\\u0430\\u043b\\u0430 , \\u043f\\u0440\\u0430\\u0432\\u0434\\u0430 \\u0441\\u0442\\u0440\\u0430\\u0445\\u043e\\u0432\\u043a\\u0438 \\u043d\\u0435\\u0442\\u0443 . \\u0438\\u0442\\u043e\\u0433\\u0435 , \\u043f\\u0430\\u0440\\u0443 \\u0434\\u043d\\u0435\\u0439 \\u0442\\u0449\\u0430\\u0442\\u0435\\u043b\\u044c\\u043d\\u043e \\u0441\\u043f\\u043e\\u043a\\u043e\\u0439\\u043d\\u043e\\u0439 \\u043e\\u0431\\u0441\\u0442\\u0430\\u043d\\u043e\\u0432\\u043a\\u0435 \\u043f\\u043e\\u043b\\u0438\\u0441\\u0442\\u0430\\u043b\\u0430 \\u043a\\u0440\\u0435\\u0434\\u0438\\u0442\\u043d\\u044b\\u0439 \\u0434\\u043e\\u0433\\u043e\\u0432\\u043e\\u0440 , \\u043d\\u0430\\u0448\\u043b\\u0430 , 6 \\u0442\\u044b\\u0441\\u044f\\u0447 \\u0441\\u0442\\u0440\\u0430\\u0445\\u043e\\u0432\\u043a\\u0430 , \\u043a\\u043e\\u0442\\u043e\\u0440\\u0443\\u044e \\u043f\\u0440\\u043e\\u0441\\u0438\\u043b\\u0430 \\u043e\\u0444\\u043e\\u0440\\u043c\\u043b\\u044f\\u0442\\u044c \\u043c\\u043e\\u0438 \\u0432\\u043e\\u043f\\u0440\\u043e\\u0441\\u044b \\u0441\\u0442\\u0440\\u0430\\u0445\\u043e\\u0432\\u043a\\u0430 , \\u043c\\u0435\\u043d\\u0435\\u0434\\u0436\\u0435\\u0440 \\u0441\\u0442\\u0430\\u043b \\u0433\\u043e\\u0432\\u043e\\u0440\\u0438\\u0442\\u044c , \\u0441\\u0442\\u0440\\u0430\\u0445\\u043e\\u0432\\u043a\\u0438 \\u043d\\u0435\\u0442\\u0443 , \\u0437\\u0430\\u0433\\u043e\\u0432\\u0430\\u0440\\u0438\\u0432\\u0430\\u0442\\u044c \\u0437\\u0443\\u0431\\u044b \\u0440\\u0430\\u0441\\u0441\\u043a\\u0430\\u0437\\u044b\\u0432\\u0430\\u044f \\u0437\\u0430\\u0447\\u0435\\u043c-\\u0442\\u043e \\u0441\\u0432\\u043e\\u0438 \\u044f\\u043a\\u043e\\u0431\\u044b \\u043a\\u0440\\u0435\\u0434\\u0438\\u0442\\u044b . \\u043f\\u0440\\u0438\\u0448\\u043b\\u0430 \\u0431\\u0430\\u043d\\u043a , \\u043e\\u0442\\u0441\\u0442\\u043e\\u044f\\u0432 \\u043e\\u0447\\u0435\\u0440\\u0435\\u0434\\u044c \\u0447\\u0430\\u0441 , \\u0441\\u043a\\u0430\\u0437\\u0430\\u043d\\u043e , \\u043c\\u043e\\u0433\\u0443 \\u043e\\u0442\\u043a\\u0430\\u0437\\u0430\\u0442\\u044c\\u0441\\u044f \\u0441\\u0442\\u0440\\u0430\\u0445\\u043e\\u0432\\u043a\\u0438 , \\u0434\\u0435\\u043d\\u044c\\u0433\\u0438 \\u0432\\u0435\\u0440\\u043d\\u0443\\u0442 , \\u043f\\u0440\\u043e\\u0448\\u043b\\u043e 5 \\u0434\\u043d\\u0435\\u0439 . \\u0442\\u043e\\u043c , \\u043e\\u0444\\u043e\\u0440\\u043c\\u043b\\u0435\\u043d\\u0438\\u0438 \\u043a\\u0440\\u0435\\u0434\\u0438\\u0442\\u0430 5 \\u0434\\u043d\\u0435\\u0439 \\u0441\\u043a\\u0430\\u0437\\u0430\\u043d\\u043e . \\u0442\\u0430\\u043a\\u0436\\u0435 \\u0443\\u0441\\u043b\\u043e\\u0432\\u0438\\u044f \\u0443\\u0447\\u0430\\u0441\\u0442\\u0438\\u044f \\u043f\\u0440\\u043e\\u0433\\u0440\\u0430\\u043c\\u043c\\u0435 \\u0441\\u0442\\u0440\\u0430\\u0445\\u043e\\u0432\\u0430\\u043d\\u0438\\u044f \\u0440\\u0443\\u043a\\u0438 \\u0432\\u044b\\u0434\\u0430\\u043d\\u043e . \\u043b\\u0438\\u0448\\u044c \\u043f\\u0443\\u043d\\u043a\\u0442\\u0435 14 \\u0441\\u0442\\u043e\\u0438\\u0442 , \\u043e\\u0437\\u043d\\u0430\\u043a\\u043e\\u043c\\u043b\\u0435\\u043d\\u0430.\\u0437\\u0430\\u043c\\u0435\\u0447\\u0430\\u0442\\u0435\\u043b\\u044c\\u043d\\u0430\\u044f \\u0440\\u0430\\u0431\\u043e\\u0442\\u0430 \\u043c\\u0435\\u043d\\u0435\\u0434\\u0436\\u0435\\u0440\\u0430 \\u043a\\u043e\\u0442\\u043e\\u0440\\u043e\\u043c\\u0443 \\u0441\\u043f\\u0438\\u0445\\u043d\\u0443\\u0442\\u044c \\u0441\\u0442\\u0440\\u0430\\u0445\\u043e\\u0432\\u043a\\u0443 \\u043f\\u043e\\u043b\\u0443\\u0447\\u0438\\u0442\\u044c \\u0441\\u0432\\u043e\\u0439 \\u043f\\u0440\\u043e\\u0446\\u0435\\u043d\\u0442 . \\u0437\\u0430\\u0433\\u043e\\u0432\\u0430\\u0440\\u0438\\u0432\\u0430\\u0435\\u0442 , \\u0447\\u0435\\u043b\\u043e\\u0432\\u0435\\u043a \\u043f\\u043e\\u0442\\u0435\\u0440\\u044f\\u043b \\u0431\\u0434\\u0438\\u0442\\u0435\\u043b\\u044c\\u043d\\u043e\\u0441\\u0442\\u044c , \\u0434\\u0435\\u043b\\u0430\\u0435\\u0442 \\u043d\\u0443\\u0436\\u043d\\u043e . \\u043a\\u043e\\u043d\\u0435\\u0447\\u043d\\u043e , \\u043f\\u043e\\u0434\\u043f\\u0438\\u0441\\u0430\\u043d\\u0438\\u0435\\u043c \\u0434\\u043e\\u043a\\u0443\\u043c\\u0435\\u043d\\u0442\\u0430 \\u043d\\u0443\\u0436\\u043d\\u043e \\u0447\\u0438\\u0442\\u0430\\u0442\\u044c \\u043a\\u0430\\u0436\\u0434\\u0443\\u044e \\u0437\\u0430\\u043f\\u044f\\u0442\\u0443\\u044e , \\u043c\\u0435\\u043d\\u0435\\u0434\\u0436\\u0435\\u0440 \\u0434\\u043e\\u043b\\u0436\\u0435\\u043d \\u0430\\u0434\\u0435\\u043a\\u0432\\u0430\\u0442\\u043d\\u044b\\u043c \\u0432\\u043e\\u043f\\u0440\\u043e\\u0441 \\u0441\\u0442\\u0440\\u0430\\u0445\\u043e\\u0432\\u043a\\u0430 \\u044d\\u0442\\u0430 \\u0441\\u0443\\u043c\\u043c\\u0430 , \\u043e\\u0442\\u0432\\u0435\\u0447\\u0430\\u0442\\u044c \\u0432\\u043d\\u044f\\u0442\\u043d\\u043e , \\u043f\\u0441\\u0438\\u0445\\u043e\\u0432\\u0430\\u0442\\u044c \\u0433\\u043e\\u0432\\u043e\\u0440\\u0438\\u0442\\u044c \\u043e\\u0431\\u044a\\u044f\\u0441\\u043d\\u0438\\u043b\\u0430 \\u0441\\u043a\\u0438\\u0434\\u043a\\u0443 .\",\n          \"\\u043d\\u0435\\u0431\\u043e\\u043b\\u044c\\u0448\\u0430\\u044f \\u043f\\u0440\\u0435\\u0434\\u044b\\u0441\\u0442\\u043e\\u0440\\u0438\\u044f : \\u043d\\u0430\\u0448\\u0435\\u043b \\u0441\\u0430\\u0439\\u0442\\u0435 mdm \\u0431\\u0430\\u043d\\u043a\\u0430 \\u0438\\u043d\\u0442\\u0435\\u0440\\u0435\\u0441\\u043d\\u0443\\u044e \\u043a\\u043e-\\u0431\\u0440\\u0435\\u043d\\u0434 \\u043a\\u0430\\u0440\\u0442\\u0443 \\u00ab \\u0442\\u0435\\u0445\\u043d\\u043e\\u0441\\u0438\\u043b\\u0430 \\u2013 mdm \\u0431\\u0430\\u043d\\u043a \\u00bb , \\u043f\\u043e\\u0434\\u0430\\u043b \\u0437\\u0430\\u044f\\u0432\\u043a\\u0443 \\u043d\\u0435\\u0435 , \\u0441\\u043a\\u043e\\u0440\\u043e \\u043f\\u043e\\u0437\\u0432\\u043e\\u043d\\u0438\\u043b\\u0438 \\u0433\\u043e\\u0440\\u044f\\u0447\\u0435\\u0439 \\u043b\\u0438\\u043d\\u0438\\u0438 . \\u043f\\u0440\\u0435\\u0434\\u043b\\u043e\\u0436\\u0438\\u043b\\u0438 \\u043a\\u0440\\u0435\\u0434\\u0438\\u0442\\u043d\\u0443\\u044e \\u043a\\u0430\\u0440\\u0442\\u0443 , \\u043f\\u0440\\u0438\\u043d\\u0446\\u0438\\u043f\\u0435 \\u043e\\u0442\\u0432\\u0435\\u0442\\u0438\\u043b , \\u043d\\u0443\\u0436\\u043d\\u0430 \\u0434\\u0435\\u0431\\u0435\\u0442\\u043e\\u0432\\u0430\\u044f , \\u043d\\u0443\\u0436\\u043d\\u043e \\u0441\\u043f\\u0440\\u0430\\u0432\\u043e\\u043a , \\u043a\\u0440\\u0435\\u0434\\u0438\\u0442\\u043d\\u0443\\u044e \\u0432\\u0441\\u044f\\u043a\\u0438\\u0439 \\u0441\\u043b\\u0443\\u0447\\u0430\\u0439 . \\u043a\\u0440\\u0435\\u0434\\u0438\\u0442\\u043d\\u0443\\u044e \\u043e\\u0434\\u043e\\u0431\\u0440\\u0438\\u043b\\u0438 , \\u0441\\u043a\\u0430\\u0437\\u0430\\u043b\\u0438 , \\u043e\\u0431\\u0440\\u0430\\u0442\\u0438\\u0442\\u0441\\u044f \\u043e\\u0442\\u0434\\u0435\\u043b\\u0435\\u043d\\u0438\\u0435 \\u0431\\u0430\\u043d\\u043a\\u0430 \\u043c\\u043e\\u043c\\u0435\\u043d\\u0442\\u0430\\u043b\\u044c\\u043d\\u043e\\u0439 \\u0432\\u044b\\u0434\\u0430\\u0447\\u0438 \\u0434\\u0435\\u0431\\u0435\\u0442\\u043e\\u0432\\u043e\\u0439 \\u043a\\u0430\\u0440\\u0442\\u044b ( \\u044f \\u0441\\u043f\\u0435\\u0446\\u0438\\u0430\\u043b\\u044c\\u043d\\u043e \\u0443\\u0442\\u043e\\u0447\\u043d\\u0438\\u043b \\u043e\\u043f\\u0435\\u0440\\u0430\\u0442\\u043e\\u0440\\u0430 \\u043c\\u043e\\u043c\\u0435\\u043d\\u0442\\u0430\\u043b\\u044c\\u043d\\u0443\\u044e \\u0432\\u044b\\u0434\\u0430\\u0447\\u0443 , \\u0431\\u0430\\u043d\\u043a \\u0434\\u0430\\u043b\\u0435\\u043a\\u043e \\u0435\\u0445\\u0430\\u0442\\u044c \\u0440\\u0430\\u0437\\u0430 \\u0442\\u0443\\u0434\\u0430 \\u0445\\u043e\\u0442\\u0435\\u043b\\u043e\\u0441\\u044c ) . \\u0432\\u044b\\u0431\\u0440\\u0430\\u043b \\u043e\\u0442\\u0434\\u0435\\u043b\\u0435\\u043d\\u0438\\u0435 \\u043e\\u043e \\u00ab \\u0441\\u0430\\u043c\\u0430\\u0440\\u0441\\u043a\\u0438\\u0439 \\u00bb ( \\u043a \\u0441\\u043b\\u043e\\u0432\\u0443 \\u0434\\u0440\\u0443\\u0433\\u0438\\u0445 \\u0433\\u043e\\u0440\\u043e\\u0434\\u0435 \\u043d\\u0435\\u0442 ) , \\u0432\\u044b\\u0431\\u0440\\u0430\\u043b \\u0434\\u0435\\u043d\\u044c \\u043f\\u043e\\u0435\\u0437\\u0434\\u043a\\u0438 \\u0440\\u0430\\u0431\\u043e\\u0442\\u044b ( \\u0440\\u0435\\u0436\\u0438\\u043c \\u0440\\u0430\\u0431\\u043e\\u0442\\u044b \\u043e\\u0442\\u0434\\u0435\\u043b\\u0435\\u043d\\u0438\\u044f \\u0441\\u0430\\u0439\\u0442\\u0435 \\u043f\\u043e\\u0437\\u0432\\u043e\\u043b\\u044f\\u043b \\u043f\\u0440\\u0438\\u0435\\u0445\\u0430\\u0442\\u044c 1.5 \\u0447\\u0430\\u0441\\u0430 \\u0437\\u0430\\u043a\\u0440\\u044b\\u0442\\u0438\\u044f ) , \\u0440\\u0435\\u0448\\u0438\\u043b \\u043f\\u043e\\u0434\\u0441\\u0442\\u0440\\u0430\\u0445\\u043e\\u0432\\u0430\\u0442\\u044c\\u0441\\u044f \\u043f\\u043e\\u0437\\u0432\\u043e\\u043d\\u0438\\u0442\\u044c , \\u0443\\u0442\\u043e\\u0447\\u043d\\u0438\\u0442\\u044c \\u0432\\u044b\\u0434\\u0430\\u0434\\u0443\\u0442 \\u043c\\u043e\\u043c\\u0435\\u043d\\u0442\\u0430\\u043b\\u044c\\u043d\\u043e . \\u0443\\u0441\\u0438\\u043b\\u0438\\u044f \\u043c\\u043e\\u0438 \\u0442\\u0449\\u0435\\u0442\\u043d\\u044b , \\u0432\\u0441\\u0435\\u043c \\u0442\\u0435\\u043b\\u0435\\u0444\\u043e\\u043d\\u0430\\u043c \\u043f\\u043e\\u043f\\u0430\\u0434\\u0430\\u043b , \\u043e\\u0442\\u0441\\u044b\\u043b\\u0430\\u043b\\u0438 \\u043e\\u0442\\u0434\\u0435\\u043b \\u043f\\u0440\\u043e\\u0434\\u0430\\u0436 , \\u043f\\u0435\\u0440\\u0435\\u043a\\u043b\\u044e\\u0447\\u0435\\u043d\\u0438\\u044f \\u043a\\u043e\\u0442\\u043e\\u0440\\u044b\\u0439 \\u0442\\u0440\\u0443\\u0431\\u043a\\u0443 \\u043d\\u0438\\u043a\\u0442\\u043e \\u0431\\u0440\\u0430\\u043b ( \\u0440\\u0430\\u0437 5 \\u0442\\u0435\\u0447\\u0435\\u043d\\u0438\\u0435 \\u0434\\u043d\\u044f ) . \\u0440\\u0430\\u0431\\u043e\\u0442\\u044b ( 29 \\u0430\\u043f\\u0440\\u0435\\u043b\\u044f 2016 \\u0433\\u043e\\u0434\\u0430 ) \\u043f\\u043e\\u0435\\u0445\\u0430\\u043b \\u043e\\u0442\\u0434\\u0435\\u043b\\u0435\\u043d\\u0438\\u0435 , \\u043f\\u0440\\u0438\\u0431\\u044b\\u043b \\u0442\\u0443\\u0434\\u0430 1 \\u0447\\u0430\\u0441 20 \\u043c\\u0438\\u043d\\u0443\\u0442 \\u0437\\u0430\\u043a\\u0440\\u044b\\u0442\\u0438\\u044f . \\u043e\\u0442\\u0434\\u0435\\u043b\\u0435\\u043d\\u0438\\u0438 \\u043e\\u0447\\u0435\\u0440\\u0435\\u0434\\u044c , \\u043f\\u0435\\u0440\\u0435\\u0434\\u043e \\u043c\\u043d\\u043e\\u0439 2 \\u0447\\u0435\\u043b\\u043e\\u0432\\u0435\\u043a\\u0430 , \\u0440\\u0430\\u0431\\u043e\\u0442\\u0430\\u043b\\u043e \\u0441\\u043e\\u0442\\u0440\\u0443\\u0434\\u043d\\u0438\\u043a\\u0430 . \\u043f\\u043e\\u0434\\u043e\\u0448\\u043b\\u0430 \\u043e\\u0447\\u0435\\u0440\\u0435\\u0434\\u044c ( \\u044d\\u0442\\u043e \\u0447\\u0430\\u0441 \\u043a\\u043e\\u043d\\u0446\\u0430 \\u0440\\u0430\\u0431\\u043e\\u0447\\u0435\\u0433\\u043e \\u0434\\u043d\\u044f ) \\u043e\\u0434\\u043d\\u0430 \\u0441\\u043e\\u0442\\u0440\\u0443\\u0434\\u043d\\u0438\\u0446 \\u0441\\u043f\\u0440\\u043e\\u0441\\u0438\\u043b\\u0430 \\u0432\\u043e\\u043f\\u0440\\u043e\\u0441 , \\u0440\\u0430\\u0441\\u0441\\u043a\\u0430\\u0437\\u0430\\u043b \\u043a\\u0430\\u0440\\u0442\\u0443 , \\u0441\\u043a\\u0430\\u0437\\u0430\\u043b\\u0430 , \\u0440\\u0430\\u0431\\u043e\\u0447\\u0438\\u0439 \\u0434\\u0435\\u043d\\u044c \\u0437\\u0430\\u043a\\u043e\\u043d\\u0447\\u0438\\u043b\\u0441\\u044f \\u0443\\u0448\\u043b\\u0430 , \\u043f\\u043e\\u043f\\u0440\\u043e\\u0441\\u0438\\u043b\\u0430 \\u043e\\u0431\\u0440\\u0430\\u0442\\u0438\\u0442\\u044c\\u0441\\u044f \\u043a\\u043e \\u0432\\u0442\\u043e\\u0440\\u043e\\u0439 . \\u043f\\u043e\\u0434\\u043e\\u0436\\u0434\\u0430\\u043b \\u043f\\u043e\\u0434\\u043e\\u0439\\u0434\\u0435\\u0442 \\u043e\\u0447\\u0435\\u0440\\u0435\\u0434\\u044c , \\u044d\\u0442\\u043e \\u043c\\u0438\\u043d\\u0443\\u0442 20 , \\u0442.\\u043a . \\u043a\\u043b\\u0438\\u0435\\u043d\\u0442 \\u043f\\u0435\\u0440\\u0435\\u0434\\u043e \\u043c\\u043d\\u043e\\u0439 \\u043f\\u044b\\u0442\\u0430\\u043b\\u0430\\u0441\\u044c \\u0432\\u044b\\u044f\\u0441\\u043d\\u0438\\u0442\\u044c \\u043f\\u043e\\u0442\\u0435\\u0440\\u044f\\u043b\\u0438 \\u0434\\u043e\\u043a\\u0443\\u043c\\u0435\\u043d\\u0442\\u044b , \\u0441\\u043e\\u0442\\u0440\\u0443\\u0434\\u043d\\u0438\\u043a\\u0438 \\u0433\\u043e\\u0432\\u043e\\u0440\\u0438\\u043b\\u0438 \\u0434\\u0440\\u0443\\u0433 \\u0434\\u0440\\u0443\\u0433\\u0430 , \\u043f\\u0435\\u0440\\u0435\\u0434\\u0430\\u043b\\u0438 ( \\u043e\\u0434\\u0438\\u043d \\u043e\\u0442\\u0432\\u0435\\u0442\\u043e\\u0432 \\u0432\\u043e\\u043f\\u0440\\u043e\\u0441 \\u00ab \\u043f\\u043e\\u0447\\u0435\\u043c\\u0443 \\u0443\\u0448\\u0435\\u0434\\u0448\\u0430\\u044f \\u0441\\u043e\\u0442\\u0440\\u0443\\u0434\\u043d\\u0438\\u0446\\u0430 \\u0441\\u043a\\u0430\\u0437\\u0430\\u043b\\u0430 , \\u0434\\u043e\\u043a\\u0443\\u043c\\u0435\\u043d\\u0442\\u044b \\u0432\\u0430\\u0441 ? ) \\u0441\\u043e\\u0442\\u0440\\u0443\\u0434\\u043d\\u0438\\u0446\\u044b \\u0431\\u044b\\u043b : \\u00ab \\u043f\\u043e\\u0442\\u043e\\u043c\\u0443 \\u043a\\u043e\\u043d\\u0435\\u0446 \\u0440\\u0430\\u0431\\u043e\\u0447\\u0435\\u0433\\u043e \\u0434\\u043d\\u044f \\u0445\\u043e\\u0442\\u0435\\u043b\\u0430 \\u043f\\u043e\\u0441\\u043a\\u043e\\u0440\\u0435\\u0435 \\u0434\\u043e\\u043c\\u043e\\u0439 \\u0440\\u0430\\u0437\\u0431\\u0438\\u0440\\u0430\\u0442\\u044c\\u0441\\u044f \\u0437\\u0430\\u0445\\u043e\\u0442\\u0435\\u043b\\u0430 \\u00bb . \\u043f\\u043e\\u0434\\u043e\\u0448\\u0435\\u043b \\u0441\\u043e\\u0442\\u0440\\u0443\\u0434\\u043d\\u0438\\u0446\\u0435 , \\u0440\\u0430\\u0441\\u0441\\u043a\\u0430\\u0437\\u0430\\u043b , \\u0445\\u043e\\u0447\\u0443 \\u043f\\u043e\\u043b\\u0443\\u0447\\u0438\\u0442\\u044c \\u043a\\u0430\\u0440\\u0442\\u0443 , \\u0441\\u043a\\u0430\\u0437\\u0430\\u043b\\u0430 , \\u043f\\u043e\\u043b\\u0443\\u0447\\u0435\\u043d\\u0438\\u044f \\u0434\\u0435\\u0431\\u0435\\u0442\\u043e\\u0432\\u043e\\u0439 \\u043a\\u0430\\u0440\\u0442\\u044b \\u043d\\u0443\\u0436\\u043d\\u0430 \\u043f\\u0440\\u043e\\u0432\\u0435\\u0440\\u043a\\u0430 10 \\u0434\\u043d\\u0435\\u0439 ( \\u0432 \\u0440\\u0430\\u0437\\u0440\\u0435\\u0437 \\u0438\\u043d\\u0444\\u043e\\u0440\\u043c\\u0430\\u0446\\u0438\\u0438 \\u0433\\u043e\\u0440\\u044f\\u0447\\u0435\\u0439 \\u043b\\u0438\\u043d\\u0438\\u0438 ) , \\u043e\\u0442\\u043a\\u0441\\u0435\\u0440\\u0438\\u043b\\u0430 \\u043f\\u0430\\u0441\\u043f\\u043e\\u0440\\u0442 \\u0432\\u0441\\u0435 . \\u043d\\u0438\\u043a\\u0430\\u043a\\u0438\\u0445 \\u0437\\u0430\\u044f\\u0432\\u043b\\u0435\\u043d\\u0438\\u0439 \\u0432\\u044b\\u043f\\u0443\\u0441\\u043a , \\u043f\\u0440\\u043e\\u0432\\u0435\\u0440\\u043a\\u0443 \\u0442.\\u043f . \\u043f\\u0438\\u0441\\u0430\\u043b . \\u0432\\u043e\\u043f\\u0440\\u043e\\u0441 : \\u00ab \\u043f\\u043e\\u0447\\u0435\\u043c\\u0443 \\u043e\\u0442\\u043a\\u0441\\u0435\\u0440\\u0438\\u043b\\u0438 \\u043f\\u0430\\u0441\\u043f\\u043e\\u0440\\u0442 , \\u0432\\u0437\\u044f\\u043b\\u0438 \\u0440\\u0430\\u0437\\u0440\\u0435\\u0448\\u0435\\u043d\\u0438\\u0435 \\u0438\\u0441\\u043f\\u043e\\u043b\\u044c\\u0437\\u043e\\u0432\\u0430\\u043d\\u0438\\u0435 \\u043f\\u0435\\u0440\\u0441\\u043e\\u043d\\u0430\\u043b\\u044c\\u043d\\u044b\\u0439 \\u0434\\u0430\\u043d\\u043d\\u044b\\u0445 ? \\u00bb , \\u043e\\u0442\\u0432\\u0435\\u0442 \\u043f\\u0440\\u043e\\u0441\\u0442 : \\u00ab \\u0447\\u0442\\u043e\\u0431\\u044b \\u044d\\u0442\\u043e \\u0441\\u0434\\u0435\\u043b\\u0430\\u0442\\u044c \\u043d\\u0443\\u0436\\u043d\\u043e \\u0440\\u0430\\u043d\\u044c\\u0448\\u0435 \\u043f\\u0440\\u0438\\u0445\\u043e\\u0434\\u0438\\u0442\\u044c ! \\u00bb \\u0441\\u043f\\u0440\\u043e\\u0441\\u0438\\u043b \\u043d\\u043e\\u043c\\u0435\\u0440 \\u0442\\u0435\\u043b\\u0435\\u0444\\u043e\\u043d\\u0430 , \\u043a\\u043e\\u0442\\u043e\\u0440\\u043e\\u043c\\u0443 \\u043f\\u043e\\u0437\\u0432\\u043e\\u043d\\u0438\\u0442\\u044c , \\u0434\\u0430\\u043b\\u0438 \\u0432\\u0438\\u0437\\u0438\\u0442\\u043a\\u0443 \\u0438\\u043c\\u0435\\u043d\\u0435\\u043c \\u00ab \\u0431 % % % % % \\u0440\\u0435\\u0432\\u0430 \\u0430\\u043b\\u044c\\u0431\\u0438\\u043d\\u0430 \\u0441-\\u043d\\u0430 \\u00bb \\u043d\\u043e\\u043c\\u0435\\u0440\\u043e\\u043c \\u0442\\u0435\\u043b\\u0435\\u0444\\u043e\\u043d\\u0430 , \\u043a\\u043e\\u0442\\u043e\\u0440\\u043e\\u043c\\u0443 \\u043f\\u044b\\u0442\\u0430\\u043b\\u0441\\u044f \\u0432\\u0435\\u0441\\u044c \\u0434\\u0435\\u043d\\u044c \\u0434\\u043e\\u0437\\u0432\\u043e\\u043d\\u0438\\u0442\\u044c\\u0441\\u044f \\u043d\\u0438\\u043a\\u0442\\u043e \\u0431\\u0440\\u0430\\u043b \\u0442\\u0440\\u0443\\u0431\\u043a\\u0438.\\u044f \\u043c\\u043d\\u043e\\u0433\\u0438\\u0445 \\u0431\\u0430\\u043d\\u043a\\u0430\\u0445 \\u0433\\u043e\\u0441\\u0443\\u0447\\u0440\\u0435\\u0436\\u0434\\u0435\\u043d\\u0438\\u044f\\u0445 , \\u0432\\u0438\\u0434\\u0435\\u043b \\u0440\\u0430\\u0437\\u043d\\u043e\\u0435 \\u043e\\u0442\\u043d\\u043e\\u0448\\u0435\\u043d\\u0438\\u0435 \\u043a\\u043b\\u0438\\u0435\\u043d\\u0442\\u0430\\u043c , \\u0442\\u0430\\u043a\\u043e\\u0433\\u043e \\u043e\\u0442\\u0432\\u0440\\u0430\\u0442\\u0438\\u0442\\u0435\\u043b\\u044c\\u043d\\u043e\\u0433\\u043e \\u043e\\u0442\\u043d\\u043e\\u0448\\u0435\\u043d\\u0438\\u044f \\u043e\\u0442\\u0434\\u0435\\u043b\\u0435\\u043d\\u0438\\u044f\\u0445 \\u0432\\u0441\\u0442\\u0440\\u0435\\u0447\\u0430\\u043b \\u0440\\u0430\\u0437\\u0443 ! 5 \\u043c\\u0430\\u044f 2016\\u0433\\u043e\\u0434\\u0430 \\u043f\\u043e\\u0437\\u0432\\u043e\\u043d\\u0438\\u043b\\u0430 \\u0430\\u043b\\u044c\\u0431\\u0438\\u043d\\u0430 \\u0441-\\u043d\\u0430 \\u0441\\u043a\\u0430\\u0437\\u0430\\u043b\\u0430 , \\u0434\\u0435\\u0431\\u0435\\u0442\\u043e\\u0432\\u0430\\u044f \\u043a\\u0430\\u0440\\u0442\\u0430 ( \\u0442\\u0443\\u0442 \\u043f\\u0443\\u0442\\u0430\\u043b\\u0430\\u0441\\u044c \\u043d\\u0435\\u0441\\u043a\\u043e\\u043b\\u044c\\u043a\\u043e \\u043d\\u0430\\u0437\\u0432\\u0430\\u043d\\u0438\\u0438 \\u043a\\u0430\\u0440\\u0442\\u044b , \\u043a\\u043e\\u0442\\u043e\\u0440\\u0443\\u044e \\u0445\\u043e\\u0442\\u0435\\u043b ) \\u043e\\u0434\\u043e\\u0431\\u0440\\u0435\\u043d\\u0430 , \\u0432\\u0430\\u0440\\u0438\\u0430\\u043d\\u0442 \\u043f\\u043e\\u043b\\u0443\\u0447\\u0438\\u0442\\u044c \\u0435\\u0451 , \\u043e\\u0444\\u043e\\u0440\\u043c\\u043b\\u044e \\u0441\\u0442\\u0440\\u0430\\u0445\\u043e\\u0432\\u043a\\u0443 \\u0436\\u0438\\u0437\\u043d\\u0438 . \\u0447\\u0435\\u0441\\u0442\\u043d\\u043e \\u0433\\u043e\\u0432\\u043e\\u0440\\u044f \\u043f\\u0435\\u0440\\u0432\\u044b\\u0439 \\u0441\\u043b\\u044b\\u0448\\u0443 , \\u043f\\u043e\\u043b\\u0443\\u0447\\u0435\\u043d\\u0438\\u044f \\u0434\\u0435\\u0431\\u0435\\u0442\\u043e\\u0432\\u043e\\u0439 \\u043a\\u0430\\u0440\\u0442\\u044b \\u043d\\u0443\\u0436\\u043d\\u0430 \\u0441\\u0442\\u0440\\u0430\\u0445\\u043e\\u0432\\u043a\\u0430 \\u0436\\u0438\\u0437\\u043d\\u0438 . \\u043f\\u0440\\u0438\\u0448\\u043b\\u043e\\u0441\\u044c \\u043e\\u0442\\u043a\\u0430\\u0437\\u0430\\u0442\\u044c\\u0441\\u044f.p.s . \\u043f\\u043e\\u0437\\u0432\\u043e\\u043d\\u0438\\u043b \\u043a\\u043e\\u043d\\u0442\\u0430\\u043a\\u0442\\u043d\\u044b\\u0439 \\u0446\\u0435\\u043d\\u0442\\u0440 \\u043c\\u0434\\u043c \\u0431\\u0430\\u043d\\u043a\\u0430 . \\u043f\\u043e\\u0434\\u0442\\u0432\\u0435\\u0440\\u0434\\u0438\\u043b\\u0438 , \\u043a\\u0430\\u0440\\u0442\\u0430 \\u043e\\u0444\\u043e\\u0440\\u043c\\u043b\\u044f\\u0435\\u0442\\u0441\\u044f \\u0431\\u0435\\u0441\\u043f\\u043b\\u0430\\u0442\\u043d\\u043e , \\u043a\\u0430\\u043a\\u0438\\u0445-\\u043b\\u0438\\u0431\\u043e \\u0441\\u0442\\u0440\\u0430\\u0445\\u043e\\u0432\\u043e\\u043a , \\u0434\\u0435\\u043d\\u044c \\u043e\\u0431\\u0440\\u0430\\u0449\\u0435\\u043d\\u0438\\u044f \\u0431\\u0430\\u043d\\u043a ( \\u043d\\u0435\\u0438\\u043c\\u0435\\u043d\\u0430\\u044f ) . \\u0441\\u0447\\u0438\\u0442\\u0430\\u044e , \\u0441\\u043e\\u0442\\u0440\\u0443\\u0434\\u043d\\u0438\\u043a \\u043f\\u0440\\u043e\\u0441\\u0442\\u043e-\\u043d\\u0430\\u043f\\u0440\\u043e\\u0441\\u0442\\u043e \\u043e\\u0431\\u043c\\u0430\\u043d\\u044b\\u0432\\u0430\\u0435\\u0442.p.s . \\u043a\\u043e\\u043d\\u0442\\u0430\\u043a\\u0442\\u043d\\u043e\\u0433\\u043e \\u0446\\u0435\\u043d\\u0442\\u0440\\u0430 \\u0441\\u0430\\u0439\\u0442\\u0435 \\u0431\\u0430\\u043d\\u043a\\u0430 \\u0432\\u043e\\u043f\\u0440\\u043e\\u0441 : \\u00ab \\u043a\\u0430\\u043a \\u0441\\u043e\\u043e\\u0442\\u043d\\u043e\\u0441\\u0438\\u0442\\u0441\\u044f \\u0441\\u0442\\u0440\\u0430\\u0445\\u043e\\u0432\\u0430\\u043d\\u0438\\u0435 \\u043c\\u043e\\u0435\\u0439 \\u0436\\u0438\\u0437\\u043d\\u0438 \\u0432\\u043e\\u0437\\u043c\\u043e\\u0436\\u043d\\u043e\\u0441\\u0442\\u044c\\u044e \\u0432\\u044b\\u0434\\u0430\\u0447\\u0438 \\u043a\\u0430\\u0440\\u0442\\u044b ? \\u00bb \\u043e\\u0442\\u0432\\u0435\\u0442\\u0438\\u043b\\u0438 \\u043d\\u0435\\u043c\\u043d\\u043e\\u0433\\u043e\\u0441\\u043b\\u043e\\u0432\\u043d\\u043e : \\u00ab \\u043e\\u0431\\u0440\\u0430\\u0449\\u0430\\u0435\\u043c \\u0432\\u0430\\u0448\\u0435 \\u0432\\u043d\\u0438\\u043c\\u0430\\u043d\\u0438\\u0435 , \\u0431\\u0430\\u043d\\u043a \\u0432\\u043f\\u0440\\u0430\\u0432\\u0435 \\u043e\\u0442\\u043a\\u0430\\u0437\\u0430\\u0442\\u044c \\u0432\\u044b\\u0434\\u0430\\u0447\\u0435 \\u0434\\u0435\\u0431\\u0435\\u0442\\u043e\\u0432\\u043e\\u0439 \\u043a\\u0430\\u0440\\u0442\\u044b. \\u00bb . ( \\u0432\\u043e\\u043e\\u0431\\u0449\\u0435\\u043c-\\u0442\\u043e \\u0441\\u043e\\u043c\\u043d\\u0435\\u0432\\u0430\\u043b\\u0441\\u044f , \\u043e\\u0442\\u0432\\u0435\\u0442 \\u0432\\u043e\\u043f\\u0440\\u043e\\u0441 \\u043f\\u043e\\u043b\\u0443\\u0447\\u0438\\u043b ) .\\u0432 \\u0438\\u0442\\u043e\\u0433\\u0435 \\u043a\\u0430\\u0440\\u0442\\u044b \\u043d\\u0435\\u0442 , \\u043f\\u043e\\u0442\\u0440\\u0430\\u0442\\u0438\\u043b \\u043a\\u0443\\u0447\\u0443 \\u0432\\u0440\\u0435\\u043c\\u0435\\u043d\\u0438 , \\u043c\\u043d\\u0435\\u043d\\u0438\\u0435 \\u0431\\u0430\\u043d\\u043a\\u0435 \\u0438\\u0441\\u043f\\u043e\\u0440\\u0447\\u0435\\u043d\\u043e .\",\n          \"\\u043e\\u0447\\u0435\\u043d\\u044c \\u043f\\u043e\\u0440\\u0430\\u0434\\u043e\\u0432\\u0430\\u043b\\u0430 \\u043e\\u043f\\u0435\\u0440\\u0430\\u0442\\u0438\\u0432\\u043d\\u043e\\u0441\\u0442\\u044c \\u0440\\u0430\\u0431\\u043e\\u0442\\u044b \\u0431\\u0430\\u043d\\u043a\\u0435 . \\u0437\\u0430\\u043a\\u0430\\u0437\\u0430\\u043b \\u0438\\u043d\\u0442\\u0435\\u0440\\u043d\\u0435\\u0442 \\u043a\\u0430\\u0440\\u0442\\u0443 visa classic , \\u043f\\u043e\\u0442\\u0440\\u0435\\u0431\\u043e\\u0432\\u0430\\u043b\\u043e\\u0441\\u044c \\u043f\\u043e\\u0434\\u043e\\u0439\\u0442\\u0438 \\u0431\\u0430\\u043d\\u043a \\u043f\\u043e\\u0434\\u043f\\u0438\\u0441\\u0430\\u043d\\u0438\\u044f \\u0437\\u0430\\u044f\\u0432\\u043b\\u0435\\u043d\\u0438\\u044f . \\u0434\\u0435\\u043d\\u044c \\u043e\\u0442\\u043a\\u0440\\u044b\\u043b\\u0438 \\u0442\\u0435\\u043a\\u0443\\u0449\\u0438\\u0439 \\u0441\\u0447\\u0435\\u0442 \\u0434\\u043e\\u0441\\u0442\\u0443\\u043f\\u043e\\u043c \\u0438\\u043d\\u0442\\u0435\\u0440\\u043d\\u0435\\u0442 \\u0443\\u0441\\u043b\\u0443\\u0433\\u0435 \\u0430\\u043b\\u044c\\u0444\\u0430-\\u043a\\u043b\\u0438\\u043a , \\u0442\\u0435\\u0447\\u0435\\u043d\\u0438\\u0438 \\u043d\\u0435\\u0434\\u0435\\u043b\\u0438 \\u0434\\u043e\\u043b\\u0436\\u0435\\u043d \\u043f\\u043e\\u043b\\u0443\\u0447\\u0438\\u0442\\u044c \\u043a\\u0430\\u0440\\u0442\\u0443 . \\u043d\\u0430\\u0443\\u0447\\u0435\\u043d\\u043d\\u044b\\u0439 \\u0441\\u0431\\u0435\\u0440\\u0431\\u0430\\u043d\\u043a\\u043e\\u043c \\u043e\\u0436\\u0438\\u0434\\u0430\\u0442\\u044c \\u043e\\u0431\\u0435\\u0449\\u0430\\u043d\\u043d\\u043e\\u0435 , \\u0443\\u0434\\u0438\\u0432\\u0438\\u043b\\u0441\\u044f , \\u043a\\u0430\\u0440\\u0442\\u0430 \\u043f\\u0440\\u0430\\u0432\\u0434\\u0430 \\u043f\\u0440\\u0438\\u0448\\u043b\\u0430 \\u0432\\u043e\\u0432\\u0440\\u0435\\u043c\\u044f , \\u0432\\u044b\\u0434\\u0430\\u043b\\u0438 \\u043c\\u0438\\u043d\\u0443\\u0442 5 , \\u043e\\u0447\\u0435\\u043d\\u044c \\u043f\\u043e\\u0440\\u0430\\u0434\\u043e\\u0432\\u0430\\u043b\\u043e . \\u043e\\u043f\\u0435\\u0440\\u0430\\u0442\\u043e\\u0440\\u044b \\u0432\\u043e\\u0440\\u043e\\u043d\\u0435\\u0436\\u0441\\u043a\\u043e\\u0433\\u043e \\u043e\\u0442\\u0434\\u0435\\u043b\\u0435\\u043d\\u0438\\u044f \\u043f\\u0440-\\u0442\\u0435 \\u0440\\u0435\\u0432\\u043e\\u043b\\u044e\\u0446\\u0438\\u0438 \\u043e\\u043a\\u0430\\u0437\\u0430\\u043b\\u0438\\u0441\\u044c \\u043e\\u0447\\u0435\\u043d\\u044c \\u0434\\u043e\\u0431\\u0440\\u043e\\u0434\\u0443\\u0448\\u043d\\u044b\\u043c\\u0438 , \\u043f\\u0440\\u043e\\u043a\\u043e\\u043d\\u0441\\u0443\\u043b\\u044c\\u0442\\u0438\\u0440\\u043e\\u0432\\u0430\\u043b\\u0438 \\u0432\\u0441\\u0435\\u043c \\u0441\\u0438\\u0442\\u0443\\u0430\\u0446\\u0438\\u044f\\u043c , \\u043a\\u043e\\u0442\\u043e\\u0440\\u044b\\u0445 \\u0443\\u0442\\u043e\\u0447\\u043d\\u044f\\u043b.\\u043f\\u043e\\u0441\\u043b\\u0435 \\u0437\\u0430\\u0445\\u043e\\u0442\\u0435\\u043b \\u043f\\u043e\\u0434\\u043a\\u043b\\u044e\\u0447\\u0438\\u0442\\u044c \\u0443\\u0441\\u043b\\u0443\\u0433\\u0443 \\u0430\\u043b\\u044c\\u0444\\u0430-\\u043c\\u043e\\u0431\\u0430\\u0439\\u043b , \\u0443\\u043f\\u0440\\u0430\\u0432\\u043b\\u0435\\u043d\\u0438\\u044f \\u0441\\u0447\\u0435\\u0442\\u043e\\u043c \\u0442\\u0435\\u043b\\u0435\\u0444\\u043e\\u043d , \\u0437\\u0430\\u0431\\u044b\\u043b \\u0441\\u0432\\u043e\\u0439 \\u043b\\u043e\\u0433\\u0438\\u043d . \\u043f\\u043e\\u0437\\u0432\\u043e\\u043d\\u0438\\u0432 \\u0433\\u043e\\u0440\\u044f\\u0447\\u0435\\u0439 \\u043b\\u0438\\u043d\\u0438\\u0438 , \\u0434\\u0435\\u0432\\u0443\\u0448\\u043a\\u0430 \\u043f\\u043e\\u0434\\u0441\\u043a\\u0430\\u0437\\u0430\\u043b\\u0430 \\u043b\\u043e\\u0433\\u0438\\u043d , \\u043f\\u043e\\u0434\\u043a\\u043b\\u044e\\u0447\\u0438\\u043b\\u0430 \\u0443\\u0441\\u043b\\u0443\\u0433\\u0443 ( \\u0431\\u0435\\u0437 \\u043e\\u0431\\u0440\\u0430\\u0449\\u0435\\u043d\\u0438\\u044f \\u0431\\u0430\\u043d\\u043a ) , \\u0432\\u044b\\u0441\\u043b\\u0430\\u043b\\u0430 sm \\u0441\\u0441\\u044b\\u043b\\u043a\\u0443 \\u043f\\u0440\\u0438\\u043b\\u043e\\u0436\\u0435\\u043d\\u0438\\u0435 , \\u0441\\u0435\\u0440\\u0432\\u0438\\u0441 \\u0434\\u043e\\u043b\\u0436\\u043d\\u043e\\u043c \\u0443\\u0440\\u043e\\u0432\\u043d\\u0435 ! \\u0432 \\u043d\\u0430\\u0441\\u0442\\u043e\\u044f\\u0449\\u0438\\u0439 \\u043c\\u043e\\u043c\\u0435\\u043d\\u0442 \\u044f\\u0432\\u043b\\u044f\\u044e\\u0441\\u044c \\u043a\\u043b\\u0438\\u0435\\u043d\\u0442\\u043e\\u043c \\u043c\\u043e\\u0441\\u043a\\u043e\\u0432\\u0441\\u043a\\u043e\\u0433\\u043e \\u0438\\u043d\\u0434\\u0443\\u0441\\u0442\\u0440\\u0438\\u0430\\u043b\\u044c\\u043d\\u043e\\u0433\\u043e \\u0431\\u0430\\u043d\\u043a\\u0430 , \\u0432\\u0442\\u0431 24 \\u0441\\u0431\\u0435\\u0440\\u0431\\u0430\\u043d\\u043a\\u0430 , \\u0441\\u043e\\u0442\\u0440\\u0443\\u0434\\u043d\\u0438\\u0447\\u0435\\u0441\\u0442\\u0432\\u043e \\u043f\\u043e\\u0441\\u043b\\u0435\\u0434\\u043d\\u0438\\u043c\\u0438 2\\u043c\\u044f \\u043f\\u043e\\u043b\\u043d\\u043e\\u0441\\u0442\\u044c\\u044e \\u0440\\u0430\\u0437\\u043e\\u0447\\u0430\\u0440\\u043e\\u0432\\u0430\\u043b\\u043e , \\u044d\\u0442\\u043e \\u0434\\u0440\\u0443\\u0433\\u0430\\u044f \\u0438\\u0441\\u0442\\u043e\\u0440\\u0438\\u044f ... \\u0435\\u0434\\u0438\\u043d\\u0441\\u0442\\u0432\\u0435\\u043d\\u043d\\u043e\\u0435 , \\u0445\\u043e\\u0442\\u0435\\u043b\\u043e\\u0441\\u044c \\u043f\\u043e\\u0441\\u043e\\u0432\\u0435\\u0442\\u043e\\u0432\\u0430\\u0442\\u044c , \\u044d\\u0442\\u043e \\u0440\\u0430\\u0441\\u0448\\u0438\\u0440\\u0438\\u0442\\u044c \\u043a\\u043b\\u0438\\u0435\\u043d\\u0442\\u0441\\u043a\\u0443\\u044e \\u0437\\u043e\\u043d\\u0443 \\u043e\\u0442\\u0434\\u0435\\u043b\\u0435\\u043d\\u0438\\u0438 \\u0431\\u0430\\u043d\\u043a\\u0430 \\u0433. \\u0432\\u043e\\u0440\\u043e\\u043d\\u0435\\u0436 \\u043f\\u0440-\\u0442\\u0435 \\u0440\\u0435\\u0432\\u043e\\u043b\\u044e\\u0446\\u0438\\u0438 , \\u0442\\u0435\\u0441\\u043d\\u043e\\u0432\\u0430\\u0442\\u043e .\"\n        ],\n        \"semantic_type\": \"\",\n        \"description\": \"\"\n      }\n    }\n  ]\n}"
            }
          },
          "metadata": {},
          "execution_count": 31
        }
      ]
    },
    {
      "cell_type": "code",
      "source": [
        "from gensim.models import Word2Vec\n",
        "from gensim.models.word2vec import LineSentence"
      ],
      "metadata": {
        "id": "ROUTHygQOCSd"
      },
      "execution_count": null,
      "outputs": []
    },
    {
      "cell_type": "code",
      "source": [
        "w2v_model = Word2Vec(\n",
        "    min_count=5,\n",
        "    window=5,\n",
        "    vector_size=1000,\n",
        "    negative=5,\n",
        "    workers=24,\n",
        "    alpha=0.03,\n",
        "    min_alpha=0.0007,\n",
        "    sample=6e-5,\n",
        "    sg=1)"
      ],
      "metadata": {
        "id": "aHrreFKFOEwv"
      },
      "execution_count": null,
      "outputs": []
    },
    {
      "cell_type": "code",
      "source": [
        "from nltk.tokenize import sent_tokenize\n",
        "from gensim.utils import simple_preprocess\n",
        "\n",
        "class MySentences(object):\n",
        "    def __init__(self, docs):\n",
        "        self.corpus = docs\n",
        "    def __iter__(self):\n",
        "        for doc in self.corpus:\n",
        "            doc_sentences = sent_tokenize(doc)\n",
        "            for sent in doc_sentences:\n",
        "                yield simple_preprocess(sent) # yields a tokenized"
      ],
      "metadata": {
        "id": "JHPaEym-OIjN"
      },
      "execution_count": null,
      "outputs": []
    },
    {
      "cell_type": "code",
      "source": [
        "sentences = MySentences(banks['text_ready'].tolist())"
      ],
      "metadata": {
        "id": "FrLQy_YYLtPJ"
      },
      "execution_count": null,
      "outputs": []
    },
    {
      "cell_type": "code",
      "source": [
        "w2v_model.build_vocab(sentences)"
      ],
      "metadata": {
        "id": "WzfmAFU8OL42"
      },
      "execution_count": null,
      "outputs": []
    },
    {
      "cell_type": "code",
      "source": [
        "w2v_model.train(sentences, total_examples=w2v_model.corpus_count, epochs=5, report_delay=1)"
      ],
      "metadata": {
        "colab": {
          "base_uri": "https://localhost:8080/"
        },
        "id": "rESfZemwOR_D",
        "outputId": "7e6b48b0-718a-4a71-cc3f-77ec7c6d2034"
      },
      "execution_count": null,
      "outputs": [
        {
          "output_type": "execute_result",
          "data": {
            "text/plain": [
              "(7003398, 10949410)"
            ]
          },
          "metadata": {},
          "execution_count": 39
        }
      ]
    },
    {
      "cell_type": "code",
      "source": [
        "w2v_model.init_sims(replace=True)"
      ],
      "metadata": {
        "colab": {
          "base_uri": "https://localhost:8080/"
        },
        "id": "8a9mt5XCOUNa",
        "outputId": "f9fb94de-7143-41d5-cbf8-ec62451aff8c"
      },
      "execution_count": null,
      "outputs": [
        {
          "output_type": "stream",
          "name": "stderr",
          "text": [
            "<ipython-input-40-c7757d71a30b>:1: DeprecationWarning: Call to deprecated `init_sims` (Gensim 4.0.0 implemented internal optimizations that make calls to init_sims() unnecessary. init_sims() is now obsoleted and will be completely removed in future versions. See https://github.com/RaRe-Technologies/gensim/wiki/Migrating-from-Gensim-3.x-to-4).\n",
            "  w2v_model.init_sims(replace=True)\n",
            "WARNING:gensim.models.keyedvectors:destructive init_sims(replace=True) deprecated & no longer required for space-efficiency\n"
          ]
        }
      ]
    },
    {
      "cell_type": "code",
      "source": [
        "w2v_model.wv.most_similar(positive=[\"ужасный\"], topn=30)"
      ],
      "metadata": {
        "colab": {
          "base_uri": "https://localhost:8080/"
        },
        "id": "dmlmlqmkOWIm",
        "outputId": "b660c435-da4a-486c-96a3-249087ecfba2"
      },
      "execution_count": null,
      "outputs": [
        {
          "output_type": "execute_result",
          "data": {
            "text/plain": [
              "[('отвратительный', 0.952438473701477),\n",
              " ('полезно', 0.9010539054870605),\n",
              " ('заслуженно', 0.8915074467658997),\n",
              " ('относитесь', 0.8902542591094971),\n",
              " ('дорожите', 0.8892043828964233),\n",
              " ('худший', 0.8888790607452393),\n",
              " ('пользователям', 0.8884511590003967),\n",
              " ('многим', 0.8882650136947632),\n",
              " ('выбирайте', 0.8862558603286743),\n",
              " ('держаться', 0.8843053579330444),\n",
              " ('удивлять', 0.88359534740448),\n",
              " ('стремится', 0.8835296630859375),\n",
              " ('читатель', 0.8827661275863647),\n",
              " ('научитесь', 0.878715455532074),\n",
              " ('полезен', 0.8778975009918213),\n",
              " ('лояльный', 0.8766571283340454),\n",
              " ('слоган', 0.8758232593536377),\n",
              " ('серьезный', 0.8755574226379395),\n",
              " ('явный', 0.8750309348106384),\n",
              " ('современным', 0.8745728731155396),\n",
              " ('однозначно', 0.8745580315589905),\n",
              " ('советовал', 0.8745191097259521),\n",
              " ('постоянный', 0.8736629486083984),\n",
              " ('ориентирован', 0.8731253147125244),\n",
              " ('снижать', 0.8730104565620422),\n",
              " ('желающие', 0.8725581765174866),\n",
              " ('наплевательским', 0.8723276853561401),\n",
              " ('наплевательски', 0.8716989755630493),\n",
              " ('лучшее', 0.8714159727096558),\n",
              " ('продолжайте', 0.8710709810256958)]"
            ]
          },
          "metadata": {},
          "execution_count": 41
        }
      ]
    },
    {
      "cell_type": "code",
      "source": [
        "w2v_model.wv.most_similar(positive=[\"кэшбек\", \"продукт\", \"услуга\"], topn=50)"
      ],
      "metadata": {
        "colab": {
          "base_uri": "https://localhost:8080/"
        },
        "id": "XF6FQydWQxDL",
        "outputId": "3208d260-26b4-4693-a6f5-cc1414ea8684"
      },
      "execution_count": null,
      "outputs": [
        {
          "output_type": "execute_result",
          "data": {
            "text/plain": [
              "[('бинбонус', 0.8995100259780884),\n",
              " ('бонусная', 0.8989164233207703),\n",
              " ('подразумевает', 0.8960047960281372),\n",
              " ('защищенная', 0.8847336769104004),\n",
              " ('заинтересовала', 0.8791159391403198),\n",
              " ('ненужная', 0.8777902126312256),\n",
              " ('платной', 0.8712894916534424),\n",
              " ('включено', 0.8712557554244995),\n",
              " ('бесплатная', 0.8673592805862427),\n",
              " ('бесплатна', 0.8648974895477295),\n",
              " ('платным', 0.8629271984100342),\n",
              " ('умолчанию', 0.8626935482025146),\n",
              " ('мужская', 0.8616279363632202),\n",
              " ('эконом', 0.861099123954773),\n",
              " ('льготная', 0.8608875870704651),\n",
              " ('бесплатен', 0.8607550859451294),\n",
              " ('полезная', 0.857452929019928),\n",
              " ('космополитен', 0.8570263981819153),\n",
              " ('ценой', 0.856955885887146),\n",
              " ('выгодная', 0.855025053024292),\n",
              " ('бонусами', 0.8542081117630005),\n",
              " ('навязанная', 0.8539601564407349),\n",
              " ('лайт', 0.8539425134658813),\n",
              " ('подключенная', 0.8538593053817749),\n",
              " ('опция', 0.8532499074935913),\n",
              " ('платой', 0.8526129126548767),\n",
              " ('годовая', 0.8518962264060974),\n",
              " ('пользуешься', 0.8512741327285767),\n",
              " ('повышенного', 0.8508673906326294),\n",
              " ('предоставляется', 0.8498842716217041),\n",
              " ('платина', 0.8485298752784729),\n",
              " ('льготной', 0.8477697968482971),\n",
              " ('категория', 0.8474117517471313),\n",
              " ('базовый', 0.8452138900756836),\n",
              " ('cosmo', 0.845206618309021),\n",
              " ('прозрачная', 0.8452032804489136),\n",
              " ('покупкам', 0.8448464870452881),\n",
              " ('блэк', 0.8446311950683594),\n",
              " ('класс', 0.8435572981834412),\n",
              " ('стандартным', 0.8434810638427734),\n",
              " ('тарифном', 0.8432663083076477),\n",
              " ('навязал', 0.8422553539276123),\n",
              " ('тарифным', 0.8421716690063477),\n",
              " ('ндс', 0.8417195677757263),\n",
              " ('категориям', 0.8413545489311218),\n",
              " ('апп', 0.840604305267334),\n",
              " ('абон', 0.8403696417808533),\n",
              " ('pass', 0.8402712345123291),\n",
              " ('ежегодное', 0.839747965335846),\n",
              " ('ежегодной', 0.8393351435661316)]"
            ]
          },
          "metadata": {},
          "execution_count": 42
        }
      ]
    },
    {
      "cell_type": "code",
      "source": [
        "w2v_model.wv.most_similar(positive=[\"продукт\", \"время\", \"вернуть\"], negative=[\"ужасный\"], topn=100)"
      ],
      "metadata": {
        "colab": {
          "base_uri": "https://localhost:8080/"
        },
        "id": "ygog95j2Q7Rf",
        "outputId": "491345fb-e952-4f97-afab-f0489fd79089"
      },
      "execution_count": null,
      "outputs": [
        {
          "output_type": "execute_result",
          "data": {
            "text/plain": [
              "[('снятые', 0.6647319197654724),\n",
              " ('обнулить', 0.6554523706436157),\n",
              " ('согласились', 0.6552342176437378),\n",
              " ('забыв', 0.6544947028160095),\n",
              " ('основную', 0.6523891687393188),\n",
              " ('расторгнуть', 0.6451830863952637),\n",
              " ('продлить', 0.643165111541748),\n",
              " ('аннулировать', 0.6424216032028198),\n",
              " ('временную', 0.6420928239822388),\n",
              " ('мотивируя', 0.641787052154541),\n",
              " ('уверял', 0.6406365633010864),\n",
              " ('перечислить', 0.6405771970748901),\n",
              " ('переоформить', 0.6369448304176331),\n",
              " ('пересчитать', 0.636738657951355),\n",
              " ('разблокировать', 0.635907769203186),\n",
              " ('заявил', 0.6354883909225464),\n",
              " ('верну', 0.6350235939025879),\n",
              " ('полагающиеся', 0.6348938345909119),\n",
              " ('потраченную', 0.6332093477249146),\n",
              " ('перечислили', 0.6331350207328796),\n",
              " ('ненужную', 0.633027195930481),\n",
              " ('умудрились', 0.6316083669662476),\n",
              " ('аннулировали', 0.6310324668884277),\n",
              " ('уничтожить', 0.630134642124176),\n",
              " ('имеющуюся', 0.6297668218612671),\n",
              " ('прежнюю', 0.6285344362258911),\n",
              " ('навязала', 0.6281737089157104),\n",
              " ('оставшиеся', 0.6270215511322021),\n",
              " ('восстановить', 0.6257826685905457),\n",
              " ('оформят', 0.6256557703018188),\n",
              " ('впоследствии', 0.6255378723144531),\n",
              " ('захочу', 0.624809741973877),\n",
              " ('заверив', 0.624450147151947),\n",
              " ('выпущенную', 0.6241469383239746),\n",
              " ('полученную', 0.6233971118927002),\n",
              " ('истёк', 0.6232421398162842),\n",
              " ('уплаченную', 0.6230684518814087),\n",
              " ('пересчитают', 0.6230610609054565),\n",
              " ('выдаст', 0.6229193210601807),\n",
              " ('удержанную', 0.6223461627960205),\n",
              " ('одобренную', 0.6222150921821594),\n",
              " ('согласился', 0.6220364570617676),\n",
              " ('уговорили', 0.6204601526260376),\n",
              " ('действующую', 0.6201058626174927),\n",
              " ('продлевать', 0.619204044342041),\n",
              " ('спишут', 0.619035542011261),\n",
              " ('интересующую', 0.6187496185302734),\n",
              " ('momentum', 0.6186854243278503),\n",
              " ('потребовались', 0.6182218194007874),\n",
              " ('изготовить', 0.6179065704345703),\n",
              " ('определенную', 0.6176217794418335),\n",
              " ('перевыпускать', 0.617294192314148),\n",
              " ('закрыть', 0.6172919869422913),\n",
              " ('возобновить', 0.6171515583992004),\n",
              " ('выданную', 0.6168031096458435),\n",
              " ('положенный', 0.6165051460266113),\n",
              " ('обещанную', 0.615714430809021),\n",
              " ('отказывался', 0.6157012581825256),\n",
              " ('уверил', 0.6156178712844849),\n",
              " ('переправить', 0.6151946187019348),\n",
              " ('навязанную', 0.6151787042617798),\n",
              " ('заказывала', 0.6150809526443481),\n",
              " ('тело', 0.6148775219917297),\n",
              " ('поставив', 0.6140531301498413),\n",
              " ('пересчитали', 0.6139752268791199),\n",
              " ('снятую', 0.6136192083358765),\n",
              " ('заморозить', 0.6129658222198486),\n",
              " ('вручил', 0.6129598617553711),\n",
              " ('оформленную', 0.612650990486145),\n",
              " ('осуществили', 0.6121382713317871),\n",
              " ('закрытый', 0.6120171546936035),\n",
              " ('отдадут', 0.6118000149726868),\n",
              " ('потребуются', 0.6117768883705139),\n",
              " ('всучили', 0.6115204095840454),\n",
              " ('оформляем', 0.6114107966423035),\n",
              " ('бумажный', 0.6112813949584961),\n",
              " ('вынудили', 0.6102113723754883),\n",
              " ('неоказанную', 0.609624445438385),\n",
              " ('списанную', 0.6095182299613953),\n",
              " ('оформленный', 0.6091427206993103),\n",
              " ('сообщив', 0.6091285943984985),\n",
              " ('пересчитаны', 0.6090344786643982),\n",
              " ('дневный', 0.6085715889930725),\n",
              " ('вышеуказанную', 0.6085290312767029),\n",
              " ('захотела', 0.6085202097892761),\n",
              " ('оставшуюся', 0.6082130074501038),\n",
              " ('выплаченные', 0.6078408360481262),\n",
              " ('стандартную', 0.607537031173706),\n",
              " ('получит', 0.6075292825698853),\n",
              " ('бронь', 0.6074825525283813),\n",
              " ('заблокированную', 0.6069087982177734),\n",
              " ('изъял', 0.6068385243415833),\n",
              " ('сдачу', 0.6067308187484741),\n",
              " ('последующем', 0.606661319732666),\n",
              " ('полагается', 0.6063191890716553),\n",
              " ('посчитать', 0.6059725880622864),\n",
              " ('завершить', 0.6059505343437195),\n",
              " ('выписали', 0.6058635711669922),\n",
              " ('пролонгировать', 0.6058216691017151),\n",
              " ('ежемесячную', 0.6058210730552673)]"
            ]
          },
          "metadata": {},
          "execution_count": 43
        }
      ]
    },
    {
      "cell_type": "code",
      "source": [
        "w2v_model.wv.most_similar_to_given(\"ужасный\", [\"продукт\", \"консультант\", \"человек\", \"карта\"])"
      ],
      "metadata": {
        "colab": {
          "base_uri": "https://localhost:8080/",
          "height": 36
        },
        "id": "DCZXF6OuREd4",
        "outputId": "cf646574-32cb-4209-c771-3850874a76ab"
      },
      "execution_count": null,
      "outputs": [
        {
          "output_type": "execute_result",
          "data": {
            "text/plain": [
              "'продукт'"
            ],
            "application/vnd.google.colaboratory.intrinsic+json": {
              "type": "string"
            }
          },
          "metadata": {},
          "execution_count": 44
        }
      ]
    },
    {
      "cell_type": "code",
      "source": [
        "import matplotlib.pyplot as plt\n",
        "import seaborn as sns\n",
        "from sklearn.manifold import TSNE\n",
        "import numpy as np # Import numpy\n",
        "\n",
        "def tsne_scatterplot(model, word, list_names):\n",
        "    \"\"\"Plot in seaborn the results from the t-SNE dimensionality reduction\n",
        "    algorithm of the vectors of a query word,\n",
        "    its list of most similar words, and a list of words.\"\"\"\n",
        "    vectors_words = [model.wv.word_vec(word)]\n",
        "    word_labels = [word]\n",
        "    color_list = ['red']\n",
        "\n",
        "    close_words = model.wv.most_similar(word)\n",
        "    for wrd_score in close_words:\n",
        "        wrd_vector = model.wv.word_vec(wrd_score[0])\n",
        "        vectors_words.append(wrd_vector)\n",
        "        word_labels.append(wrd_score[0])\n",
        "        color_list.append('blue')\n",
        "\n",
        "    # adds the vector for each of the words from list_names to the array\n",
        "    for wrd in list_names:\n",
        "        wrd_vector = model.wv.word_vec(wrd)\n",
        "        vectors_words.append(wrd_vector)\n",
        "        word_labels.append(wrd)\n",
        "        color_list.append('green')\n",
        "\n",
        "    # Convert the list of word vectors to a NumPy array\n",
        "    vectors_words = np.array(vectors_words)\n",
        "\n",
        "    # t-SNE reduction\n",
        "    # Decreased perplexity to 10 (less than the number of samples)\n",
        "    Y = (TSNE(n_components=2, random_state=0, perplexity=10, init=\"pca\")\n",
        "        .fit_transform(vectors_words))\n",
        "    # Sets everything up to plot\n",
        "    df = pd.DataFrame({\"x\": [x for x in Y[:, 0]],\n",
        "                    \"y\": [y for y in Y[:, 1]],\n",
        "                    \"words\": word_labels,\n",
        "                    \"color\": color_list})\n",
        "    fig, _ = plt.subplots()\n",
        "    fig.set_size_inches(9, 9)\n",
        "    # Basic plot\n",
        "    p1 = sns.regplot(data=df,\n",
        "                    x=\"x\",\n",
        "                    y=\"y\",\n",
        "                    fit_reg=False,\n",
        "                    marker=\"o\",\n",
        "                    scatter_kws={\"s\": 40,\n",
        "                                \"facecolors\": df[\"color\"]}\n",
        "    )\n",
        "    # Adds annotations one by one with a loop\n",
        "    for line in range(0, df.shape[0]):\n",
        "        p1.text(df[\"x\"][line],\n",
        "                df[\"y\"][line],\n",
        "                \" \" + df[\"words\"][line].title(),\n",
        "                horizontalalignment=\"left\",\n",
        "                verticalalignment=\"bottom\", size=\"medium\",\n",
        "                color=df[\"color\"][line],\n",
        "                weight=\"normal\"\n",
        "        ).set_size(15)\n",
        "\n",
        "    plt.xlim(Y[:, 0].min()-50, Y[:, 0].max()+50)\n",
        "    plt.ylim(Y[:, 1].min()-50, Y[:, 1].max()+50)\n",
        "    plt.title('t-SNE visualization for {}'.format(word.title()))"
      ],
      "metadata": {
        "id": "W60yTBGTRcFW"
      },
      "execution_count": null,
      "outputs": []
    },
    {
      "cell_type": "code",
      "source": [
        "tsne_scatterplot(w2v_model, \"кредит\", [\"деньги\", \"хороший\"])"
      ],
      "metadata": {
        "colab": {
          "base_uri": "https://localhost:8080/",
          "height": 899
        },
        "id": "tAuF7mX2pp4N",
        "outputId": "85412ee1-b5fc-4b92-e44f-5b57315217c4"
      },
      "execution_count": null,
      "outputs": [
        {
          "output_type": "stream",
          "name": "stderr",
          "text": [
            "<ipython-input-47-349d8150bb75>:10: DeprecationWarning: Call to deprecated `word_vec` (Use get_vector instead).\n",
            "  vectors_words = [model.wv.word_vec(word)]\n",
            "<ipython-input-47-349d8150bb75>:16: DeprecationWarning: Call to deprecated `word_vec` (Use get_vector instead).\n",
            "  wrd_vector = model.wv.word_vec(wrd_score[0])\n",
            "<ipython-input-47-349d8150bb75>:23: DeprecationWarning: Call to deprecated `word_vec` (Use get_vector instead).\n",
            "  wrd_vector = model.wv.word_vec(wrd)\n"
          ]
        },
        {
          "output_type": "display_data",
          "data": {
            "text/plain": [
              "<Figure size 900x900 with 1 Axes>"
            ],
            "image/png": "[encoded data removed]"
          },
          "metadata": {}
        }
      ]
    }
  ]
}
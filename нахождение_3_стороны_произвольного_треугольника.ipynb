{
  "nbformat": 4,
  "nbformat_minor": 0,
  "metadata": {
    "colab": {
      "provenance": []
    },
    "kernelspec": {
      "name": "python3",
      "display_name": "Python 3"
    },
    "language_info": {
      "name": "python"
    }
  },
  "cells": [
    {
      "cell_type": "code",
      "execution_count": null,
      "metadata": {
        "colab": {
          "base_uri": "https://localhost:8080/"
        },
        "id": "ta1nYldN7DJi",
        "outputId": "3f752b48-90ce-4244-bca2-81bfc8ea117a"
      },
      "outputs": [
        {
          "output_type": "stream",
          "name": "stdout",
          "text": [
            "Введите длину первой стороны (a): 15\n",
            "Введите длину второй стороны (b): 30\n",
            "Введите угол между сторонами в градусах: 45\n",
            "Длина третьей стороны: 22.10\n"
          ]
        }
      ],
      "source": [
        "import math\n",
        "\n",
        "def calculate_third_side(a, b, angle_degrees):\n",
        "    #из градусов в радианы\n",
        "    angle_radians = math.radians(angle_degrees)\n",
        "\n",
        "    #теорема косинусов\n",
        "    c = math.sqrt(a**2 + b**2 - 2 * a * b * math.cos(angle_radians))\n",
        "    return c\n",
        "\n",
        "def main():\n",
        "    #запрос длины сторон и угол\n",
        "    a = float(input(\"Введите длину первой стороны (a): \"))\n",
        "    b = float(input(\"Введите длину второй стороны (b): \"))\n",
        "    angle_degrees = float(input(\"Введите угол между сторонами в градусах: \"))\n",
        "\n",
        "    #Вычисление третьей стороны\n",
        "    third_side = calculate_third_side(a, b, angle_degrees)\n",
        "\n",
        "    #результат\n",
        "    print(f\"Длина третьей стороны: {third_side:.2f}\")\n",
        "\n",
        "if __name__ == \"__main__\":\n",
        "    main()"
      ]
    }
  ]
}
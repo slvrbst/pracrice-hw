{
  "nbformat": 4,
  "nbformat_minor": 0,
  "metadata": {
    "colab": {
      "provenance": []
    },
    "kernelspec": {
      "name": "python3",
      "display_name": "Python 3"
    },
    "language_info": {
      "name": "python"
    }
  },
  "cells": [
    {
      "cell_type": "code",
      "execution_count": null,
      "metadata": {
        "id": "42uYtR2D8IZI"
      },
      "outputs": [],
      "source": [
        "def number_to_words(n):\n",
        "    \"\"\"Преобразует число от 0 до 99 в пропись.\"\"\"\n",
        "    ones = [\n",
        "        \"\", \"один\", \"два\", \"три\", \"четыре\", \"пять\",\n",
        "        \"шесть\", \"семь\", \"восемь\", \"девять\",\n",
        "        \"десять\", \"одиннадцать\", \"двенадцать\",\n",
        "        \"тринадцать\", \"четырнадцать\", \"пятнадцать\",\n",
        "        \"шестнадцать\", \"семнадцать\", \"восемнадцать\",\n",
        "        \"девятнадцать\"\n",
        "    ]\n",
        "\n",
        "    tens = [\n",
        "        \"\", \"\", \"двадцать\", \"тридцать\", \"сорок\",\n",
        "        \"пятьдесят\", \"шестьдесят\", \"семьдесят\",\n",
        "        \"восемьдесят\", \"девяносто\"\n",
        "    ]\n",
        "\n",
        "    if 0 <= n < 20:\n",
        "        return ones[n]\n",
        "    elif 20 <= n < 100:\n",
        "        return tens[n // 10] + (\" \" + ones[n % 10] if n % 10 != 0 else \"\")\n",
        "    else:\n",
        "        return \"\"\n",
        "\n",
        "while True:\n",
        "    user_input = input(\"Введите число от 0 до 99: \")\n",
        "\n",
        "    if user_input.isdigit():\n",
        "        number = int(user_input)\n",
        "        if 0 <= number <= 99:\n",
        "            print(\"Вывод:\", number_to_words(number))\n",
        "        else:\n",
        "            print(\"Вы должны ввести число от 0 до 99\")\n",
        "    else:\n",
        "        print(\"Вы должны ввести число\")"
      ]
    }
  ]
}
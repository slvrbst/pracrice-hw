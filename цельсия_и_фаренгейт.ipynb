{
  "nbformat": 4,
  "nbformat_minor": 0,
  "metadata": {
    "colab": {
      "provenance": []
    },
    "kernelspec": {
      "name": "python3",
      "display_name": "Python 3"
    },
    "language_info": {
      "name": "python"
    }
  },
  "cells": [
    {
      "cell_type": "code",
      "execution_count": 5,
      "metadata": {
        "colab": {
          "base_uri": "https://localhost:8080/"
        },
        "id": "xvb90xcfzRbO",
        "outputId": "20040bee-1d42-4da5-9ed3-11b37d20af4f"
      },
      "outputs": [
        {
          "output_type": "stream",
          "name": "stdout",
          "text": [
            "Введите температуру (например, 40C или 450F): 450F\n",
            "232.22C\n"
          ]
        }
      ],
      "source": [
        "def convert_temperature(temp):\n",
        "    # Проверка на наличие символов C или F\n",
        "    if temp[-1] == 'C':\n",
        "        celsius = float(temp[:-1])\n",
        "        fahrenheit = (celsius * 9/5) + 32\n",
        "        return f\"{fahrenheit:.2f}F\"\n",
        "    elif temp[-1] == 'F':\n",
        "        fahrenheit = float(temp[:-1])\n",
        "        celsius = (fahrenheit - 32) * 5/9\n",
        "        return f\"{celsius:.2f}C\"\n",
        "    else:\n",
        "        return \"Некорректный ввод. Используйте формат C или F.\"\n",
        "\n",
        "# Запрос ввода у пользователя\n",
        "user_input = input(\"Введите температуру (например, 40C или 450F): \")\n",
        "result = convert_temperature(user_input)\n",
        "print(result)"
      ]
    }
  ]
}